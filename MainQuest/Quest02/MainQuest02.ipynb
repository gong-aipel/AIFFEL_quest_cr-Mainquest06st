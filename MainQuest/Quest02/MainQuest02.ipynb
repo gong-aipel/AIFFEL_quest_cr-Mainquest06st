{
  "nbformat": 4,
  "nbformat_minor": 0,
  "metadata": {
    "colab": {
      "provenance": [],
      "authorship_tag": "ABX9TyOzbn9ZgyH5K3TxNHHOsLHs",
      "include_colab_link": true
    },
    "kernelspec": {
      "name": "python3",
      "display_name": "Python 3"
    },
    "language_info": {
      "name": "python"
    }
  },
  "cells": [
    {
      "cell_type": "markdown",
      "metadata": {
        "id": "view-in-github",
        "colab_type": "text"
      },
      "source": [
        "<a href=\"https://colab.research.google.com/github/jong104b-kr/AIFFEL_quest_cr/blob/master/MainQuest/Quest02/MainQuest02.ipynb\" target=\"_parent\"><img src=\"https://colab.research.google.com/assets/colab-badge.svg\" alt=\"Open In Colab\"/></a>"
      ]
    },
    {
      "cell_type": "code",
      "execution_count": null,
      "metadata": {
        "id": "eNp89jSgGvv1"
      },
      "outputs": [],
      "source": [
        "# 1. 기본 모델이 동작하는 코드 제출 : 1점"
      ]
    },
    {
      "cell_type": "code",
      "source": [
        "# 기본 모델은 Feature Engineering을 수행하기 전 Decision Tree 모델을 의미함"
      ],
      "metadata": {
        "id": "F8A3hKQmHrBM"
      },
      "execution_count": null,
      "outputs": []
    },
    {
      "cell_type": "code",
      "source": [
        "from sklearn.tree import DecisionTreeClassifier # 의사 결정 트리 모델 : sklearn 패키지의 DecisionTreeClassifier 모듈로 호출"
      ],
      "metadata": {
        "id": "KY_LXbwNI45u"
      },
      "execution_count": null,
      "outputs": []
    },
    {
      "cell_type": "code",
      "source": [
        "model = DecisionTreeClassifier(random_state=25) # 모델 정의, random_state는 모델의 랜덤성을 제어"
      ],
      "metadata": {
        "id": "ehL0ar3xJuKR"
      },
      "execution_count": null,
      "outputs": []
    },
    {
      "cell_type": "code",
      "source": [
        "# 2. 데이터 전처리 : 1점"
      ],
      "metadata": {
        "id": "N_wEL-EsHzAU"
      },
      "execution_count": null,
      "outputs": []
    },
    {
      "cell_type": "code",
      "source": [
        "# 전처리 수행에 대한 설명이 각 과정에 포함되어야 함"
      ],
      "metadata": {
        "id": "JFlaj5BdIFyF"
      },
      "execution_count": null,
      "outputs": []
    },
    {
      "cell_type": "code",
      "source": [
        "pokemon[\"name_count\"] = pokemon[\"Name\"].apply(lambda i: len(i)) # (1) 이름의 길이가 10 이상인가 아닌가"
      ],
      "metadata": {
        "id": "gNYVNXv-KUF1"
      },
      "execution_count": null,
      "outputs": []
    },
    {
      "cell_type": "code",
      "source": [
        "pokemon[\"long_name\"] = pokemon[\"name_count\"] >= 10 # 이름의 길이가 10 이상이면 True, 미만이면 False 인 long_name 컬럼 생성"
      ],
      "metadata": {
        "id": "P_zaOMmHKlL-"
      },
      "execution_count": null,
      "outputs": []
    },
    {
      "cell_type": "code",
      "source": [
        "pokemon[\"Name_nospace\"] = pokemon[\"Name\"].apply(lambda i: i.replace(\" \", \"\")) # 알파벳 체크를 위해 띄어쓰기가 없는 컬럼을 따로 만든 후, 띄어쓰기를 빈칸으로 처리해서 확인"
      ],
      "metadata": {
        "id": "H7WUgxbiKtLM"
      },
      "execution_count": null,
      "outputs": []
    },
    {
      "cell_type": "code",
      "source": [
        "pokemon[\"name_isalpha\"] = pokemon[\"Name_nospace\"].apply(lambda i: i.isalpha()) # isalpha() 함수를 이용해 이름이 알파벳으로만 이루어졌는지 확인"
      ],
      "metadata": {
        "id": "nv_unDQnK7va"
      },
      "execution_count": null,
      "outputs": []
    },
    {
      "cell_type": "code",
      "source": [
        "print(pokemon[pokemon[\"name_isalpha\"] == False].shape) # 알파벳에 해당하지 않는 다른 문자가 이름에 포함된 경우"
      ],
      "metadata": {
        "id": "XFSzVGzeLCLx"
      },
      "execution_count": null,
      "outputs": []
    },
    {
      "cell_type": "code",
      "source": [
        "for t in types: # Type별로 원-핫 인코딩"
      ],
      "metadata": {
        "id": "2tlb5EFrLzxM"
      },
      "execution_count": null,
      "outputs": []
    },
    {
      "cell_type": "code",
      "source": [
        "    pokemon[t] = (pokemon[\"Type 1\"] == t) | (pokemon[\"Type 2\"] == t)"
      ],
      "metadata": {
        "id": "aguC8uxoL55R"
      },
      "execution_count": null,
      "outputs": []
    },
    {
      "cell_type": "code",
      "source": [
        "# 3. 베이스라인 모델 학습 성공 및 분석 : 1점"
      ],
      "metadata": {
        "id": "-aEsKd36IKBg"
      },
      "execution_count": null,
      "outputs": []
    },
    {
      "cell_type": "code",
      "source": [
        "# 베이스라인 모델은 feature engineering을 수행한 이후의 Decision Tree모델을 의미함"
      ],
      "metadata": {
        "id": "8PTOw-hZIOos"
      },
      "execution_count": null,
      "outputs": []
    },
    {
      "cell_type": "code",
      "source": [
        "model = DecisionTreeClassifier(random_state=25)"
      ],
      "metadata": {
        "id": "5jYwzUATLZFN"
      },
      "execution_count": null,
      "outputs": []
    },
    {
      "cell_type": "code",
      "source": [
        "model.fit(X_train, y_train) # train 데이터로 decision tree 모델을 학습시키고, test 데이터로 모델의 예측 값을 얻기"
      ],
      "metadata": {
        "id": "Lh9SBA6_MhDp"
      },
      "execution_count": null,
      "outputs": []
    },
    {
      "cell_type": "code",
      "source": [
        "y_pred = model.predict(X_test)"
      ],
      "metadata": {
        "id": "c0N6aaifMpM_"
      },
      "execution_count": null,
      "outputs": []
    },
    {
      "cell_type": "code",
      "source": [
        "from sklearn.metrics import confusion_matrix # confusion matrix 확인"
      ],
      "metadata": {
        "id": "53C1rFAMMs1W"
      },
      "execution_count": null,
      "outputs": []
    },
    {
      "cell_type": "code",
      "source": [
        "confusion_matrix(y_test, y_pred)"
      ],
      "metadata": {
        "id": "xZ2lVdjEM_l_"
      },
      "execution_count": null,
      "outputs": []
    },
    {
      "cell_type": "code",
      "source": [
        "from sklearn.metrics import classification_report # classification report 확인"
      ],
      "metadata": {
        "id": "baK6gyFWNJE9"
      },
      "execution_count": null,
      "outputs": []
    },
    {
      "cell_type": "code",
      "source": [
        "print(classification_report(y_test, y_pred))"
      ],
      "metadata": {
        "id": "-jCA_UGvNNAW"
      },
      "execution_count": null,
      "outputs": []
    },
    {
      "cell_type": "code",
      "source": [
        "# 4. 비교 모델 학습 성공 및 비교 분석 : 1점"
      ],
      "metadata": {
        "id": "mz5smEnyIR7L"
      },
      "execution_count": null,
      "outputs": []
    },
    {
      "cell_type": "code",
      "source": [
        "# 비교모델은 Decision Tree 이외의 분류 모델을 의미함"
      ],
      "metadata": {
        "id": "FfSu_UmEIU44"
      },
      "execution_count": null,
      "outputs": []
    },
    {
      "cell_type": "code",
      "source": [
        "from sklearn.ensemble import RandomForestClassifier # 의사 결정 트리 모델 : sklearn 패키지의 RandomForestClassifier 모듈로 호출"
      ],
      "metadata": {
        "id": "0MwJeGf3NkOD"
      },
      "execution_count": null,
      "outputs": []
    },
    {
      "cell_type": "code",
      "source": [
        "model = RandomForestClassifier(n_estimators=500, max_leaf_nodes=16, random_state=25) # 모델 정의, random_state는 모델의 랜덤성을 제어"
      ],
      "metadata": {
        "id": "PS6vkvmAOKMU"
      },
      "execution_count": null,
      "outputs": []
    },
    {
      "cell_type": "code",
      "source": [
        "model.fit(X_train, y_train) # train 데이터로 decision tree 모델을 학습"
      ],
      "metadata": {
        "id": "ZlwzJUjZOZMw"
      },
      "execution_count": null,
      "outputs": []
    },
    {
      "cell_type": "code",
      "source": [
        "y_pred = model.predict(X_test) # test 데이터로 모델의 예측 값을 얻기"
      ],
      "metadata": {
        "id": "r1VsGC3ROjgh"
      },
      "execution_count": null,
      "outputs": []
    },
    {
      "cell_type": "code",
      "source": [
        "# 5. 보고서 양식 : 1점 ★"
      ],
      "metadata": {
        "id": "2T3GuaI2IX5a"
      },
      "execution_count": null,
      "outputs": []
    },
    {
      "cell_type": "code",
      "source": [
        "# 보고서란 체계적인 노드 수행 결과를 텍스트로 정리한 내용이 포함된 Notebook파일을 의미함"
      ],
      "metadata": {
        "id": "BXeXQAIRIcS7"
      },
      "execution_count": null,
      "outputs": []
    },
    {
      "cell_type": "code",
      "source": [
        "# 노드수행 결과:개요, 목차, 주석 및 의견, summary, 회고, reference 등"
      ],
      "metadata": {
        "id": "nOD6291PIfTO"
      },
      "execution_count": null,
      "outputs": []
    },
    {
      "cell_type": "code",
      "source": [
        "# 개요 - 퀘스트 슬라이드를 차례로 위에서부터 아래로 해당하는 코드 작성 및 주석 첨부"
      ],
      "metadata": {
        "id": "nu5IBdGPO1PL"
      },
      "execution_count": null,
      "outputs": []
    },
    {
      "cell_type": "code",
      "source": [
        "# 목차 - 1. 기본 모델이 동작하는 코드 제출, 2. 데이터 전처리, 3. 베이스라인 모델 학습 성공 및 분석, 4. 비교 모델 학습 성공 및 비교 분석, 5.보고서 양식"
      ],
      "metadata": {
        "id": "vN6J6LNRPCAi"
      },
      "execution_count": null,
      "outputs": []
    },
    {
      "cell_type": "code",
      "source": [
        "# 주석 및 의견 - 해당코드 우측에 작성함"
      ],
      "metadata": {
        "id": "_5JyXSJZPTC8"
      },
      "execution_count": null,
      "outputs": []
    },
    {
      "cell_type": "code",
      "source": [
        "# summary - 이론 이외 실습과정을 배운다는 생각으로 메인퀘스트를 수행함, 시간과 연습량이 모자라다고 판단함."
      ],
      "metadata": {
        "id": "2NfGb1JSPXPG"
      },
      "execution_count": null,
      "outputs": []
    },
    {
      "cell_type": "code",
      "source": [
        "# 회고 - lms 노드에서 X, y 변수를 파이선 문법으로 설정하는 과정이 자료형과 겹쳐 헷갈렸습니다. 그 부분을 다시 학습하고 넘어와야 이후 과정들을 수행하는데 문제가 없으리라 생각합니다."
      ],
      "metadata": {
        "id": "0GEPN-CHPkqV"
      },
      "execution_count": null,
      "outputs": []
    },
    {
      "cell_type": "code",
      "source": [
        "# reference 등"
      ],
      "metadata": {
        "id": "fcL3wD98P492"
      },
      "execution_count": null,
      "outputs": []
    },
    {
      "cell_type": "code",
      "source": [
        "# 1. https://joowon582.tistory.com/160"
      ],
      "metadata": {
        "id": "rVK3sRUmP79N"
      },
      "execution_count": null,
      "outputs": []
    }
  ]
}