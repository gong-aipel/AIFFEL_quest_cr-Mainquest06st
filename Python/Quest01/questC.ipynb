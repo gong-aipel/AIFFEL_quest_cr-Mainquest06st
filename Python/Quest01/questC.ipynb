{
  "nbformat": 4,
  "nbformat_minor": 0,
  "metadata": {
    "colab": {
      "provenance": [],
      "include_colab_link": true
    },
    "kernelspec": {
      "name": "python3",
      "display_name": "Python 3"
    },
    "language_info": {
      "name": "python"
    }
  },
  "cells": [
    {
      "cell_type": "markdown",
      "metadata": {
        "id": "view-in-github",
        "colab_type": "text"
      },
      "source": [
        "<a href=\"https://colab.research.google.com/github/jong104b-kr/AIFFEL_quest_cr/blob/master/questC.ipynb\" target=\"_parent\"><img src=\"https://colab.research.google.com/assets/colab-badge.svg\" alt=\"Open In Colab\"/></a>"
      ]
    },
    {
      "cell_type": "code",
      "execution_count": 1,
      "metadata": {
        "id": "fuaJU116XI6T",
        "colab": {
          "base_uri": "https://localhost:8080/"
        },
        "outputId": "eae7ac54-ceb8-40cc-b86a-8c2bbf7a8644"
      },
      "outputs": [
        {
          "output_type": "stream",
          "name": "stdout",
          "text": [
            "단어 입력 : 우영우\n",
            "뒤집힌 단어는: 우영우\n",
            "입력된 단어는: 우영우\n",
            "회문입니다.\n"
          ]
        }
      ],
      "source": [
        "# 1. 숫자, 단어를 하나 입력받는다, 함수이용\n",
        "# 2. 입력받은 단어를 하나의 리스트에 넣는다.\n",
        "# 3. 다른 리스트에 뒤집어서 2번의 값을 넣는다.\n",
        "# 4. 2,3이 같으면(회문이라면)\n",
        "# 5. 회문입니다.\n",
        "\n",
        "# n = input(\"단어 입력 : \")\n",
        "# s = str(n)\n",
        "# length = len(s)\n",
        "# for i in range(0,length-1):\n",
        "#  r[i] = n // (10*i)\n",
        "\n",
        "# for j in range(length-1,0):\n",
        "#  r1[j] = n // (10*j)\n",
        "\n",
        "# if r==r1 :\n",
        "#  print('회문입니다.')\n",
        "# else :\n",
        "#  print('회문이 아닙니다.')\n",
        "\n",
        "\n",
        "n = input(\"단어 입력 : \")\n",
        "r = n[::-1]\n",
        "print(\"뒤집힌 단어는:\", r)\n",
        "print(\"입력된 단어는:\", n)\n",
        "if n==r:\n",
        "  print(\"회문입니다.\")\n",
        "else:\n",
        "  print(\"회문이 아닙니다.\")\n",
        "\n",
        "\n",
        "\n",
        "  # reversed_word = word[::-1]"
      ]
    }
  ]
}