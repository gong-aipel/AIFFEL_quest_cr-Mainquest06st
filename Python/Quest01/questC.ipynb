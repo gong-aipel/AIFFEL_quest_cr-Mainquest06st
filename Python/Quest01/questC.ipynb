# 1. 숫자, 단어를 하나 입력받는다, 함수이용
# 2. 입력받은 단어를 하나의 리스트에 넣는다.
# 3. 다른 리스트에 뒤집어서 2번의 값을 넣는다.
# 4. 2,3이 같으면(회문이라면)
# 5. 회문입니다.

# n = input("단어 입력 : ")
# s = str(n)
# length = len(s)
# for i in range(0,length-1):
#  r[i] = n // (10*i)

# for j in range(length-1,0):
#  r1[j] = n // (10*j)

# if r==r1 :
#  print('회문입니다.')
# else :
#  print('회문이 아닙니다.')


n = input("단어 입력 : ")
r = n[::-1]
print("뒤집힌 단어는:", r)
print("입력된 단어는:", n)
if n==r:
  print("회문입니다.")
else:
  print("회문이 아닙니다.")



  # reversed_word = word[::-1]
