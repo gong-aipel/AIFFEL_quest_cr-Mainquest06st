{
  "nbformat": 4,
  "nbformat_minor": 0,
  "metadata": {
    "colab": {
      "provenance": [],
      "include_colab_link": true
    },
    "kernelspec": {
      "name": "python3",
      "display_name": "Python 3"
    },
    "language_info": {
      "name": "python"
    }
  },
  "cells": [
    {
      "cell_type": "markdown",
      "metadata": {
        "id": "view-in-github",
        "colab_type": "text"
      },
      "source": [
        "<a href=\"https://colab.research.google.com/github/jong104b-kr/AIFFEL_quest_cr/blob/master/Python/Quest03/0114_PythonQuest03.ipynb\" target=\"_parent\"><img src=\"https://colab.research.google.com/assets/colab-badge.svg\" alt=\"Open In Colab\"/></a>"
      ]
    },
    {
      "cell_type": "markdown",
      "source": [
        "# [파이썬] 퀘스트: 클로저를 활용한 문제해결하기\n",
        "\n",
        "난이도: ★★★★☆  \n",
        "장르: nonlocal, 클로저, 데코레이터 활용  \n",
        "\n",
        "---\n",
        "\n",
        "\n"
      ],
      "metadata": {
        "id": "sPRcyZsPorCm"
      }
    },
    {
      "cell_type": "markdown",
      "source": [
        "## 문제 1. 최댓값과 최솟값 찾기\n",
        "\n"
      ],
      "metadata": {
        "id": "Dh2vcnApr4VI"
      }
    },
    {
      "cell_type": "markdown",
      "source": [
        "조건:  \n",
        "* 주어진 리스트의 최댓값과 최솟값을 반환하는 클로저 함수를 완성해 주세요.\n",
        "    * 주어진 숫자 리스트 numbers에 대해 find_min_max 함수를 호출하면 find_min과 find_max 함수를 얻을 수 있습니다.\n",
        "    * find_min() 함수를 호출하면 최솟값을, find_max()함수를 호출하면 최댓값을 반환합니다.\n",
        "    * 클로저를 사용하여 min_value와 max_value 변수를 외부에 노출하지 않고도 최솟값과 최대값을 찾을 수 있습니다.\n",
        "    * find_min_max 함수가 호출된 이후에도 find_min과 find_max 함수를 통해 min_value와 max_value 변수에 접근할 수 있습니다.\n",
        "* 주석으로 구현 내용이 써있는 부분을 코드로 채워주세요.\n",
        "---\n",
        "입력:\n",
        "```python\n",
        "numbers = [10, 5, 8, 12, 3, 7]\n",
        "find_min, find_max = find_min_max(numbers)\n",
        "\n",
        "print(\"최솟값:\", find_min())  \n",
        "print(\"최댓값:\", find_max())  \n",
        "```\n",
        "---\n",
        "출력:\n",
        "```\n",
        "3\n",
        "12\n",
        "```\n"
      ],
      "metadata": {
        "id": "d-vXJztpvFD-"
      }
    },
    {
      "cell_type": "code",
      "source": [
        "numbers = [1010, 5, 8, 12, 3, 7, 123]\n",
        "\n",
        "def find_min_max(numbers):\n",
        "    # min_value와 max_value 변수를 초기화\n",
        "    # min_value는 양의 무한대(float('inf'))로 초기화하여 어떤 숫자보다도 큰 값으로 설정\n",
        "    min_value = float('inf')\n",
        "    # max_value는 음의 무한대(float('-inf'))로 초기화하여 어떤 숫자보다도 작은 값으로 설정\n",
        "    max_value = float('-inf')\n",
        "\n",
        "    def update_min_max(num):\n",
        "        # 외부함수의 변수인 min_value, max_value 참조\n",
        "        # 만약 num 값이 min_value보다 작다면 min_value를 num 값으로 변경\n",
        "        # 만약 num 값이 max_value보다 크다면 max_value를 num 값으로 변경\n",
        "        # 리스트의 어떤 수에 대해서, 무한대보다 항상 작거나 음의 무한대보다 항상 크기 때문에\n",
        "        # min을 예시로 들면, 무조건 num이 min_value보다 작게 구성하여 첫 min_value를 리스트의 첫 숫자가\n",
        "        # 대입되도록 구성함\n",
        "        # 클로저의 특성상 아래 for문이 돌아갈 때 min_value는 항상 함수를 지나간 값들 중 가장 작은 값으로 기억됨\n",
        "\n",
        "        nonlocal min_value, max_value\n",
        "        if num < min_value:\n",
        "          min_value = num\n",
        "        if num > max_value:\n",
        "          max_value = num\n",
        "\n",
        "    # numbers 리스트의 모든 값을 순환하며 최댓값과 최솟값 업데이트\n",
        "\n",
        "    for num in numbers:\n",
        "      update_min_max(num)\n",
        "\n",
        "    # for문을 처음 지나가는 num(리스트의 첫 요소)은 min_value와 max_value 모두를 업데이트 하게 됨(if 만 두개 사용했기 때문에)\n",
        "    # 다음부터 지나가는 숫자들은 각각 부등호 조건에 따라 리스트의 첫 숫자와 비교되어 각각의 nonlocal 변수를 수정\n",
        "    # for문의 결과로 외부함수의 변수 min_value와 max_value는 각각 리스트의 최소값과 최대값이 저장되어있음\n",
        "\n",
        "    # ( 갱신된 )최솟값을 반환하는 내부함수\n",
        "    def get_min():\n",
        "      return min_value\n",
        "\n",
        "    # ( 갱신된 )최댓값을 반환하는 내부함수\n",
        "    def get_max():\n",
        "      return max_value\n",
        "\n",
        "    return get_min, get_max\n",
        "\n",
        "    # 외부함수는 내부함수(get_min()과 get_max())를 반환\n",
        "\n",
        "\n",
        "find_min, find_max = find_min_max(numbers)      # find_min_max()에서 return받은 순서대로 get_min과 get_max가 호출됨\n",
        "                                                # 해당 코드에서 find_min, find_max의 순서를 뒤집으면 결과물도 뒤집힘\n",
        "print(\"최솟값:\", find_min())\n",
        "print(\"최댓값:\", find_max())"
      ],
      "metadata": {
        "id": "oF_uYyS2jjPj",
        "colab": {
          "base_uri": "https://localhost:8080/"
        },
        "outputId": "35666440-6dae-4d9c-e004-f21532e27153"
      },
      "execution_count": null,
      "outputs": [
        {
          "output_type": "stream",
          "name": "stdout",
          "text": [
            "최솟값: 3\n",
            "최댓값: 123\n"
          ]
        }
      ]
    },
    {
      "cell_type": "markdown",
      "source": [
        "#### 정원규:   \n",
        "1. 코드가 일부 완성되어있었기 때문에 반쯤 퍼즐 맞추기 느낌으로 작성해버렸는데,   \n",
        "백지 상태에서 작성하려면 조금의 이해가 더 필요할 것 같다.   \n",
        "2. 무한대와 음의 무한대로 첫 비교를 세팅하는 지점은 힌트가 없었다면 구상하지 못했을 것 같다.\n",
        "3. 코드를 맞춰가며? 역으로 이해하는 과정이 재미있었다\n",
        "\n",
        "#### 변종현:   \n",
        "1. 우선 원래 함께 모임을 했던 원규님과 페어가 되어 오늘 여러가지 일로 마음이 많이 복잡했지만 도움을 받아 진행을 하였다.\n",
        "2. a,b = b,a로 순차로 치환하는 연산이 파이선에서 제공되어 그 기능을 매개변수로 함수에서 활용하는 과정을 보았다.\n",
        "3. 분기문을 두번 순차로 진행하는 과정을 보았다.\n",
        "4. 다음 번에는 조금 더 준비해서 과제를 직접 함께 해보고 싶다."
      ],
      "metadata": {
        "id": "00iCfis-klsg"
      }
    },
    {
      "cell_type": "markdown",
      "source": [
        "## 문제 2. 함수의 호출 횟수를 세는 데코레이터"
      ],
      "metadata": {
        "id": "d3XECsmXwES5"
      }
    },
    {
      "cell_type": "markdown",
      "source": [
        "지난 시간에 배운 데코레이터를 기억하시나요? 데코레이터도 내부함수를 반환하는 클로저를 활용한 문법입니다. 클로저를 활용하여 함수 호출 횟수를 출력하는 데코레이터를 만들어봅시다.\n",
        "\n",
        "조건:\n",
        "* 함수가 실행될 때 마다 함수 이름과 실행 횟수를 출력하는 데코레이터 `counter` 만들기  \n",
        "\n",
        "힌트:\n",
        "* 데코레이터의 내부 함수(클로저)는 실행횟수를 기억하기 위해 외부 함수의 변수를 참조 해야 합니다\n",
        "* 함수의 이름은 `함수이름.__name__`으로 접근할 수 있습니다.\n",
        "\n",
        "---\n",
        "입력:\n",
        "```python\n",
        "@counter\n",
        "def say_hello():\n",
        "    print(\"Hello Aiffel!\")\n",
        "\n",
        "for i in range(5):\n",
        "    say_hello()\n",
        "```\n",
        "---\n",
        "출력:\n",
        "```\n",
        "Hello Aiffel!\n",
        "say_hello 실행횟수: 1\n",
        "Hello Aiffel!\n",
        "say_hello 실행횟수: 2\n",
        "Hello Aiffel!\n",
        "say_hello 실행횟수: 3\n",
        "Hello Aiffel!\n",
        "say_hello 실행횟수: 4\n",
        "Hello Aiffel!\n",
        "say_hello 실행횟수: 5\n",
        "```"
      ],
      "metadata": {
        "id": "HTdH6DkVvJMF"
      }
    },
    {
      "cell_type": "code",
      "source": [
        "def counter(fn):      # fn = say_hello()\n",
        "  count = 0\n",
        "  def countAdd(*arg, **kwargs):\n",
        "    nonlocal count\n",
        "    count += 1        # 외부 함수의 변수를 참조해서 count에 1씩 추가해 저장함\n",
        "    print(\"say_hello 실행횟수:\", count)\n",
        "    return fn(*arg, **kwargs)   # 데코레이터 함수 반환시 사용? *보충 필요\n",
        "\n",
        "  return countAdd\n",
        "\n",
        "# count1 = counter()\n",
        "\n",
        "\n",
        "@counter\n",
        "def say_hello():\n",
        "    print(\"Hello Aiffel!\")\n",
        "\n",
        "for i in range(5):\n",
        "    say_hello()\n",
        "\n",
        "# 결과물의 Hello Aiffel!과 say_hello 실행횟수 출력이 예시와 반대로 일어남\n",
        "# 출력 자체는 작동함\n",
        "\n",
        "# 파이썬은 함수 위에 @ + 함수명이 있으면 데코레이터로 인식함\n",
        "# 실패 사례\n",
        "# def say_hello() 위에 @counter 코드를 작성했더니 TypeError: counter() takes 0 positional arguments but 1 was given 출력됨\n",
        "# print(\"say_hello 실행횟수:\", count1())를 직접 for문 안에 넣어도 실행은 가능하지만 데코레이터를 이용한 작성방법이 아님\n",
        "# say_hello.__name__을 countAdd 내에서 선언했더니 countAdd가 print됨\n",
        "# 함수이름.__name__ 어떻게 사용해야 할지 잘 모르겠음\n",
        "# *arg **kwargs 잘 모르겠음"
      ],
      "metadata": {
        "id": "QYdFtnf-MOCg",
        "colab": {
          "base_uri": "https://localhost:8080/"
        },
        "outputId": "2548a233-a60c-4322-993a-287442efa1ad"
      },
      "execution_count": null,
      "outputs": [
        {
          "output_type": "stream",
          "name": "stdout",
          "text": [
            "say_hello 실행횟수: 1\n",
            "Hello Aiffel!\n",
            "say_hello 실행횟수: 2\n",
            "Hello Aiffel!\n",
            "say_hello 실행횟수: 3\n",
            "Hello Aiffel!\n",
            "say_hello 실행횟수: 4\n",
            "Hello Aiffel!\n",
            "say_hello 실행횟수: 5\n",
            "Hello Aiffel!\n"
          ]
        }
      ]
    },
    {
      "cell_type": "markdown",
      "source": [
        "#### 정원규:   \n",
        "1. 간단할 것 같았던 데코레이터 사용법이 생각보다 복잡해서 공부를 더 해야 할 것 같다.   \n",
        "2. 인자로 사용해야 하는 *arg **kwargs에 대한 이해가 부족했다.   \n",
        "3. 출력 자체는 구현했지만 순서가 뒤집혀서 아쉽다.\n",
        "\n",
        "#### 변종현:   \n",
        "1. 두번째 문제는 데코레이터 개념이 아직 익숙하지 않아 적용하는데 조금 시간이 걸릴 것 같다.\n",
        "2. 코드는 틀리더라도 스스로 짜보는 시행착오 과정이 다 학습의 일부분이라고 생각해 오늘 쉬는 시간을 통해서라도 복기하고 싶다.\n",
        "3. 관계로 하루하루가 조금씩 복잡하지만 맞이하는 나날을 해결해 나가고 싶다."
      ],
      "metadata": {
        "id": "mP2bsimIyFH8"
      }
    },
    {
      "cell_type": "markdown",
      "source": [],
      "metadata": {
        "id": "S6QEX5zSsGrz"
      }
    }
  ]
}