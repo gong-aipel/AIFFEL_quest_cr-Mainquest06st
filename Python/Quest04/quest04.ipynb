{
  "nbformat": 4,
  "nbformat_minor": 0,
  "metadata": {
    "colab": {
      "provenance": [],
      "include_colab_link": true
    },
    "kernelspec": {
      "name": "python3",
      "display_name": "Python 3"
    },
    "language_info": {
      "name": "python"
    }
  },
  "cells": [
    {
      "cell_type": "markdown",
      "metadata": {
        "id": "view-in-github",
        "colab_type": "text"
      },
      "source": [
        "<a href=\"https://colab.research.google.com/github/jong104b-kr/AIFFEL_quest_cr/blob/master/Python/Quest04/quest04.ipynb\" target=\"_parent\"><img src=\"https://colab.research.google.com/assets/colab-badge.svg\" alt=\"Open In Colab\"/></a>"
      ]
    },
    {
      "cell_type": "code",
      "execution_count": 12,
      "metadata": {
        "id": "rK846rcCjI_e",
        "colab": {
          "base_uri": "https://localhost:8080/"
        },
        "outputId": "744ca629-f2fd-42d3-8da4-6b115b69e957"
      },
      "outputs": [
        {
          "output_type": "stream",
          "name": "stdout",
          "text": [
            "첫 번째 정수를 입력하세요.:2\n",
            "두 번째 정수를 입력하세요.:4\n",
            "수행할 연산을 선택하세요. +,-,*,/,**+\n",
            "프로그램 종료를 원하실 경우 0을 먼저 입력해주세요.\n",
            "2는 정수입니다. 연산을 시작합니다.\n",
            "4는 정수입니다. 연산을 시작합니다.\n",
            "계산을 계속 하시려면 아무 키나 누르세요. 종료하려면 '0'을 누르세요.\n",
            "두 수를 더한 값은 6입니다.\n"
          ]
        }
      ],
      "source": [
        "# 퀘스트 4번\n",
        "# 계산기를 통해 계속 계산을 할 것인지 입력을 받는다.\n",
        "num1 = int(input(\"첫 번째 정수를 입력하세요.:\"))\n",
        "num2 = int(input(\"두 번째 정수를 입력하세요.:\"))\n",
        "# 연산자 입력\n",
        "op = input(\"수행할 연산을 선택하세요. +,-,*,/,**\")\n",
        "# 수행종료 시 사용할 변수\n",
        "quit = 1\n",
        "print(f\"프로그램 종료를 원하실 경우 0을 먼저 입력해주세요.\")\n",
        "\n",
        "# math모듈 가져오기, **(제곱)연산 호출 가능\n",
        "import math\n",
        "\n",
        "# print(num1) - num1 확인\n",
        "# print(num2) - num2 확인\n",
        "\n",
        "# 입력받은 숫자가 정수인지 확인, 입력값이 정수가 아닐 때 다시 입력받는 절차 추가 필요\n",
        "if isinstance(num1, int):\n",
        "  print(f\"{num1}는 정수입니다. 연산을 시작합니다.\")\n",
        "else:\n",
        "  print(f\"{num1}는 정수가 아닙니다. 정수를 입력해주세요.\")\n",
        "\n",
        "if isinstance(num2, int):\n",
        "  print(f\"{num2}는 정수입니다. 연산을 시작합니다.\")\n",
        "else:\n",
        "  print(f\"{num2}는 정수가 아닙니다. 정수를 입력해주세요.\")\n",
        "\n",
        "while(quit):\n",
        "  quit = input(\"계산을 계속 하시려면 아무 키나 누르세요. 종료하려면 '0'을 누르세요.\")\n",
        "  if( quit == '0'):\n",
        "    print(\"프로그램을 종료합니다.\")\n",
        "    break;\n",
        "  # 덧셈 연산을 선택할 경우\n",
        "  if op == '+':\n",
        "    ans = num1 + num2\n",
        "    print(f\"두 수를 더한 값은 {ans}입니다.\")\n",
        "  # 뺄셈 연산을 선택할 경우\n",
        "  elif op == '-':\n",
        "    ans = num1 - num2\n",
        "    print(f\"두 수를 뺀 값은 {ans}입니다.\")\n",
        "  # 곱셈 연산을 선택할 경우\n",
        "  elif op == '*':\n",
        "    ans = num1 * num2\n",
        "    print(f\"두 수를 곱한 값은 {ans}입니다.\")\n",
        "  # 나눗셈 연산을 선택할 경우\n",
        "  elif op == '/':\n",
        "    # 나눗셈 연산시 두번째 숫자가 0인 경우 반복문 종료\n",
        "    if(num2 == 0):\n",
        "      print(\"분모가 0입니다.\")\n",
        "      break;\n",
        "    ans = num1 / num2\n",
        "    print(f\"두 수를 나눈 값은 {ans}입니다.\")\n",
        "  # 제곱 연산을 선택할 경우\n",
        "  elif op == '**':\n",
        "    ans = num1^num2\n",
        "    print(f\"두 수를 제곱한 값은 {ans}입니다.\")\n",
        "  else:\n",
        "    print(\"프로그램을 종료합니다. 다시 시작해주세요.\")\n"
      ]
    }
  ]
}