{
  "nbformat": 4,
  "nbformat_minor": 0,
  "metadata": {
    "colab": {
      "provenance": [],
      "mount_file_id": "1MLZqvJgo8OSpKo59SuuYkMzFk44UPOGQ",
      "authorship_tag": "ABX9TyPoRVIucHpNQ1pQEX7yINzI",
      "include_colab_link": true
    },
    "kernelspec": {
      "name": "python3",
      "display_name": "Python 3"
    },
    "language_info": {
      "name": "python"
    }
  },
  "cells": [
    {
      "cell_type": "markdown",
      "metadata": {
        "id": "view-in-github",
        "colab_type": "text"
      },
      "source": [
        "<a href=\"https://colab.research.google.com/github/jong104b-kr/AIFFEL_quest_cr/blob/master/dlthonm1.ipynb\" target=\"_parent\"><img src=\"https://colab.research.google.com/assets/colab-badge.svg\" alt=\"Open In Colab\"/></a>"
      ]
    },
    {
      "cell_type": "code",
      "execution_count": 2,
      "metadata": {
        "id": "Qmh8wIx7LTEu"
      },
      "outputs": [],
      "source": [
        "!mkdir ~/aiffel/jellyfish"
      ]
    },
    {
      "cell_type": "code",
      "source": [
        "!pip install kaggle"
      ],
      "metadata": {
        "colab": {
          "base_uri": "https://localhost:8080/"
        },
        "id": "aSbViWdqQkD-",
        "outputId": "aeae0f25-2255-42a2-ea4d-3b791fdac708"
      },
      "execution_count": 3,
      "outputs": [
        {
          "output_type": "stream",
          "name": "stdout",
          "text": [
            "Requirement already satisfied: kaggle in /usr/local/lib/python3.11/dist-packages (1.7.4.2)\n",
            "Requirement already satisfied: bleach in /usr/local/lib/python3.11/dist-packages (from kaggle) (6.2.0)\n",
            "Requirement already satisfied: certifi>=14.05.14 in /usr/local/lib/python3.11/dist-packages (from kaggle) (2025.1.31)\n",
            "Requirement already satisfied: charset-normalizer in /usr/local/lib/python3.11/dist-packages (from kaggle) (3.4.1)\n",
            "Requirement already satisfied: idna in /usr/local/lib/python3.11/dist-packages (from kaggle) (3.10)\n",
            "Requirement already satisfied: protobuf in /usr/local/lib/python3.11/dist-packages (from kaggle) (5.29.4)\n",
            "Requirement already satisfied: python-dateutil>=2.5.3 in /usr/local/lib/python3.11/dist-packages (from kaggle) (2.8.2)\n",
            "Requirement already satisfied: python-slugify in /usr/local/lib/python3.11/dist-packages (from kaggle) (8.0.4)\n",
            "Requirement already satisfied: requests in /usr/local/lib/python3.11/dist-packages (from kaggle) (2.32.3)\n",
            "Requirement already satisfied: setuptools>=21.0.0 in /usr/local/lib/python3.11/dist-packages (from kaggle) (75.2.0)\n",
            "Requirement already satisfied: six>=1.10 in /usr/local/lib/python3.11/dist-packages (from kaggle) (1.17.0)\n",
            "Requirement already satisfied: text-unidecode in /usr/local/lib/python3.11/dist-packages (from kaggle) (1.3)\n",
            "Requirement already satisfied: tqdm in /usr/local/lib/python3.11/dist-packages (from kaggle) (4.67.1)\n",
            "Requirement already satisfied: urllib3>=1.15.1 in /usr/local/lib/python3.11/dist-packages (from kaggle) (2.3.0)\n",
            "Requirement already satisfied: webencodings in /usr/local/lib/python3.11/dist-packages (from kaggle) (0.5.1)\n"
          ]
        }
      ]
    },
    {
      "cell_type": "code",
      "source": [
        "mkdir ~/.kaggle"
      ],
      "metadata": {
        "id": "QmDkcQc-Qu7y"
      },
      "execution_count": 4,
      "outputs": []
    },
    {
      "cell_type": "code",
      "source": [
        "mv kaggle.json ~/.kaggle/kaggle.json"
      ],
      "metadata": {
        "id": "AAMqddD1TXdG"
      },
      "execution_count": 5,
      "outputs": []
    },
    {
      "cell_type": "code",
      "source": [
        "cd ~/aiffel/jellyfish"
      ],
      "metadata": {
        "colab": {
          "base_uri": "https://localhost:8080/",
          "height": 35
        },
        "id": "GO2lGKqLTajJ",
        "outputId": "cfb4caa4-d339-4af2-b0a2-4bf45952002e"
      },
      "execution_count": 7,
      "outputs": [
        {
          "output_type": "execute_result",
          "data": {
            "text/plain": [
              "'/root/aiffel/jellyfish'"
            ],
            "application/vnd.google.colaboratory.intrinsic+json": {
              "type": "string"
            }
          },
          "metadata": {},
          "execution_count": 7
        }
      ]
    },
    {
      "cell_type": "code",
      "source": [
        "!kaggle datasets download -d anshtanwar/jellyfish-types"
      ],
      "metadata": {
        "colab": {
          "base_uri": "https://localhost:8080/"
        },
        "id": "ZAn4bmlJTc_c",
        "outputId": "6a9c5913-ca1b-4236-a05f-548ea7a61cb4"
      },
      "execution_count": 8,
      "outputs": [
        {
          "output_type": "stream",
          "name": "stdout",
          "text": [
            "Warning: Your Kaggle API key is readable by other users on this system! To fix this, you can run 'chmod 600 /root/.kaggle/kaggle.json'\n",
            "Dataset URL: https://www.kaggle.com/datasets/anshtanwar/jellyfish-types\n",
            "License(s): Attribution 4.0 International (CC BY 4.0)\n"
          ]
        }
      ]
    },
    {
      "cell_type": "code",
      "source": [
        "!unzip jellyfish-types.zip"
      ],
      "metadata": {
        "colab": {
          "base_uri": "https://localhost:8080/"
        },
        "id": "7GoD_8g8UeT3",
        "outputId": "e87059a6-aa4b-475b-9b2e-544cf815bac3"
      },
      "execution_count": 9,
      "outputs": [
        {
          "output_type": "stream",
          "name": "stdout",
          "text": [
            "Archive:  jellyfish-types.zip\n",
            "  inflating: Moon_jellyfish/01.jpg   \n",
            "  inflating: Moon_jellyfish/02.jpg   \n",
            "  inflating: Moon_jellyfish/03.jpg   \n",
            "  inflating: Moon_jellyfish/04.jpg   \n",
            "  inflating: Moon_jellyfish/05.jpg   \n",
            "  inflating: Moon_jellyfish/06.jpg   \n",
            "  inflating: Moon_jellyfish/08.jpg   \n",
            "  inflating: Moon_jellyfish/10.jpg   \n",
            "  inflating: Moon_jellyfish/12.jpg   \n",
            "  inflating: Moon_jellyfish/13.jpg   \n",
            "  inflating: Moon_jellyfish/14.jpg   \n",
            "  inflating: Moon_jellyfish/16.jpg   \n",
            "  inflating: Moon_jellyfish/17.jpg   \n",
            "  inflating: Moon_jellyfish/18.jpg   \n",
            "  inflating: Moon_jellyfish/21.jpg   \n",
            "  inflating: Moon_jellyfish/22.jpg   \n",
            "  inflating: Moon_jellyfish/24.jpg   \n",
            "  inflating: Moon_jellyfish/25.jpg   \n",
            "  inflating: Moon_jellyfish/26.jpg   \n",
            "  inflating: Moon_jellyfish/28.jpg   \n",
            "  inflating: Moon_jellyfish/29.JPG   \n",
            "  inflating: Moon_jellyfish/30.jpg   \n",
            "  inflating: Moon_jellyfish/31.jpg   \n",
            "  inflating: Moon_jellyfish/32.jpg   \n",
            "  inflating: Moon_jellyfish/34.jpg   \n",
            "  inflating: Moon_jellyfish/35.jpg   \n",
            "  inflating: Moon_jellyfish/36.jpg   \n",
            "  inflating: Moon_jellyfish/37.jpg   \n",
            "  inflating: Moon_jellyfish/38.jpg   \n",
            "  inflating: Moon_jellyfish/40.jpg   \n",
            "  inflating: Moon_jellyfish/41.jpg   \n",
            "  inflating: Moon_jellyfish/42.jpg   \n",
            "  inflating: Moon_jellyfish/43.jpg   \n",
            "  inflating: Moon_jellyfish/45.jpg   \n",
            "  inflating: Moon_jellyfish/46.jpg   \n",
            "  inflating: Moon_jellyfish/47.jpg   \n",
            "  inflating: Moon_jellyfish/49.jpg   \n",
            "  inflating: Moon_jellyfish/50.jpg   \n",
            "  inflating: Moon_jellyfish/51.jpg   \n",
            "  inflating: Moon_jellyfish/52.JPG   \n",
            "  inflating: Moon_jellyfish/53.jpg   \n",
            "  inflating: Moon_jellyfish/54.jpg   \n",
            "  inflating: Moon_jellyfish/55.jpg   \n",
            "  inflating: Moon_jellyfish/56.jpg   \n",
            "  inflating: Moon_jellyfish/57.jpg   \n",
            "  inflating: Moon_jellyfish/58.jpg   \n",
            "  inflating: Moon_jellyfish/61.jpg   \n",
            "  inflating: Moon_jellyfish/aug-0-01.jpg  \n",
            "  inflating: Moon_jellyfish/aug-1-02.jpg  \n",
            "  inflating: Moon_jellyfish/aug-10-14.jpg  \n",
            "  inflating: Moon_jellyfish/aug-100-08.jpg  \n",
            "  inflating: Moon_jellyfish/aug-101-10.jpg  \n",
            "  inflating: Moon_jellyfish/aug-102-12.jpg  \n",
            "  inflating: Moon_jellyfish/aug-11-16.jpg  \n",
            "  inflating: Moon_jellyfish/aug-12-17.jpg  \n",
            "  inflating: Moon_jellyfish/aug-13-18.jpg  \n",
            "  inflating: Moon_jellyfish/aug-14-21.jpg  \n",
            "  inflating: Moon_jellyfish/aug-15-22.jpg  \n",
            "  inflating: Moon_jellyfish/aug-16-24.jpg  \n",
            "  inflating: Moon_jellyfish/aug-17-25.jpg  \n",
            "  inflating: Moon_jellyfish/aug-18-26.jpg  \n",
            "  inflating: Moon_jellyfish/aug-19-28.jpg  \n",
            "  inflating: Moon_jellyfish/aug-2-03.jpg  \n",
            "  inflating: Moon_jellyfish/aug-20-29.JPG  \n",
            "  inflating: Moon_jellyfish/aug-21-30.jpg  \n",
            "  inflating: Moon_jellyfish/aug-22-31.jpg  \n",
            "  inflating: Moon_jellyfish/aug-23-32.jpg  \n",
            "  inflating: Moon_jellyfish/aug-24-34.jpg  \n",
            "  inflating: Moon_jellyfish/aug-25-35.jpg  \n",
            "  inflating: Moon_jellyfish/aug-26-36.jpg  \n",
            "  inflating: Moon_jellyfish/aug-27-37.jpg  \n",
            "  inflating: Moon_jellyfish/aug-28-38.jpg  \n",
            "  inflating: Moon_jellyfish/aug-29-40.jpg  \n",
            "  inflating: Moon_jellyfish/aug-3-04.jpg  \n",
            "  inflating: Moon_jellyfish/aug-30-41.jpg  \n",
            "  inflating: Moon_jellyfish/aug-31-42.jpg  \n",
            "  inflating: Moon_jellyfish/aug-32-43.jpg  \n",
            "  inflating: Moon_jellyfish/aug-33-45.jpg  \n",
            "  inflating: Moon_jellyfish/aug-34-46.jpg  \n",
            "  inflating: Moon_jellyfish/aug-35-47.jpg  \n",
            "  inflating: Moon_jellyfish/aug-36-49.jpg  \n",
            "  inflating: Moon_jellyfish/aug-37-50.jpg  \n",
            "  inflating: Moon_jellyfish/aug-38-51.jpg  \n",
            "  inflating: Moon_jellyfish/aug-39-52.JPG  \n",
            "  inflating: Moon_jellyfish/aug-4-05.jpg  \n",
            "  inflating: Moon_jellyfish/aug-40-53.jpg  \n",
            "  inflating: Moon_jellyfish/aug-41-54.jpg  \n",
            "  inflating: Moon_jellyfish/aug-42-55.jpg  \n",
            "  inflating: Moon_jellyfish/aug-43-56.jpg  \n",
            "  inflating: Moon_jellyfish/aug-44-57.jpg  \n",
            "  inflating: Moon_jellyfish/aug-45-58.jpg  \n",
            "  inflating: Moon_jellyfish/aug-46-61.jpg  \n",
            "  inflating: Moon_jellyfish/aug-47-01.jpg  \n",
            "  inflating: Moon_jellyfish/aug-48-02.jpg  \n",
            "  inflating: Moon_jellyfish/aug-49-03.jpg  \n",
            "  inflating: Moon_jellyfish/aug-5-06.jpg  \n",
            "  inflating: Moon_jellyfish/aug-50-04.jpg  \n",
            "  inflating: Moon_jellyfish/aug-51-05.jpg  \n",
            "  inflating: Moon_jellyfish/aug-52-06.jpg  \n",
            "  inflating: Moon_jellyfish/aug-53-08.jpg  \n",
            "  inflating: Moon_jellyfish/aug-54-10.jpg  \n",
            "  inflating: Moon_jellyfish/aug-55-12.jpg  \n",
            "  inflating: Moon_jellyfish/aug-56-13.jpg  \n",
            "  inflating: Moon_jellyfish/aug-57-14.jpg  \n",
            "  inflating: Moon_jellyfish/aug-58-16.jpg  \n",
            "  inflating: Moon_jellyfish/aug-59-17.jpg  \n",
            "  inflating: Moon_jellyfish/aug-6-08.jpg  \n",
            "  inflating: Moon_jellyfish/aug-60-18.jpg  \n",
            "  inflating: Moon_jellyfish/aug-61-21.jpg  \n",
            "  inflating: Moon_jellyfish/aug-62-22.jpg  \n",
            "  inflating: Moon_jellyfish/aug-63-24.jpg  \n",
            "  inflating: Moon_jellyfish/aug-64-25.jpg  \n",
            "  inflating: Moon_jellyfish/aug-65-26.jpg  \n",
            "  inflating: Moon_jellyfish/aug-66-28.jpg  \n",
            "  inflating: Moon_jellyfish/aug-67-29.JPG  \n",
            "  inflating: Moon_jellyfish/aug-68-30.jpg  \n",
            "  inflating: Moon_jellyfish/aug-69-31.jpg  \n",
            "  inflating: Moon_jellyfish/aug-7-10.jpg  \n",
            "  inflating: Moon_jellyfish/aug-70-32.jpg  \n",
            "  inflating: Moon_jellyfish/aug-71-34.jpg  \n",
            "  inflating: Moon_jellyfish/aug-72-35.jpg  \n",
            "  inflating: Moon_jellyfish/aug-73-36.jpg  \n",
            "  inflating: Moon_jellyfish/aug-74-37.jpg  \n",
            "  inflating: Moon_jellyfish/aug-75-38.jpg  \n",
            "  inflating: Moon_jellyfish/aug-76-40.jpg  \n",
            "  inflating: Moon_jellyfish/aug-77-41.jpg  \n",
            "  inflating: Moon_jellyfish/aug-78-42.jpg  \n",
            "  inflating: Moon_jellyfish/aug-79-43.jpg  \n",
            "  inflating: Moon_jellyfish/aug-8-12.jpg  \n",
            "  inflating: Moon_jellyfish/aug-80-45.jpg  \n",
            "  inflating: Moon_jellyfish/aug-81-46.jpg  \n",
            "  inflating: Moon_jellyfish/aug-82-47.jpg  \n",
            "  inflating: Moon_jellyfish/aug-83-49.jpg  \n",
            "  inflating: Moon_jellyfish/aug-84-50.jpg  \n",
            "  inflating: Moon_jellyfish/aug-85-51.jpg  \n",
            "  inflating: Moon_jellyfish/aug-86-52.JPG  \n",
            "  inflating: Moon_jellyfish/aug-87-53.jpg  \n",
            "  inflating: Moon_jellyfish/aug-88-54.jpg  \n",
            "  inflating: Moon_jellyfish/aug-89-55.jpg  \n",
            "  inflating: Moon_jellyfish/aug-9-13.jpg  \n",
            "  inflating: Moon_jellyfish/aug-90-56.jpg  \n",
            "  inflating: Moon_jellyfish/aug-91-57.jpg  \n",
            "  inflating: Moon_jellyfish/aug-92-58.jpg  \n",
            "  inflating: Moon_jellyfish/aug-93-61.jpg  \n",
            "  inflating: Moon_jellyfish/aug-94-01.jpg  \n",
            "  inflating: Moon_jellyfish/aug-95-02.jpg  \n",
            "  inflating: Moon_jellyfish/aug-96-03.jpg  \n",
            "  inflating: Moon_jellyfish/aug-97-04.jpg  \n",
            "  inflating: Moon_jellyfish/aug-98-05.jpg  \n",
            "  inflating: Moon_jellyfish/aug-99-06.jpg  \n",
            "  inflating: Train_Test_Valid/Train/Moon_jellyfish/01.jpg  \n",
            "  inflating: Train_Test_Valid/Train/Moon_jellyfish/02.jpg  \n",
            "  inflating: Train_Test_Valid/Train/Moon_jellyfish/03.jpg  \n",
            "  inflating: Train_Test_Valid/Train/Moon_jellyfish/04.jpg  \n",
            "  inflating: Train_Test_Valid/Train/Moon_jellyfish/05.jpg  \n",
            "  inflating: Train_Test_Valid/Train/Moon_jellyfish/06.jpg  \n",
            "  inflating: Train_Test_Valid/Train/Moon_jellyfish/08.jpg  \n",
            "  inflating: Train_Test_Valid/Train/Moon_jellyfish/10.jpg  \n",
            "  inflating: Train_Test_Valid/Train/Moon_jellyfish/12.jpg  \n",
            "  inflating: Train_Test_Valid/Train/Moon_jellyfish/13.jpg  \n",
            "  inflating: Train_Test_Valid/Train/Moon_jellyfish/14.jpg  \n",
            "  inflating: Train_Test_Valid/Train/Moon_jellyfish/16.jpg  \n",
            "  inflating: Train_Test_Valid/Train/Moon_jellyfish/17.jpg  \n",
            "  inflating: Train_Test_Valid/Train/Moon_jellyfish/18.jpg  \n",
            "  inflating: Train_Test_Valid/Train/Moon_jellyfish/21.jpg  \n",
            "  inflating: Train_Test_Valid/Train/Moon_jellyfish/22.jpg  \n",
            "  inflating: Train_Test_Valid/Train/Moon_jellyfish/24.jpg  \n",
            "  inflating: Train_Test_Valid/Train/Moon_jellyfish/25.jpg  \n",
            "  inflating: Train_Test_Valid/Train/Moon_jellyfish/26.jpg  \n",
            "  inflating: Train_Test_Valid/Train/Moon_jellyfish/28.jpg  \n",
            "  inflating: Train_Test_Valid/Train/Moon_jellyfish/29.JPG  \n",
            "  inflating: Train_Test_Valid/Train/Moon_jellyfish/30.jpg  \n",
            "  inflating: Train_Test_Valid/Train/Moon_jellyfish/31.jpg  \n",
            "  inflating: Train_Test_Valid/Train/Moon_jellyfish/32.jpg  \n",
            "  inflating: Train_Test_Valid/Train/Moon_jellyfish/34.jpg  \n",
            "  inflating: Train_Test_Valid/Train/Moon_jellyfish/35.jpg  \n",
            "  inflating: Train_Test_Valid/Train/Moon_jellyfish/36.jpg  \n",
            "  inflating: Train_Test_Valid/Train/Moon_jellyfish/37.jpg  \n",
            "  inflating: Train_Test_Valid/Train/Moon_jellyfish/38.jpg  \n",
            "  inflating: Train_Test_Valid/Train/Moon_jellyfish/40.jpg  \n",
            "  inflating: Train_Test_Valid/Train/Moon_jellyfish/41.jpg  \n",
            "  inflating: Train_Test_Valid/Train/Moon_jellyfish/42.jpg  \n",
            "  inflating: Train_Test_Valid/Train/Moon_jellyfish/43.jpg  \n",
            "  inflating: Train_Test_Valid/Train/Moon_jellyfish/45.jpg  \n",
            "  inflating: Train_Test_Valid/Train/Moon_jellyfish/46.jpg  \n",
            "  inflating: Train_Test_Valid/Train/Moon_jellyfish/47.jpg  \n",
            "  inflating: Train_Test_Valid/Train/Moon_jellyfish/49.jpg  \n",
            "  inflating: Train_Test_Valid/Train/Moon_jellyfish/50.jpg  \n",
            "  inflating: Train_Test_Valid/Train/Moon_jellyfish/51.jpg  \n",
            "  inflating: Train_Test_Valid/Train/Moon_jellyfish/52.JPG  \n",
            "  inflating: Train_Test_Valid/Train/Moon_jellyfish/53.jpg  \n",
            "  inflating: Train_Test_Valid/Train/Moon_jellyfish/54.jpg  \n",
            "  inflating: Train_Test_Valid/Train/Moon_jellyfish/55.jpg  \n",
            "  inflating: Train_Test_Valid/Train/Moon_jellyfish/56.jpg  \n",
            "  inflating: Train_Test_Valid/Train/Moon_jellyfish/57.jpg  \n",
            "  inflating: Train_Test_Valid/Train/Moon_jellyfish/58.jpg  \n",
            "  inflating: Train_Test_Valid/Train/Moon_jellyfish/61.jpg  \n",
            "  inflating: Train_Test_Valid/Train/Moon_jellyfish/aug-0-01.jpg  \n",
            "  inflating: Train_Test_Valid/Train/Moon_jellyfish/aug-1-02.jpg  \n",
            "  inflating: Train_Test_Valid/Train/Moon_jellyfish/aug-10-14.jpg  \n",
            "  inflating: Train_Test_Valid/Train/Moon_jellyfish/aug-100-08.jpg  \n",
            "  inflating: Train_Test_Valid/Train/Moon_jellyfish/aug-101-10.jpg  \n",
            "  inflating: Train_Test_Valid/Train/Moon_jellyfish/aug-102-12.jpg  \n",
            "  inflating: Train_Test_Valid/Train/Moon_jellyfish/aug-11-16.jpg  \n",
            "  inflating: Train_Test_Valid/Train/Moon_jellyfish/aug-12-17.jpg  \n",
            "  inflating: Train_Test_Valid/Train/Moon_jellyfish/aug-13-18.jpg  \n",
            "  inflating: Train_Test_Valid/Train/Moon_jellyfish/aug-14-21.jpg  \n",
            "  inflating: Train_Test_Valid/Train/Moon_jellyfish/aug-15-22.jpg  \n",
            "  inflating: Train_Test_Valid/Train/Moon_jellyfish/aug-16-24.jpg  \n",
            "  inflating: Train_Test_Valid/Train/Moon_jellyfish/aug-17-25.jpg  \n",
            "  inflating: Train_Test_Valid/Train/Moon_jellyfish/aug-18-26.jpg  \n",
            "  inflating: Train_Test_Valid/Train/Moon_jellyfish/aug-19-28.jpg  \n",
            "  inflating: Train_Test_Valid/Train/Moon_jellyfish/aug-2-03.jpg  \n",
            "  inflating: Train_Test_Valid/Train/Moon_jellyfish/aug-20-29.JPG  \n",
            "  inflating: Train_Test_Valid/Train/Moon_jellyfish/aug-21-30.jpg  \n",
            "  inflating: Train_Test_Valid/Train/Moon_jellyfish/aug-22-31.jpg  \n",
            "  inflating: Train_Test_Valid/Train/Moon_jellyfish/aug-23-32.jpg  \n",
            "  inflating: Train_Test_Valid/Train/Moon_jellyfish/aug-24-34.jpg  \n",
            "  inflating: Train_Test_Valid/Train/Moon_jellyfish/aug-25-35.jpg  \n",
            "  inflating: Train_Test_Valid/Train/Moon_jellyfish/aug-26-36.jpg  \n",
            "  inflating: Train_Test_Valid/Train/Moon_jellyfish/aug-27-37.jpg  \n",
            "  inflating: Train_Test_Valid/Train/Moon_jellyfish/aug-28-38.jpg  \n",
            "  inflating: Train_Test_Valid/Train/Moon_jellyfish/aug-29-40.jpg  \n",
            "  inflating: Train_Test_Valid/Train/Moon_jellyfish/aug-3-04.jpg  \n",
            "  inflating: Train_Test_Valid/Train/Moon_jellyfish/aug-30-41.jpg  \n",
            "  inflating: Train_Test_Valid/Train/Moon_jellyfish/aug-31-42.jpg  \n",
            "  inflating: Train_Test_Valid/Train/Moon_jellyfish/aug-32-43.jpg  \n",
            "  inflating: Train_Test_Valid/Train/Moon_jellyfish/aug-33-45.jpg  \n",
            "  inflating: Train_Test_Valid/Train/Moon_jellyfish/aug-34-46.jpg  \n",
            "  inflating: Train_Test_Valid/Train/Moon_jellyfish/aug-35-47.jpg  \n",
            "  inflating: Train_Test_Valid/Train/Moon_jellyfish/aug-36-49.jpg  \n",
            "  inflating: Train_Test_Valid/Train/Moon_jellyfish/aug-37-50.jpg  \n",
            "  inflating: Train_Test_Valid/Train/Moon_jellyfish/aug-38-51.jpg  \n",
            "  inflating: Train_Test_Valid/Train/Moon_jellyfish/aug-39-52.JPG  \n",
            "  inflating: Train_Test_Valid/Train/Moon_jellyfish/aug-4-05.jpg  \n",
            "  inflating: Train_Test_Valid/Train/Moon_jellyfish/aug-40-53.jpg  \n",
            "  inflating: Train_Test_Valid/Train/Moon_jellyfish/aug-41-54.jpg  \n",
            "  inflating: Train_Test_Valid/Train/Moon_jellyfish/aug-42-55.jpg  \n",
            "  inflating: Train_Test_Valid/Train/Moon_jellyfish/aug-43-56.jpg  \n",
            "  inflating: Train_Test_Valid/Train/Moon_jellyfish/aug-44-57.jpg  \n",
            "  inflating: Train_Test_Valid/Train/Moon_jellyfish/aug-45-58.jpg  \n",
            "  inflating: Train_Test_Valid/Train/Moon_jellyfish/aug-46-61.jpg  \n",
            "  inflating: Train_Test_Valid/Train/Moon_jellyfish/aug-47-01.jpg  \n",
            "  inflating: Train_Test_Valid/Train/Moon_jellyfish/aug-48-02.jpg  \n",
            "  inflating: Train_Test_Valid/Train/Moon_jellyfish/aug-49-03.jpg  \n",
            "  inflating: Train_Test_Valid/Train/Moon_jellyfish/aug-5-06.jpg  \n",
            "  inflating: Train_Test_Valid/Train/Moon_jellyfish/aug-50-04.jpg  \n",
            "  inflating: Train_Test_Valid/Train/Moon_jellyfish/aug-51-05.jpg  \n",
            "  inflating: Train_Test_Valid/Train/Moon_jellyfish/aug-52-06.jpg  \n",
            "  inflating: Train_Test_Valid/Train/Moon_jellyfish/aug-53-08.jpg  \n",
            "  inflating: Train_Test_Valid/Train/Moon_jellyfish/aug-54-10.jpg  \n",
            "  inflating: Train_Test_Valid/Train/Moon_jellyfish/aug-55-12.jpg  \n",
            "  inflating: Train_Test_Valid/Train/Moon_jellyfish/aug-56-13.jpg  \n",
            "  inflating: Train_Test_Valid/Train/Moon_jellyfish/aug-57-14.jpg  \n",
            "  inflating: Train_Test_Valid/Train/Moon_jellyfish/aug-58-16.jpg  \n",
            "  inflating: Train_Test_Valid/Train/Moon_jellyfish/aug-59-17.jpg  \n",
            "  inflating: Train_Test_Valid/Train/Moon_jellyfish/aug-6-08.jpg  \n",
            "  inflating: Train_Test_Valid/Train/Moon_jellyfish/aug-60-18.jpg  \n",
            "  inflating: Train_Test_Valid/Train/Moon_jellyfish/aug-61-21.jpg  \n",
            "  inflating: Train_Test_Valid/Train/Moon_jellyfish/aug-62-22.jpg  \n",
            "  inflating: Train_Test_Valid/Train/Moon_jellyfish/aug-63-24.jpg  \n",
            "  inflating: Train_Test_Valid/Train/Moon_jellyfish/aug-64-25.jpg  \n",
            "  inflating: Train_Test_Valid/Train/Moon_jellyfish/aug-65-26.jpg  \n",
            "  inflating: Train_Test_Valid/Train/Moon_jellyfish/aug-66-28.jpg  \n",
            "  inflating: Train_Test_Valid/Train/Moon_jellyfish/aug-67-29.JPG  \n",
            "  inflating: Train_Test_Valid/Train/Moon_jellyfish/aug-68-30.jpg  \n",
            "  inflating: Train_Test_Valid/Train/Moon_jellyfish/aug-69-31.jpg  \n",
            "  inflating: Train_Test_Valid/Train/Moon_jellyfish/aug-7-10.jpg  \n",
            "  inflating: Train_Test_Valid/Train/Moon_jellyfish/aug-70-32.jpg  \n",
            "  inflating: Train_Test_Valid/Train/Moon_jellyfish/aug-71-34.jpg  \n",
            "  inflating: Train_Test_Valid/Train/Moon_jellyfish/aug-72-35.jpg  \n",
            "  inflating: Train_Test_Valid/Train/Moon_jellyfish/aug-73-36.jpg  \n",
            "  inflating: Train_Test_Valid/Train/Moon_jellyfish/aug-74-37.jpg  \n",
            "  inflating: Train_Test_Valid/Train/Moon_jellyfish/aug-75-38.jpg  \n",
            "  inflating: Train_Test_Valid/Train/Moon_jellyfish/aug-76-40.jpg  \n",
            "  inflating: Train_Test_Valid/Train/Moon_jellyfish/aug-77-41.jpg  \n",
            "  inflating: Train_Test_Valid/Train/Moon_jellyfish/aug-78-42.jpg  \n",
            "  inflating: Train_Test_Valid/Train/Moon_jellyfish/aug-79-43.jpg  \n",
            "  inflating: Train_Test_Valid/Train/Moon_jellyfish/aug-8-12.jpg  \n",
            "  inflating: Train_Test_Valid/Train/Moon_jellyfish/aug-80-45.jpg  \n",
            "  inflating: Train_Test_Valid/Train/Moon_jellyfish/aug-81-46.jpg  \n",
            "  inflating: Train_Test_Valid/Train/Moon_jellyfish/aug-82-47.jpg  \n",
            "  inflating: Train_Test_Valid/Train/Moon_jellyfish/aug-83-49.jpg  \n",
            "  inflating: Train_Test_Valid/Train/Moon_jellyfish/aug-84-50.jpg  \n",
            "  inflating: Train_Test_Valid/Train/Moon_jellyfish/aug-85-51.jpg  \n",
            "  inflating: Train_Test_Valid/Train/Moon_jellyfish/aug-86-52.JPG  \n",
            "  inflating: Train_Test_Valid/Train/Moon_jellyfish/aug-87-53.jpg  \n",
            "  inflating: Train_Test_Valid/Train/Moon_jellyfish/aug-88-54.jpg  \n",
            "  inflating: Train_Test_Valid/Train/Moon_jellyfish/aug-89-55.jpg  \n",
            "  inflating: Train_Test_Valid/Train/Moon_jellyfish/aug-9-13.jpg  \n",
            "  inflating: Train_Test_Valid/Train/Moon_jellyfish/aug-90-56.jpg  \n",
            "  inflating: Train_Test_Valid/Train/Moon_jellyfish/aug-91-57.jpg  \n",
            "  inflating: Train_Test_Valid/Train/Moon_jellyfish/aug-92-58.jpg  \n",
            "  inflating: Train_Test_Valid/Train/Moon_jellyfish/aug-93-61.jpg  \n",
            "  inflating: Train_Test_Valid/Train/Moon_jellyfish/aug-94-01.jpg  \n",
            "  inflating: Train_Test_Valid/Train/Moon_jellyfish/aug-95-02.jpg  \n",
            "  inflating: Train_Test_Valid/Train/Moon_jellyfish/aug-96-03.jpg  \n",
            "  inflating: Train_Test_Valid/Train/Moon_jellyfish/aug-97-04.jpg  \n",
            "  inflating: Train_Test_Valid/Train/Moon_jellyfish/aug-98-05.jpg  \n",
            "  inflating: Train_Test_Valid/Train/Moon_jellyfish/aug-99-06.jpg  \n",
            "  inflating: Train_Test_Valid/Train/barrel_jellyfish/01.jpeg  \n",
            "  inflating: Train_Test_Valid/Train/barrel_jellyfish/02.jpg  \n",
            "  inflating: Train_Test_Valid/Train/barrel_jellyfish/03.jpg  \n",
            "  inflating: Train_Test_Valid/Train/barrel_jellyfish/04.jpg  \n",
            "  inflating: Train_Test_Valid/Train/barrel_jellyfish/05.jpg  \n",
            "  inflating: Train_Test_Valid/Train/barrel_jellyfish/06.jpg  \n",
            "  inflating: Train_Test_Valid/Train/barrel_jellyfish/07.jpg  \n",
            "  inflating: Train_Test_Valid/Train/barrel_jellyfish/10.jpg  \n",
            "  inflating: Train_Test_Valid/Train/barrel_jellyfish/11.jpg  \n",
            "  inflating: Train_Test_Valid/Train/barrel_jellyfish/12.jpg  \n",
            "  inflating: Train_Test_Valid/Train/barrel_jellyfish/13.jpg  \n",
            "  inflating: Train_Test_Valid/Train/barrel_jellyfish/14.jpg  \n",
            "  inflating: Train_Test_Valid/Train/barrel_jellyfish/15.jpg  \n",
            "  inflating: Train_Test_Valid/Train/barrel_jellyfish/17.jpg  \n",
            "  inflating: Train_Test_Valid/Train/barrel_jellyfish/18.jpg  \n",
            "  inflating: Train_Test_Valid/Train/barrel_jellyfish/20.jpg  \n",
            "  inflating: Train_Test_Valid/Train/barrel_jellyfish/21.jpg  \n",
            "  inflating: Train_Test_Valid/Train/barrel_jellyfish/22.jpg  \n",
            "  inflating: Train_Test_Valid/Train/barrel_jellyfish/24.jpg  \n",
            "  inflating: Train_Test_Valid/Train/barrel_jellyfish/25.jpg  \n",
            "  inflating: Train_Test_Valid/Train/barrel_jellyfish/27.jpg  \n",
            "  inflating: Train_Test_Valid/Train/barrel_jellyfish/28.jpg  \n",
            "  inflating: Train_Test_Valid/Train/barrel_jellyfish/29.jpg  \n",
            "  inflating: Train_Test_Valid/Train/barrel_jellyfish/30.jpg  \n",
            "  inflating: Train_Test_Valid/Train/barrel_jellyfish/31.jpg  \n",
            "  inflating: Train_Test_Valid/Train/barrel_jellyfish/32.JPG  \n",
            "  inflating: Train_Test_Valid/Train/barrel_jellyfish/33.jpg  \n",
            "  inflating: Train_Test_Valid/Train/barrel_jellyfish/34.jpg  \n",
            "  inflating: Train_Test_Valid/Train/barrel_jellyfish/35.jpg  \n",
            "  inflating: Train_Test_Valid/Train/barrel_jellyfish/36.jpg  \n",
            "  inflating: Train_Test_Valid/Train/barrel_jellyfish/37.jpg  \n",
            "  inflating: Train_Test_Valid/Train/barrel_jellyfish/38.jpg  \n",
            "  inflating: Train_Test_Valid/Train/barrel_jellyfish/39.JPG  \n",
            "  inflating: Train_Test_Valid/Train/barrel_jellyfish/40.jpg  \n",
            "  inflating: Train_Test_Valid/Train/barrel_jellyfish/41.jpg  \n",
            "  inflating: Train_Test_Valid/Train/barrel_jellyfish/42.jpg  \n",
            "  inflating: Train_Test_Valid/Train/barrel_jellyfish/45.jpg  \n",
            "  inflating: Train_Test_Valid/Train/barrel_jellyfish/46.jpg  \n",
            "  inflating: Train_Test_Valid/Train/barrel_jellyfish/47.jpg  \n",
            "  inflating: Train_Test_Valid/Train/barrel_jellyfish/48.jpg  \n",
            "  inflating: Train_Test_Valid/Train/barrel_jellyfish/49.jpg  \n",
            "  inflating: Train_Test_Valid/Train/barrel_jellyfish/aug-0-01.jpeg  \n",
            "  inflating: Train_Test_Valid/Train/barrel_jellyfish/aug-1-02.jpg  \n",
            "  inflating: Train_Test_Valid/Train/barrel_jellyfish/aug-10-13.jpg  \n",
            "  inflating: Train_Test_Valid/Train/barrel_jellyfish/aug-100-24.jpg  \n",
            "  inflating: Train_Test_Valid/Train/barrel_jellyfish/aug-101-25.jpg  \n",
            "  inflating: Train_Test_Valid/Train/barrel_jellyfish/aug-102-27.jpg  \n",
            "  inflating: Train_Test_Valid/Train/barrel_jellyfish/aug-103-28.jpg  \n",
            "  inflating: Train_Test_Valid/Train/barrel_jellyfish/aug-104-29.jpg  \n",
            "  inflating: Train_Test_Valid/Train/barrel_jellyfish/aug-105-30.jpg  \n",
            "  inflating: Train_Test_Valid/Train/barrel_jellyfish/aug-106-31.jpg  \n",
            "  inflating: Train_Test_Valid/Train/barrel_jellyfish/aug-107-32.JPG  \n",
            "  inflating: Train_Test_Valid/Train/barrel_jellyfish/aug-108-33.jpg  \n",
            "  inflating: Train_Test_Valid/Train/barrel_jellyfish/aug-11-14.jpg  \n",
            "  inflating: Train_Test_Valid/Train/barrel_jellyfish/aug-12-15.jpg  \n",
            "  inflating: Train_Test_Valid/Train/barrel_jellyfish/aug-13-17.jpg  \n",
            "  inflating: Train_Test_Valid/Train/barrel_jellyfish/aug-14-18.jpg  \n",
            "  inflating: Train_Test_Valid/Train/barrel_jellyfish/aug-15-20.jpg  \n",
            "  inflating: Train_Test_Valid/Train/barrel_jellyfish/aug-16-21.jpg  \n",
            "  inflating: Train_Test_Valid/Train/barrel_jellyfish/aug-17-22.jpg  \n",
            "  inflating: Train_Test_Valid/Train/barrel_jellyfish/aug-18-24.jpg  \n",
            "  inflating: Train_Test_Valid/Train/barrel_jellyfish/aug-19-25.jpg  \n",
            "  inflating: Train_Test_Valid/Train/barrel_jellyfish/aug-2-03.jpg  \n",
            "  inflating: Train_Test_Valid/Train/barrel_jellyfish/aug-20-27.jpg  \n",
            "  inflating: Train_Test_Valid/Train/barrel_jellyfish/aug-21-28.jpg  \n",
            "  inflating: Train_Test_Valid/Train/barrel_jellyfish/aug-22-29.jpg  \n",
            "  inflating: Train_Test_Valid/Train/barrel_jellyfish/aug-23-30.jpg  \n",
            "  inflating: Train_Test_Valid/Train/barrel_jellyfish/aug-24-31.jpg  \n",
            "  inflating: Train_Test_Valid/Train/barrel_jellyfish/aug-25-32.JPG  \n",
            "  inflating: Train_Test_Valid/Train/barrel_jellyfish/aug-26-33.jpg  \n",
            "  inflating: Train_Test_Valid/Train/barrel_jellyfish/aug-27-34.jpg  \n",
            "  inflating: Train_Test_Valid/Train/barrel_jellyfish/aug-28-35.jpg  \n",
            "  inflating: Train_Test_Valid/Train/barrel_jellyfish/aug-29-36.jpg  \n",
            "  inflating: Train_Test_Valid/Train/barrel_jellyfish/aug-3-04.jpg  \n",
            "  inflating: Train_Test_Valid/Train/barrel_jellyfish/aug-30-37.jpg  \n",
            "  inflating: Train_Test_Valid/Train/barrel_jellyfish/aug-31-38.jpg  \n",
            "  inflating: Train_Test_Valid/Train/barrel_jellyfish/aug-32-39.JPG  \n",
            "  inflating: Train_Test_Valid/Train/barrel_jellyfish/aug-33-40.jpg  \n",
            "  inflating: Train_Test_Valid/Train/barrel_jellyfish/aug-34-41.jpg  \n",
            "  inflating: Train_Test_Valid/Train/barrel_jellyfish/aug-35-42.jpg  \n",
            "  inflating: Train_Test_Valid/Train/barrel_jellyfish/aug-36-45.jpg  \n",
            "  inflating: Train_Test_Valid/Train/barrel_jellyfish/aug-37-46.jpg  \n",
            "  inflating: Train_Test_Valid/Train/barrel_jellyfish/aug-38-47.jpg  \n",
            "  inflating: Train_Test_Valid/Train/barrel_jellyfish/aug-39-48.jpg  \n",
            "  inflating: Train_Test_Valid/Train/barrel_jellyfish/aug-4-05.jpg  \n",
            "  inflating: Train_Test_Valid/Train/barrel_jellyfish/aug-40-49.jpg  \n",
            "  inflating: Train_Test_Valid/Train/barrel_jellyfish/aug-41-01.jpeg  \n",
            "  inflating: Train_Test_Valid/Train/barrel_jellyfish/aug-42-02.jpg  \n",
            "  inflating: Train_Test_Valid/Train/barrel_jellyfish/aug-43-03.jpg  \n",
            "  inflating: Train_Test_Valid/Train/barrel_jellyfish/aug-44-04.jpg  \n",
            "  inflating: Train_Test_Valid/Train/barrel_jellyfish/aug-45-05.jpg  \n",
            "  inflating: Train_Test_Valid/Train/barrel_jellyfish/aug-46-06.jpg  \n",
            "  inflating: Train_Test_Valid/Train/barrel_jellyfish/aug-47-07.jpg  \n",
            "  inflating: Train_Test_Valid/Train/barrel_jellyfish/aug-48-10.jpg  \n",
            "  inflating: Train_Test_Valid/Train/barrel_jellyfish/aug-49-11.jpg  \n",
            "  inflating: Train_Test_Valid/Train/barrel_jellyfish/aug-5-06.jpg  \n",
            "  inflating: Train_Test_Valid/Train/barrel_jellyfish/aug-50-12.jpg  \n",
            "  inflating: Train_Test_Valid/Train/barrel_jellyfish/aug-51-13.jpg  \n",
            "  inflating: Train_Test_Valid/Train/barrel_jellyfish/aug-52-14.jpg  \n",
            "  inflating: Train_Test_Valid/Train/barrel_jellyfish/aug-53-15.jpg  \n",
            "  inflating: Train_Test_Valid/Train/barrel_jellyfish/aug-54-17.jpg  \n",
            "  inflating: Train_Test_Valid/Train/barrel_jellyfish/aug-55-18.jpg  \n",
            "  inflating: Train_Test_Valid/Train/barrel_jellyfish/aug-56-20.jpg  \n",
            "  inflating: Train_Test_Valid/Train/barrel_jellyfish/aug-57-21.jpg  \n",
            "  inflating: Train_Test_Valid/Train/barrel_jellyfish/aug-58-22.jpg  \n",
            "  inflating: Train_Test_Valid/Train/barrel_jellyfish/aug-59-24.jpg  \n",
            "  inflating: Train_Test_Valid/Train/barrel_jellyfish/aug-6-07.jpg  \n",
            "  inflating: Train_Test_Valid/Train/barrel_jellyfish/aug-60-25.jpg  \n",
            "  inflating: Train_Test_Valid/Train/barrel_jellyfish/aug-61-27.jpg  \n",
            "  inflating: Train_Test_Valid/Train/barrel_jellyfish/aug-62-28.jpg  \n",
            "  inflating: Train_Test_Valid/Train/barrel_jellyfish/aug-63-29.jpg  \n",
            "  inflating: Train_Test_Valid/Train/barrel_jellyfish/aug-64-30.jpg  \n",
            "  inflating: Train_Test_Valid/Train/barrel_jellyfish/aug-65-31.jpg  \n",
            "  inflating: Train_Test_Valid/Train/barrel_jellyfish/aug-66-32.JPG  \n",
            "  inflating: Train_Test_Valid/Train/barrel_jellyfish/aug-67-33.jpg  \n",
            "  inflating: Train_Test_Valid/Train/barrel_jellyfish/aug-68-34.jpg  \n",
            "  inflating: Train_Test_Valid/Train/barrel_jellyfish/aug-69-35.jpg  \n",
            "  inflating: Train_Test_Valid/Train/barrel_jellyfish/aug-7-10.jpg  \n",
            "  inflating: Train_Test_Valid/Train/barrel_jellyfish/aug-70-36.jpg  \n",
            "  inflating: Train_Test_Valid/Train/barrel_jellyfish/aug-71-37.jpg  \n",
            "  inflating: Train_Test_Valid/Train/barrel_jellyfish/aug-72-38.jpg  \n",
            "  inflating: Train_Test_Valid/Train/barrel_jellyfish/aug-73-39.JPG  \n",
            "  inflating: Train_Test_Valid/Train/barrel_jellyfish/aug-74-40.jpg  \n",
            "  inflating: Train_Test_Valid/Train/barrel_jellyfish/aug-75-41.jpg  \n",
            "  inflating: Train_Test_Valid/Train/barrel_jellyfish/aug-76-42.jpg  \n",
            "  inflating: Train_Test_Valid/Train/barrel_jellyfish/aug-77-45.jpg  \n",
            "  inflating: Train_Test_Valid/Train/barrel_jellyfish/aug-78-46.jpg  \n",
            "  inflating: Train_Test_Valid/Train/barrel_jellyfish/aug-79-47.jpg  \n",
            "  inflating: Train_Test_Valid/Train/barrel_jellyfish/aug-8-11.jpg  \n",
            "  inflating: Train_Test_Valid/Train/barrel_jellyfish/aug-80-48.jpg  \n",
            "  inflating: Train_Test_Valid/Train/barrel_jellyfish/aug-81-49.jpg  \n",
            "  inflating: Train_Test_Valid/Train/barrel_jellyfish/aug-82-01.jpeg  \n",
            "  inflating: Train_Test_Valid/Train/barrel_jellyfish/aug-83-02.jpg  \n",
            "  inflating: Train_Test_Valid/Train/barrel_jellyfish/aug-84-03.jpg  \n",
            "  inflating: Train_Test_Valid/Train/barrel_jellyfish/aug-85-04.jpg  \n",
            "  inflating: Train_Test_Valid/Train/barrel_jellyfish/aug-86-05.jpg  \n",
            "  inflating: Train_Test_Valid/Train/barrel_jellyfish/aug-87-06.jpg  \n",
            "  inflating: Train_Test_Valid/Train/barrel_jellyfish/aug-88-07.jpg  \n",
            "  inflating: Train_Test_Valid/Train/barrel_jellyfish/aug-89-10.jpg  \n",
            "  inflating: Train_Test_Valid/Train/barrel_jellyfish/aug-9-12.jpg  \n",
            "  inflating: Train_Test_Valid/Train/barrel_jellyfish/aug-90-11.jpg  \n",
            "  inflating: Train_Test_Valid/Train/barrel_jellyfish/aug-91-12.jpg  \n",
            "  inflating: Train_Test_Valid/Train/barrel_jellyfish/aug-92-13.jpg  \n",
            "  inflating: Train_Test_Valid/Train/barrel_jellyfish/aug-93-14.jpg  \n",
            "  inflating: Train_Test_Valid/Train/barrel_jellyfish/aug-94-15.jpg  \n",
            "  inflating: Train_Test_Valid/Train/barrel_jellyfish/aug-95-17.jpg  \n",
            "  inflating: Train_Test_Valid/Train/barrel_jellyfish/aug-96-18.jpg  \n",
            "  inflating: Train_Test_Valid/Train/barrel_jellyfish/aug-97-20.jpg  \n",
            "  inflating: Train_Test_Valid/Train/barrel_jellyfish/aug-98-21.jpg  \n",
            "  inflating: Train_Test_Valid/Train/barrel_jellyfish/aug-99-22.jpg  \n",
            "  inflating: Train_Test_Valid/Train/blue_jellyfish/02.jpg  \n",
            "  inflating: Train_Test_Valid/Train/blue_jellyfish/03.jpg  \n",
            "  inflating: Train_Test_Valid/Train/blue_jellyfish/04.jpg  \n",
            "  inflating: Train_Test_Valid/Train/blue_jellyfish/06.jpg  \n",
            "  inflating: Train_Test_Valid/Train/blue_jellyfish/07.jpg  \n",
            "  inflating: Train_Test_Valid/Train/blue_jellyfish/08.jpg  \n",
            "  inflating: Train_Test_Valid/Train/blue_jellyfish/09.jpg  \n",
            "  inflating: Train_Test_Valid/Train/blue_jellyfish/11.jpg  \n",
            "  inflating: Train_Test_Valid/Train/blue_jellyfish/13.jpg  \n",
            "  inflating: Train_Test_Valid/Train/blue_jellyfish/15.jpg  \n",
            "  inflating: Train_Test_Valid/Train/blue_jellyfish/17.jpg  \n",
            "  inflating: Train_Test_Valid/Train/blue_jellyfish/18.jpg  \n",
            "  inflating: Train_Test_Valid/Train/blue_jellyfish/20.jpg  \n",
            "  inflating: Train_Test_Valid/Train/blue_jellyfish/21.jpg  \n",
            "  inflating: Train_Test_Valid/Train/blue_jellyfish/23.jpg  \n",
            "  inflating: Train_Test_Valid/Train/blue_jellyfish/25.jpg  \n",
            "  inflating: Train_Test_Valid/Train/blue_jellyfish/26.jpg  \n",
            "  inflating: Train_Test_Valid/Train/blue_jellyfish/27.jpg  \n",
            "  inflating: Train_Test_Valid/Train/blue_jellyfish/28.jpg  \n",
            "  inflating: Train_Test_Valid/Train/blue_jellyfish/29.jpg  \n",
            "  inflating: Train_Test_Valid/Train/blue_jellyfish/31.jpg  \n",
            "  inflating: Train_Test_Valid/Train/blue_jellyfish/32.jpg  \n",
            "  inflating: Train_Test_Valid/Train/blue_jellyfish/34.jpg  \n",
            "  inflating: Train_Test_Valid/Train/blue_jellyfish/36.jpg  \n",
            "  inflating: Train_Test_Valid/Train/blue_jellyfish/37.jpg  \n",
            "  inflating: Train_Test_Valid/Train/blue_jellyfish/38.jpg  \n",
            "  inflating: Train_Test_Valid/Train/blue_jellyfish/39.jpg  \n",
            "  inflating: Train_Test_Valid/Train/blue_jellyfish/40.jpg  \n",
            "  inflating: Train_Test_Valid/Train/blue_jellyfish/41.jpg  \n",
            "  inflating: Train_Test_Valid/Train/blue_jellyfish/42.jpg  \n",
            "  inflating: Train_Test_Valid/Train/blue_jellyfish/43.jpg  \n",
            "  inflating: Train_Test_Valid/Train/blue_jellyfish/44.jpg  \n",
            "  inflating: Train_Test_Valid/Train/blue_jellyfish/45.jpg  \n",
            "  inflating: Train_Test_Valid/Train/blue_jellyfish/46.jpg  \n",
            "  inflating: Train_Test_Valid/Train/blue_jellyfish/49.jpg  \n",
            "  inflating: Train_Test_Valid/Train/blue_jellyfish/50.jpg  \n",
            "  inflating: Train_Test_Valid/Train/blue_jellyfish/51.jpg  \n",
            "  inflating: Train_Test_Valid/Train/blue_jellyfish/52.jpg  \n",
            "  inflating: Train_Test_Valid/Train/blue_jellyfish/53.jpg  \n",
            "  inflating: Train_Test_Valid/Train/blue_jellyfish/54.jpg  \n",
            "  inflating: Train_Test_Valid/Train/blue_jellyfish/55.jpg  \n",
            "  inflating: Train_Test_Valid/Train/blue_jellyfish/56.jpg  \n",
            "  inflating: Train_Test_Valid/Train/blue_jellyfish/57.jpg  \n",
            "  inflating: Train_Test_Valid/Train/blue_jellyfish/58.jpg  \n",
            "  inflating: Train_Test_Valid/Train/blue_jellyfish/59.jpg  \n",
            "  inflating: Train_Test_Valid/Train/blue_jellyfish/60.jpg  \n",
            "  inflating: Train_Test_Valid/Train/blue_jellyfish/61.jpg  \n",
            "  inflating: Train_Test_Valid/Train/blue_jellyfish/62.jpg  \n",
            "  inflating: Train_Test_Valid/Train/blue_jellyfish/63.jpg  \n",
            "  inflating: Train_Test_Valid/Train/blue_jellyfish/64.jpg  \n",
            "  inflating: Train_Test_Valid/Train/blue_jellyfish/65.jpg  \n",
            "  inflating: Train_Test_Valid/Train/blue_jellyfish/66.jpg  \n",
            "  inflating: Train_Test_Valid/Train/blue_jellyfish/67.jpg  \n",
            "  inflating: Train_Test_Valid/Train/blue_jellyfish/68.png  \n",
            "  inflating: Train_Test_Valid/Train/blue_jellyfish/69.jpg  \n",
            "  inflating: Train_Test_Valid/Train/blue_jellyfish/aug-0-02.jpg  \n",
            "  inflating: Train_Test_Valid/Train/blue_jellyfish/aug-1-03.jpg  \n",
            "  inflating: Train_Test_Valid/Train/blue_jellyfish/aug-10-17.jpg  \n",
            "  inflating: Train_Test_Valid/Train/blue_jellyfish/aug-11-18.jpg  \n",
            "  inflating: Train_Test_Valid/Train/blue_jellyfish/aug-12-20.jpg  \n",
            "  inflating: Train_Test_Valid/Train/blue_jellyfish/aug-13-21.jpg  \n",
            "  inflating: Train_Test_Valid/Train/blue_jellyfish/aug-14-23.jpg  \n",
            "  inflating: Train_Test_Valid/Train/blue_jellyfish/aug-15-25.jpg  \n",
            "  inflating: Train_Test_Valid/Train/blue_jellyfish/aug-16-26.jpg  \n",
            "  inflating: Train_Test_Valid/Train/blue_jellyfish/aug-17-27.jpg  \n",
            "  inflating: Train_Test_Valid/Train/blue_jellyfish/aug-18-28.jpg  \n",
            "  inflating: Train_Test_Valid/Train/blue_jellyfish/aug-19-29.jpg  \n",
            "  inflating: Train_Test_Valid/Train/blue_jellyfish/aug-2-04.jpg  \n",
            "  inflating: Train_Test_Valid/Train/blue_jellyfish/aug-20-31.jpg  \n",
            "  inflating: Train_Test_Valid/Train/blue_jellyfish/aug-21-32.jpg  \n",
            "  inflating: Train_Test_Valid/Train/blue_jellyfish/aug-22-34.jpg  \n",
            "  inflating: Train_Test_Valid/Train/blue_jellyfish/aug-23-36.jpg  \n",
            "  inflating: Train_Test_Valid/Train/blue_jellyfish/aug-24-37.jpg  \n",
            "  inflating: Train_Test_Valid/Train/blue_jellyfish/aug-25-38.jpg  \n",
            "  inflating: Train_Test_Valid/Train/blue_jellyfish/aug-26-39.jpg  \n",
            "  inflating: Train_Test_Valid/Train/blue_jellyfish/aug-27-40.jpg  \n",
            "  inflating: Train_Test_Valid/Train/blue_jellyfish/aug-28-41.jpg  \n",
            "  inflating: Train_Test_Valid/Train/blue_jellyfish/aug-29-42.jpg  \n",
            "  inflating: Train_Test_Valid/Train/blue_jellyfish/aug-3-06.jpg  \n",
            "  inflating: Train_Test_Valid/Train/blue_jellyfish/aug-30-43.jpg  \n",
            "  inflating: Train_Test_Valid/Train/blue_jellyfish/aug-31-44.jpg  \n",
            "  inflating: Train_Test_Valid/Train/blue_jellyfish/aug-32-45.jpg  \n",
            "  inflating: Train_Test_Valid/Train/blue_jellyfish/aug-33-46.jpg  \n",
            "  inflating: Train_Test_Valid/Train/blue_jellyfish/aug-34-49.jpg  \n",
            "  inflating: Train_Test_Valid/Train/blue_jellyfish/aug-35-50.jpg  \n",
            "  inflating: Train_Test_Valid/Train/blue_jellyfish/aug-36-51.jpg  \n",
            "  inflating: Train_Test_Valid/Train/blue_jellyfish/aug-37-52.jpg  \n",
            "  inflating: Train_Test_Valid/Train/blue_jellyfish/aug-38-53.jpg  \n",
            "  inflating: Train_Test_Valid/Train/blue_jellyfish/aug-39-54.jpg  \n",
            "  inflating: Train_Test_Valid/Train/blue_jellyfish/aug-4-07.jpg  \n",
            "  inflating: Train_Test_Valid/Train/blue_jellyfish/aug-40-55.jpg  \n",
            "  inflating: Train_Test_Valid/Train/blue_jellyfish/aug-41-56.jpg  \n",
            "  inflating: Train_Test_Valid/Train/blue_jellyfish/aug-42-57.jpg  \n",
            "  inflating: Train_Test_Valid/Train/blue_jellyfish/aug-43-58.jpg  \n",
            "  inflating: Train_Test_Valid/Train/blue_jellyfish/aug-44-59.jpg  \n",
            "  inflating: Train_Test_Valid/Train/blue_jellyfish/aug-45-60.jpg  \n",
            "  inflating: Train_Test_Valid/Train/blue_jellyfish/aug-46-61.jpg  \n",
            "  inflating: Train_Test_Valid/Train/blue_jellyfish/aug-47-62.jpg  \n",
            "  inflating: Train_Test_Valid/Train/blue_jellyfish/aug-48-63.jpg  \n",
            "  inflating: Train_Test_Valid/Train/blue_jellyfish/aug-49-64.jpg  \n",
            "  inflating: Train_Test_Valid/Train/blue_jellyfish/aug-5-08.jpg  \n",
            "  inflating: Train_Test_Valid/Train/blue_jellyfish/aug-50-65.jpg  \n",
            "  inflating: Train_Test_Valid/Train/blue_jellyfish/aug-51-66.jpg  \n",
            "  inflating: Train_Test_Valid/Train/blue_jellyfish/aug-52-67.jpg  \n",
            "  inflating: Train_Test_Valid/Train/blue_jellyfish/aug-53-68.png  \n",
            "  inflating: Train_Test_Valid/Train/blue_jellyfish/aug-54-69.jpg  \n",
            "  inflating: Train_Test_Valid/Train/blue_jellyfish/aug-55-02.jpg  \n",
            "  inflating: Train_Test_Valid/Train/blue_jellyfish/aug-56-03.jpg  \n",
            "  inflating: Train_Test_Valid/Train/blue_jellyfish/aug-57-04.jpg  \n",
            "  inflating: Train_Test_Valid/Train/blue_jellyfish/aug-58-06.jpg  \n",
            "  inflating: Train_Test_Valid/Train/blue_jellyfish/aug-59-07.jpg  \n",
            "  inflating: Train_Test_Valid/Train/blue_jellyfish/aug-6-09.jpg  \n",
            "  inflating: Train_Test_Valid/Train/blue_jellyfish/aug-60-08.jpg  \n",
            "  inflating: Train_Test_Valid/Train/blue_jellyfish/aug-61-09.jpg  \n",
            "  inflating: Train_Test_Valid/Train/blue_jellyfish/aug-62-11.jpg  \n",
            "  inflating: Train_Test_Valid/Train/blue_jellyfish/aug-63-13.jpg  \n",
            "  inflating: Train_Test_Valid/Train/blue_jellyfish/aug-64-15.jpg  \n",
            "  inflating: Train_Test_Valid/Train/blue_jellyfish/aug-65-17.jpg  \n",
            "  inflating: Train_Test_Valid/Train/blue_jellyfish/aug-66-18.jpg  \n",
            "  inflating: Train_Test_Valid/Train/blue_jellyfish/aug-67-20.jpg  \n",
            "  inflating: Train_Test_Valid/Train/blue_jellyfish/aug-68-21.jpg  \n",
            "  inflating: Train_Test_Valid/Train/blue_jellyfish/aug-69-23.jpg  \n",
            "  inflating: Train_Test_Valid/Train/blue_jellyfish/aug-7-11.jpg  \n",
            "  inflating: Train_Test_Valid/Train/blue_jellyfish/aug-70-25.jpg  \n",
            "  inflating: Train_Test_Valid/Train/blue_jellyfish/aug-71-26.jpg  \n",
            "  inflating: Train_Test_Valid/Train/blue_jellyfish/aug-72-27.jpg  \n",
            "  inflating: Train_Test_Valid/Train/blue_jellyfish/aug-73-28.jpg  \n",
            "  inflating: Train_Test_Valid/Train/blue_jellyfish/aug-74-29.jpg  \n",
            "  inflating: Train_Test_Valid/Train/blue_jellyfish/aug-75-31.jpg  \n",
            "  inflating: Train_Test_Valid/Train/blue_jellyfish/aug-76-32.jpg  \n",
            "  inflating: Train_Test_Valid/Train/blue_jellyfish/aug-77-34.jpg  \n",
            "  inflating: Train_Test_Valid/Train/blue_jellyfish/aug-78-36.jpg  \n",
            "  inflating: Train_Test_Valid/Train/blue_jellyfish/aug-79-37.jpg  \n",
            "  inflating: Train_Test_Valid/Train/blue_jellyfish/aug-8-13.jpg  \n",
            "  inflating: Train_Test_Valid/Train/blue_jellyfish/aug-80-38.jpg  \n",
            "  inflating: Train_Test_Valid/Train/blue_jellyfish/aug-81-39.jpg  \n",
            "  inflating: Train_Test_Valid/Train/blue_jellyfish/aug-82-40.jpg  \n",
            "  inflating: Train_Test_Valid/Train/blue_jellyfish/aug-83-41.jpg  \n",
            "  inflating: Train_Test_Valid/Train/blue_jellyfish/aug-84-42.jpg  \n",
            "  inflating: Train_Test_Valid/Train/blue_jellyfish/aug-85-43.jpg  \n",
            "  inflating: Train_Test_Valid/Train/blue_jellyfish/aug-86-44.jpg  \n",
            "  inflating: Train_Test_Valid/Train/blue_jellyfish/aug-87-45.jpg  \n",
            "  inflating: Train_Test_Valid/Train/blue_jellyfish/aug-88-46.jpg  \n",
            "  inflating: Train_Test_Valid/Train/blue_jellyfish/aug-89-49.jpg  \n",
            "  inflating: Train_Test_Valid/Train/blue_jellyfish/aug-9-15.jpg  \n",
            "  inflating: Train_Test_Valid/Train/blue_jellyfish/aug-90-50.jpg  \n",
            "  inflating: Train_Test_Valid/Train/blue_jellyfish/aug-91-51.jpg  \n",
            "  inflating: Train_Test_Valid/Train/blue_jellyfish/aug-92-52.jpg  \n",
            "  inflating: Train_Test_Valid/Train/blue_jellyfish/aug-93-53.jpg  \n",
            "  inflating: Train_Test_Valid/Train/blue_jellyfish/aug-94-54.jpg  \n",
            "  inflating: Train_Test_Valid/Train/compass_jellyfish/01.JPG  \n",
            "  inflating: Train_Test_Valid/Train/compass_jellyfish/02.jpg  \n",
            "  inflating: Train_Test_Valid/Train/compass_jellyfish/03.jpg  \n",
            "  inflating: Train_Test_Valid/Train/compass_jellyfish/05.jpg  \n",
            "  inflating: Train_Test_Valid/Train/compass_jellyfish/06.jpg  \n",
            "  inflating: Train_Test_Valid/Train/compass_jellyfish/07.jpg  \n",
            "  inflating: Train_Test_Valid/Train/compass_jellyfish/08.jpg  \n",
            "  inflating: Train_Test_Valid/Train/compass_jellyfish/09.jpg  \n",
            "  inflating: Train_Test_Valid/Train/compass_jellyfish/10.jpg  \n",
            "  inflating: Train_Test_Valid/Train/compass_jellyfish/12.jpg  \n",
            "  inflating: Train_Test_Valid/Train/compass_jellyfish/13.jpg  \n",
            "  inflating: Train_Test_Valid/Train/compass_jellyfish/14.jpg  \n",
            "  inflating: Train_Test_Valid/Train/compass_jellyfish/15.jpg  \n",
            "  inflating: Train_Test_Valid/Train/compass_jellyfish/16.jpg  \n",
            "  inflating: Train_Test_Valid/Train/compass_jellyfish/17.jpg  \n",
            "  inflating: Train_Test_Valid/Train/compass_jellyfish/18.jpg  \n",
            "  inflating: Train_Test_Valid/Train/compass_jellyfish/19.jpg  \n",
            "  inflating: Train_Test_Valid/Train/compass_jellyfish/21.jpg  \n",
            "  inflating: Train_Test_Valid/Train/compass_jellyfish/22.JPG  \n",
            "  inflating: Train_Test_Valid/Train/compass_jellyfish/23.jpg  \n",
            "  inflating: Train_Test_Valid/Train/compass_jellyfish/24.jpg  \n",
            "  inflating: Train_Test_Valid/Train/compass_jellyfish/25.jpg  \n",
            "  inflating: Train_Test_Valid/Train/compass_jellyfish/27.jpg  \n",
            "  inflating: Train_Test_Valid/Train/compass_jellyfish/29.jpg  \n",
            "  inflating: Train_Test_Valid/Train/compass_jellyfish/30.jpg  \n",
            "  inflating: Train_Test_Valid/Train/compass_jellyfish/31.jpg  \n",
            "  inflating: Train_Test_Valid/Train/compass_jellyfish/32.jpg  \n",
            "  inflating: Train_Test_Valid/Train/compass_jellyfish/33.jpg  \n",
            "  inflating: Train_Test_Valid/Train/compass_jellyfish/34.jpg  \n",
            "  inflating: Train_Test_Valid/Train/compass_jellyfish/35.jpg  \n",
            "  inflating: Train_Test_Valid/Train/compass_jellyfish/36.jpg  \n",
            "  inflating: Train_Test_Valid/Train/compass_jellyfish/38.jpg  \n",
            "  inflating: Train_Test_Valid/Train/compass_jellyfish/39.jpg  \n",
            "  inflating: Train_Test_Valid/Train/compass_jellyfish/42.jpg  \n",
            "  inflating: Train_Test_Valid/Train/compass_jellyfish/43.jpg  \n",
            "  inflating: Train_Test_Valid/Train/compass_jellyfish/44.jpg  \n",
            "  inflating: Train_Test_Valid/Train/compass_jellyfish/45.jpg  \n",
            "  inflating: Train_Test_Valid/Train/compass_jellyfish/47.jpg  \n",
            "  inflating: Train_Test_Valid/Train/compass_jellyfish/49.jpg  \n",
            "  inflating: Train_Test_Valid/Train/compass_jellyfish/50.jpg  \n",
            "  inflating: Train_Test_Valid/Train/compass_jellyfish/51.jpg  \n",
            "  inflating: Train_Test_Valid/Train/compass_jellyfish/53.jpg  \n",
            "  inflating: Train_Test_Valid/Train/compass_jellyfish/55.jpg  \n",
            "  inflating: Train_Test_Valid/Train/compass_jellyfish/57.jpg  \n",
            "  inflating: Train_Test_Valid/Train/compass_jellyfish/58.jpg  \n",
            "  inflating: Train_Test_Valid/Train/compass_jellyfish/59.jpg  \n",
            "  inflating: Train_Test_Valid/Train/compass_jellyfish/60.jpg  \n",
            "  inflating: Train_Test_Valid/Train/compass_jellyfish/61.jpg  \n",
            "  inflating: Train_Test_Valid/Train/compass_jellyfish/62.jpg  \n",
            "  inflating: Train_Test_Valid/Train/compass_jellyfish/63.jpg  \n",
            "  inflating: Train_Test_Valid/Train/compass_jellyfish/64.jpg  \n",
            "  inflating: Train_Test_Valid/Train/compass_jellyfish/65.jpg  \n",
            "  inflating: Train_Test_Valid/Train/compass_jellyfish/66.jpg  \n",
            "  inflating: Train_Test_Valid/Train/compass_jellyfish/68.jpeg  \n",
            "  inflating: Train_Test_Valid/Train/compass_jellyfish/70.jpeg  \n",
            "  inflating: Train_Test_Valid/Train/compass_jellyfish/71.jpeg  \n",
            "  inflating: Train_Test_Valid/Train/compass_jellyfish/72.jpg  \n",
            "  inflating: Train_Test_Valid/Train/compass_jellyfish/aug-0-01.JPG  \n",
            "  inflating: Train_Test_Valid/Train/compass_jellyfish/aug-1-02.jpg  \n",
            "  inflating: Train_Test_Valid/Train/compass_jellyfish/aug-10-13.jpg  \n",
            "  inflating: Train_Test_Valid/Train/compass_jellyfish/aug-11-14.jpg  \n",
            "  inflating: Train_Test_Valid/Train/compass_jellyfish/aug-12-15.jpg  \n",
            "  inflating: Train_Test_Valid/Train/compass_jellyfish/aug-13-16.jpg  \n",
            "  inflating: Train_Test_Valid/Train/compass_jellyfish/aug-14-17.jpg  \n",
            "  inflating: Train_Test_Valid/Train/compass_jellyfish/aug-15-18.jpg  \n",
            "  inflating: Train_Test_Valid/Train/compass_jellyfish/aug-16-19.jpg  \n",
            "  inflating: Train_Test_Valid/Train/compass_jellyfish/aug-17-21.jpg  \n",
            "  inflating: Train_Test_Valid/Train/compass_jellyfish/aug-18-22.JPG  \n",
            "  inflating: Train_Test_Valid/Train/compass_jellyfish/aug-19-23.jpg  \n",
            "  inflating: Train_Test_Valid/Train/compass_jellyfish/aug-2-03.jpg  \n",
            "  inflating: Train_Test_Valid/Train/compass_jellyfish/aug-20-24.jpg  \n",
            "  inflating: Train_Test_Valid/Train/compass_jellyfish/aug-21-25.jpg  \n",
            "  inflating: Train_Test_Valid/Train/compass_jellyfish/aug-22-27.jpg  \n",
            "  inflating: Train_Test_Valid/Train/compass_jellyfish/aug-23-29.jpg  \n",
            "  inflating: Train_Test_Valid/Train/compass_jellyfish/aug-24-30.jpg  \n",
            "  inflating: Train_Test_Valid/Train/compass_jellyfish/aug-25-31.jpg  \n",
            "  inflating: Train_Test_Valid/Train/compass_jellyfish/aug-26-32.jpg  \n",
            "  inflating: Train_Test_Valid/Train/compass_jellyfish/aug-27-33.jpg  \n",
            "  inflating: Train_Test_Valid/Train/compass_jellyfish/aug-28-34.jpg  \n",
            "  inflating: Train_Test_Valid/Train/compass_jellyfish/aug-29-35.jpg  \n",
            "  inflating: Train_Test_Valid/Train/compass_jellyfish/aug-3-05.jpg  \n",
            "  inflating: Train_Test_Valid/Train/compass_jellyfish/aug-30-36.jpg  \n",
            "  inflating: Train_Test_Valid/Train/compass_jellyfish/aug-31-38.jpg  \n",
            "  inflating: Train_Test_Valid/Train/compass_jellyfish/aug-32-39.jpg  \n",
            "  inflating: Train_Test_Valid/Train/compass_jellyfish/aug-33-42.jpg  \n",
            "  inflating: Train_Test_Valid/Train/compass_jellyfish/aug-34-43.jpg  \n",
            "  inflating: Train_Test_Valid/Train/compass_jellyfish/aug-35-44.jpg  \n",
            "  inflating: Train_Test_Valid/Train/compass_jellyfish/aug-36-45.jpg  \n",
            "  inflating: Train_Test_Valid/Train/compass_jellyfish/aug-37-47.jpg  \n",
            "  inflating: Train_Test_Valid/Train/compass_jellyfish/aug-38-49.jpg  \n",
            "  inflating: Train_Test_Valid/Train/compass_jellyfish/aug-39-50.jpg  \n",
            "  inflating: Train_Test_Valid/Train/compass_jellyfish/aug-4-06.jpg  \n",
            "  inflating: Train_Test_Valid/Train/compass_jellyfish/aug-40-51.jpg  \n",
            "  inflating: Train_Test_Valid/Train/compass_jellyfish/aug-41-53.jpg  \n",
            "  inflating: Train_Test_Valid/Train/compass_jellyfish/aug-42-55.jpg  \n",
            "  inflating: Train_Test_Valid/Train/compass_jellyfish/aug-43-57.jpg  \n",
            "  inflating: Train_Test_Valid/Train/compass_jellyfish/aug-44-58.jpg  \n",
            "  inflating: Train_Test_Valid/Train/compass_jellyfish/aug-45-59.jpg  \n",
            "  inflating: Train_Test_Valid/Train/compass_jellyfish/aug-46-60.jpg  \n",
            "  inflating: Train_Test_Valid/Train/compass_jellyfish/aug-47-61.jpg  \n",
            "  inflating: Train_Test_Valid/Train/compass_jellyfish/aug-48-62.jpg  \n",
            "  inflating: Train_Test_Valid/Train/compass_jellyfish/aug-49-63.jpg  \n",
            "  inflating: Train_Test_Valid/Train/compass_jellyfish/aug-5-07.jpg  \n",
            "  inflating: Train_Test_Valid/Train/compass_jellyfish/aug-50-64.jpg  \n",
            "  inflating: Train_Test_Valid/Train/compass_jellyfish/aug-51-65.jpg  \n",
            "  inflating: Train_Test_Valid/Train/compass_jellyfish/aug-52-66.jpg  \n",
            "  inflating: Train_Test_Valid/Train/compass_jellyfish/aug-53-68.jpeg  \n",
            "  inflating: Train_Test_Valid/Train/compass_jellyfish/aug-54-70.jpeg  \n",
            "  inflating: Train_Test_Valid/Train/compass_jellyfish/aug-55-71.jpeg  \n",
            "  inflating: Train_Test_Valid/Train/compass_jellyfish/aug-56-72.jpg  \n",
            "  inflating: Train_Test_Valid/Train/compass_jellyfish/aug-57-01.JPG  \n",
            "  inflating: Train_Test_Valid/Train/compass_jellyfish/aug-58-02.jpg  \n",
            "  inflating: Train_Test_Valid/Train/compass_jellyfish/aug-59-03.jpg  \n",
            "  inflating: Train_Test_Valid/Train/compass_jellyfish/aug-6-08.jpg  \n",
            "  inflating: Train_Test_Valid/Train/compass_jellyfish/aug-60-05.jpg  \n",
            "  inflating: Train_Test_Valid/Train/compass_jellyfish/aug-61-06.jpg  \n",
            "  inflating: Train_Test_Valid/Train/compass_jellyfish/aug-62-07.jpg  \n",
            "  inflating: Train_Test_Valid/Train/compass_jellyfish/aug-63-08.jpg  \n",
            "  inflating: Train_Test_Valid/Train/compass_jellyfish/aug-64-09.jpg  \n",
            "  inflating: Train_Test_Valid/Train/compass_jellyfish/aug-65-10.jpg  \n",
            "  inflating: Train_Test_Valid/Train/compass_jellyfish/aug-66-12.jpg  \n",
            "  inflating: Train_Test_Valid/Train/compass_jellyfish/aug-67-13.jpg  \n",
            "  inflating: Train_Test_Valid/Train/compass_jellyfish/aug-68-14.jpg  \n",
            "  inflating: Train_Test_Valid/Train/compass_jellyfish/aug-69-15.jpg  \n",
            "  inflating: Train_Test_Valid/Train/compass_jellyfish/aug-7-09.jpg  \n",
            "  inflating: Train_Test_Valid/Train/compass_jellyfish/aug-70-16.jpg  \n",
            "  inflating: Train_Test_Valid/Train/compass_jellyfish/aug-71-17.jpg  \n",
            "  inflating: Train_Test_Valid/Train/compass_jellyfish/aug-72-18.jpg  \n",
            "  inflating: Train_Test_Valid/Train/compass_jellyfish/aug-73-19.jpg  \n",
            "  inflating: Train_Test_Valid/Train/compass_jellyfish/aug-74-21.jpg  \n",
            "  inflating: Train_Test_Valid/Train/compass_jellyfish/aug-75-22.JPG  \n",
            "  inflating: Train_Test_Valid/Train/compass_jellyfish/aug-76-23.jpg  \n",
            "  inflating: Train_Test_Valid/Train/compass_jellyfish/aug-77-24.jpg  \n",
            "  inflating: Train_Test_Valid/Train/compass_jellyfish/aug-78-25.jpg  \n",
            "  inflating: Train_Test_Valid/Train/compass_jellyfish/aug-79-27.jpg  \n",
            "  inflating: Train_Test_Valid/Train/compass_jellyfish/aug-8-10.jpg  \n",
            "  inflating: Train_Test_Valid/Train/compass_jellyfish/aug-80-29.jpg  \n",
            "  inflating: Train_Test_Valid/Train/compass_jellyfish/aug-81-30.jpg  \n",
            "  inflating: Train_Test_Valid/Train/compass_jellyfish/aug-82-31.jpg  \n",
            "  inflating: Train_Test_Valid/Train/compass_jellyfish/aug-83-32.jpg  \n",
            "  inflating: Train_Test_Valid/Train/compass_jellyfish/aug-84-33.jpg  \n",
            "  inflating: Train_Test_Valid/Train/compass_jellyfish/aug-85-34.jpg  \n",
            "  inflating: Train_Test_Valid/Train/compass_jellyfish/aug-86-35.jpg  \n",
            "  inflating: Train_Test_Valid/Train/compass_jellyfish/aug-87-36.jpg  \n",
            "  inflating: Train_Test_Valid/Train/compass_jellyfish/aug-88-38.jpg  \n",
            "  inflating: Train_Test_Valid/Train/compass_jellyfish/aug-89-39.jpg  \n",
            "  inflating: Train_Test_Valid/Train/compass_jellyfish/aug-9-12.jpg  \n",
            "  inflating: Train_Test_Valid/Train/compass_jellyfish/aug-90-42.jpg  \n",
            "  inflating: Train_Test_Valid/Train/compass_jellyfish/aug-91-43.jpg  \n",
            "  inflating: Train_Test_Valid/Train/compass_jellyfish/aug-92-44.jpg  \n",
            "  inflating: Train_Test_Valid/Train/lions_mane_jellyfish/01.jpg  \n",
            "  inflating: Train_Test_Valid/Train/lions_mane_jellyfish/02.jpg  \n",
            "  inflating: Train_Test_Valid/Train/lions_mane_jellyfish/03.jpg  \n",
            "  inflating: Train_Test_Valid/Train/lions_mane_jellyfish/04.jpg  \n",
            "  inflating: Train_Test_Valid/Train/lions_mane_jellyfish/05.jpg  \n",
            "  inflating: Train_Test_Valid/Train/lions_mane_jellyfish/06.jpg  \n",
            "  inflating: Train_Test_Valid/Train/lions_mane_jellyfish/07.jpg  \n",
            "  inflating: Train_Test_Valid/Train/lions_mane_jellyfish/08.jpg  \n",
            "  inflating: Train_Test_Valid/Train/lions_mane_jellyfish/09.jpg  \n",
            "  inflating: Train_Test_Valid/Train/lions_mane_jellyfish/10.jpg  \n",
            "  inflating: Train_Test_Valid/Train/lions_mane_jellyfish/11.jpg  \n",
            "  inflating: Train_Test_Valid/Train/lions_mane_jellyfish/15.jpg  \n",
            "  inflating: Train_Test_Valid/Train/lions_mane_jellyfish/16.jpg  \n",
            "  inflating: Train_Test_Valid/Train/lions_mane_jellyfish/17.jpg  \n",
            "  inflating: Train_Test_Valid/Train/lions_mane_jellyfish/18.jpg  \n",
            "  inflating: Train_Test_Valid/Train/lions_mane_jellyfish/20.jpg  \n",
            "  inflating: Train_Test_Valid/Train/lions_mane_jellyfish/21.jpg  \n",
            "  inflating: Train_Test_Valid/Train/lions_mane_jellyfish/22.jpg  \n",
            "  inflating: Train_Test_Valid/Train/lions_mane_jellyfish/23.jpg  \n",
            "  inflating: Train_Test_Valid/Train/lions_mane_jellyfish/24.jpg  \n",
            "  inflating: Train_Test_Valid/Train/lions_mane_jellyfish/25.jpg  \n",
            "  inflating: Train_Test_Valid/Train/lions_mane_jellyfish/26.JPG  \n",
            "  inflating: Train_Test_Valid/Train/lions_mane_jellyfish/29.jpg  \n",
            "  inflating: Train_Test_Valid/Train/lions_mane_jellyfish/30.jpg  \n",
            "  inflating: Train_Test_Valid/Train/lions_mane_jellyfish/31.jpg  \n",
            "  inflating: Train_Test_Valid/Train/lions_mane_jellyfish/32.jpg  \n",
            "  inflating: Train_Test_Valid/Train/lions_mane_jellyfish/34.jpg  \n",
            "  inflating: Train_Test_Valid/Train/lions_mane_jellyfish/35.jpg  \n",
            "  inflating: Train_Test_Valid/Train/lions_mane_jellyfish/36.jpg  \n",
            "  inflating: Train_Test_Valid/Train/lions_mane_jellyfish/37.jpg  \n",
            "  inflating: Train_Test_Valid/Train/lions_mane_jellyfish/38.jpg  \n",
            "  inflating: Train_Test_Valid/Train/lions_mane_jellyfish/39.jpg  \n",
            "  inflating: Train_Test_Valid/Train/lions_mane_jellyfish/40.jpg  \n",
            "  inflating: Train_Test_Valid/Train/lions_mane_jellyfish/41.jpg  \n",
            "  inflating: Train_Test_Valid/Train/lions_mane_jellyfish/43.jpg  \n",
            "  inflating: Train_Test_Valid/Train/lions_mane_jellyfish/44.jpg  \n",
            "  inflating: Train_Test_Valid/Train/lions_mane_jellyfish/45.jpg  \n",
            "  inflating: Train_Test_Valid/Train/lions_mane_jellyfish/47.jpg  \n",
            "  inflating: Train_Test_Valid/Train/lions_mane_jellyfish/48.jpg  \n",
            "  inflating: Train_Test_Valid/Train/lions_mane_jellyfish/49.jpg  \n",
            "  inflating: Train_Test_Valid/Train/lions_mane_jellyfish/50.jpg  \n",
            "  inflating: Train_Test_Valid/Train/lions_mane_jellyfish/52.jpg  \n",
            "  inflating: Train_Test_Valid/Train/lions_mane_jellyfish/54.jpg  \n",
            "  inflating: Train_Test_Valid/Train/lions_mane_jellyfish/55.jpg  \n",
            "  inflating: Train_Test_Valid/Train/lions_mane_jellyfish/56.jpg  \n",
            "  inflating: Train_Test_Valid/Train/lions_mane_jellyfish/57.jpg  \n",
            "  inflating: Train_Test_Valid/Train/lions_mane_jellyfish/59.jpg  \n",
            "  inflating: Train_Test_Valid/Train/lions_mane_jellyfish/60.jpg  \n",
            "  inflating: Train_Test_Valid/Train/lions_mane_jellyfish/61.jpg  \n",
            "  inflating: Train_Test_Valid/Train/lions_mane_jellyfish/62.jpg  \n",
            "  inflating: Train_Test_Valid/Train/lions_mane_jellyfish/65.jpg  \n",
            "  inflating: Train_Test_Valid/Train/lions_mane_jellyfish/68.jpg  \n",
            "  inflating: Train_Test_Valid/Train/lions_mane_jellyfish/69.jpg  \n",
            "  inflating: Train_Test_Valid/Train/lions_mane_jellyfish/70.jpg  \n",
            "  inflating: Train_Test_Valid/Train/lions_mane_jellyfish/71.jpg  \n",
            "  inflating: Train_Test_Valid/Train/lions_mane_jellyfish/72.jpg  \n",
            "  inflating: Train_Test_Valid/Train/lions_mane_jellyfish/73.jpeg  \n",
            "  inflating: Train_Test_Valid/Train/lions_mane_jellyfish/74.png  \n",
            "  inflating: Train_Test_Valid/Train/lions_mane_jellyfish/75.jpeg  \n",
            "  inflating: Train_Test_Valid/Train/lions_mane_jellyfish/76.jpg  \n",
            "  inflating: Train_Test_Valid/Train/lions_mane_jellyfish/77.jpg  \n",
            "  inflating: Train_Test_Valid/Train/lions_mane_jellyfish/aug-0-01.jpg  \n",
            "  inflating: Train_Test_Valid/Train/lions_mane_jellyfish/aug-1-02.jpg  \n",
            "  inflating: Train_Test_Valid/Train/lions_mane_jellyfish/aug-10-11.jpg  \n",
            "  inflating: Train_Test_Valid/Train/lions_mane_jellyfish/aug-11-15.jpg  \n",
            "  inflating: Train_Test_Valid/Train/lions_mane_jellyfish/aug-12-16.jpg  \n",
            "  inflating: Train_Test_Valid/Train/lions_mane_jellyfish/aug-13-17.jpg  \n",
            "  inflating: Train_Test_Valid/Train/lions_mane_jellyfish/aug-14-18.jpg  \n",
            "  inflating: Train_Test_Valid/Train/lions_mane_jellyfish/aug-15-20.jpg  \n",
            "  inflating: Train_Test_Valid/Train/lions_mane_jellyfish/aug-16-21.jpg  \n",
            "  inflating: Train_Test_Valid/Train/lions_mane_jellyfish/aug-17-22.jpg  \n",
            "  inflating: Train_Test_Valid/Train/lions_mane_jellyfish/aug-18-23.jpg  \n",
            "  inflating: Train_Test_Valid/Train/lions_mane_jellyfish/aug-19-24.jpg  \n",
            "  inflating: Train_Test_Valid/Train/lions_mane_jellyfish/aug-2-03.jpg  \n",
            "  inflating: Train_Test_Valid/Train/lions_mane_jellyfish/aug-20-25.jpg  \n",
            "  inflating: Train_Test_Valid/Train/lions_mane_jellyfish/aug-21-26.JPG  \n",
            "  inflating: Train_Test_Valid/Train/lions_mane_jellyfish/aug-22-29.jpg  \n",
            "  inflating: Train_Test_Valid/Train/lions_mane_jellyfish/aug-23-30.jpg  \n",
            "  inflating: Train_Test_Valid/Train/lions_mane_jellyfish/aug-24-31.jpg  \n",
            "  inflating: Train_Test_Valid/Train/lions_mane_jellyfish/aug-25-32.jpg  \n",
            "  inflating: Train_Test_Valid/Train/lions_mane_jellyfish/aug-26-34.jpg  \n",
            "  inflating: Train_Test_Valid/Train/lions_mane_jellyfish/aug-27-35.jpg  \n",
            "  inflating: Train_Test_Valid/Train/lions_mane_jellyfish/aug-28-36.jpg  \n",
            "  inflating: Train_Test_Valid/Train/lions_mane_jellyfish/aug-29-37.jpg  \n",
            "  inflating: Train_Test_Valid/Train/lions_mane_jellyfish/aug-3-04.jpg  \n",
            "  inflating: Train_Test_Valid/Train/lions_mane_jellyfish/aug-30-38.jpg  \n",
            "  inflating: Train_Test_Valid/Train/lions_mane_jellyfish/aug-31-39.jpg  \n",
            "  inflating: Train_Test_Valid/Train/lions_mane_jellyfish/aug-32-40.jpg  \n",
            "  inflating: Train_Test_Valid/Train/lions_mane_jellyfish/aug-33-41.jpg  \n",
            "  inflating: Train_Test_Valid/Train/lions_mane_jellyfish/aug-34-43.jpg  \n",
            "  inflating: Train_Test_Valid/Train/lions_mane_jellyfish/aug-35-44.jpg  \n",
            "  inflating: Train_Test_Valid/Train/lions_mane_jellyfish/aug-36-45.jpg  \n",
            "  inflating: Train_Test_Valid/Train/lions_mane_jellyfish/aug-37-47.jpg  \n",
            "  inflating: Train_Test_Valid/Train/lions_mane_jellyfish/aug-38-48.jpg  \n",
            "  inflating: Train_Test_Valid/Train/lions_mane_jellyfish/aug-39-49.jpg  \n",
            "  inflating: Train_Test_Valid/Train/lions_mane_jellyfish/aug-4-05.jpg  \n",
            "  inflating: Train_Test_Valid/Train/lions_mane_jellyfish/aug-40-50.jpg  \n",
            "  inflating: Train_Test_Valid/Train/lions_mane_jellyfish/aug-41-52.jpg  \n",
            "  inflating: Train_Test_Valid/Train/lions_mane_jellyfish/aug-42-54.jpg  \n",
            "  inflating: Train_Test_Valid/Train/lions_mane_jellyfish/aug-43-55.jpg  \n",
            "  inflating: Train_Test_Valid/Train/lions_mane_jellyfish/aug-44-56.jpg  \n",
            "  inflating: Train_Test_Valid/Train/lions_mane_jellyfish/aug-45-57.jpg  \n",
            "  inflating: Train_Test_Valid/Train/lions_mane_jellyfish/aug-46-59.jpg  \n",
            "  inflating: Train_Test_Valid/Train/lions_mane_jellyfish/aug-47-60.jpg  \n",
            "  inflating: Train_Test_Valid/Train/lions_mane_jellyfish/aug-48-61.jpg  \n",
            "  inflating: Train_Test_Valid/Train/lions_mane_jellyfish/aug-49-62.jpg  \n",
            "  inflating: Train_Test_Valid/Train/lions_mane_jellyfish/aug-5-06.jpg  \n",
            "  inflating: Train_Test_Valid/Train/lions_mane_jellyfish/aug-50-65.jpg  \n",
            "  inflating: Train_Test_Valid/Train/lions_mane_jellyfish/aug-51-68.jpg  \n",
            "  inflating: Train_Test_Valid/Train/lions_mane_jellyfish/aug-52-69.jpg  \n",
            "  inflating: Train_Test_Valid/Train/lions_mane_jellyfish/aug-53-70.jpg  \n",
            "  inflating: Train_Test_Valid/Train/lions_mane_jellyfish/aug-54-71.jpg  \n",
            "  inflating: Train_Test_Valid/Train/lions_mane_jellyfish/aug-55-72.jpg  \n",
            "  inflating: Train_Test_Valid/Train/lions_mane_jellyfish/aug-56-73.jpeg  \n",
            "  inflating: Train_Test_Valid/Train/lions_mane_jellyfish/aug-57-74.png  \n",
            "  inflating: Train_Test_Valid/Train/lions_mane_jellyfish/aug-58-75.jpeg  \n",
            "  inflating: Train_Test_Valid/Train/lions_mane_jellyfish/aug-59-76.jpg  \n",
            "  inflating: Train_Test_Valid/Train/lions_mane_jellyfish/aug-6-07.jpg  \n",
            "  inflating: Train_Test_Valid/Train/lions_mane_jellyfish/aug-60-77.jpg  \n",
            "  inflating: Train_Test_Valid/Train/lions_mane_jellyfish/aug-61-01.jpg  \n",
            "  inflating: Train_Test_Valid/Train/lions_mane_jellyfish/aug-62-02.jpg  \n",
            "  inflating: Train_Test_Valid/Train/lions_mane_jellyfish/aug-63-03.jpg  \n",
            "  inflating: Train_Test_Valid/Train/lions_mane_jellyfish/aug-64-04.jpg  \n",
            "  inflating: Train_Test_Valid/Train/lions_mane_jellyfish/aug-65-05.jpg  \n",
            "  inflating: Train_Test_Valid/Train/lions_mane_jellyfish/aug-66-06.jpg  \n",
            "  inflating: Train_Test_Valid/Train/lions_mane_jellyfish/aug-67-07.jpg  \n",
            "  inflating: Train_Test_Valid/Train/lions_mane_jellyfish/aug-68-08.jpg  \n",
            "  inflating: Train_Test_Valid/Train/lions_mane_jellyfish/aug-69-09.jpg  \n",
            "  inflating: Train_Test_Valid/Train/lions_mane_jellyfish/aug-7-08.jpg  \n",
            "  inflating: Train_Test_Valid/Train/lions_mane_jellyfish/aug-70-10.jpg  \n",
            "  inflating: Train_Test_Valid/Train/lions_mane_jellyfish/aug-71-11.jpg  \n",
            "  inflating: Train_Test_Valid/Train/lions_mane_jellyfish/aug-72-15.jpg  \n",
            "  inflating: Train_Test_Valid/Train/lions_mane_jellyfish/aug-73-16.jpg  \n",
            "  inflating: Train_Test_Valid/Train/lions_mane_jellyfish/aug-74-17.jpg  \n",
            "  inflating: Train_Test_Valid/Train/lions_mane_jellyfish/aug-75-18.jpg  \n",
            "  inflating: Train_Test_Valid/Train/lions_mane_jellyfish/aug-76-20.jpg  \n",
            "  inflating: Train_Test_Valid/Train/lions_mane_jellyfish/aug-77-21.jpg  \n",
            "  inflating: Train_Test_Valid/Train/lions_mane_jellyfish/aug-78-22.jpg  \n",
            "  inflating: Train_Test_Valid/Train/lions_mane_jellyfish/aug-79-23.jpg  \n",
            "  inflating: Train_Test_Valid/Train/lions_mane_jellyfish/aug-8-09.jpg  \n",
            "  inflating: Train_Test_Valid/Train/lions_mane_jellyfish/aug-80-24.jpg  \n",
            "  inflating: Train_Test_Valid/Train/lions_mane_jellyfish/aug-81-25.jpg  \n",
            "  inflating: Train_Test_Valid/Train/lions_mane_jellyfish/aug-82-26.JPG  \n",
            "  inflating: Train_Test_Valid/Train/lions_mane_jellyfish/aug-83-29.jpg  \n",
            "  inflating: Train_Test_Valid/Train/lions_mane_jellyfish/aug-84-30.jpg  \n",
            "  inflating: Train_Test_Valid/Train/lions_mane_jellyfish/aug-85-31.jpg  \n",
            "  inflating: Train_Test_Valid/Train/lions_mane_jellyfish/aug-86-32.jpg  \n",
            "  inflating: Train_Test_Valid/Train/lions_mane_jellyfish/aug-87-34.jpg  \n",
            "  inflating: Train_Test_Valid/Train/lions_mane_jellyfish/aug-88-35.jpg  \n",
            "  inflating: Train_Test_Valid/Train/lions_mane_jellyfish/aug-9-10.jpg  \n",
            "  inflating: Train_Test_Valid/Train/mauve_stinger_jellyfish/01.jpg  \n",
            "  inflating: Train_Test_Valid/Train/mauve_stinger_jellyfish/02.jpg  \n",
            "  inflating: Train_Test_Valid/Train/mauve_stinger_jellyfish/03.jpg  \n",
            "  inflating: Train_Test_Valid/Train/mauve_stinger_jellyfish/04.jpg  \n",
            "  inflating: Train_Test_Valid/Train/mauve_stinger_jellyfish/05.jpg  \n",
            "  inflating: Train_Test_Valid/Train/mauve_stinger_jellyfish/06.jpg  \n",
            "  inflating: Train_Test_Valid/Train/mauve_stinger_jellyfish/08.jpg  \n",
            "  inflating: Train_Test_Valid/Train/mauve_stinger_jellyfish/09.jpg  \n",
            "  inflating: Train_Test_Valid/Train/mauve_stinger_jellyfish/11.jpg  \n",
            "  inflating: Train_Test_Valid/Train/mauve_stinger_jellyfish/12.jpg  \n",
            "  inflating: Train_Test_Valid/Train/mauve_stinger_jellyfish/13.jpg  \n",
            "  inflating: Train_Test_Valid/Train/mauve_stinger_jellyfish/15.jpg  \n",
            "  inflating: Train_Test_Valid/Train/mauve_stinger_jellyfish/16.jpg  \n",
            "  inflating: Train_Test_Valid/Train/mauve_stinger_jellyfish/17.jpg  \n",
            "  inflating: Train_Test_Valid/Train/mauve_stinger_jellyfish/18.jpg  \n",
            "  inflating: Train_Test_Valid/Train/mauve_stinger_jellyfish/20.jpg  \n",
            "  inflating: Train_Test_Valid/Train/mauve_stinger_jellyfish/21.jpg  \n",
            "  inflating: Train_Test_Valid/Train/mauve_stinger_jellyfish/22.jpg  \n",
            "  inflating: Train_Test_Valid/Train/mauve_stinger_jellyfish/23.jpg  \n",
            "  inflating: Train_Test_Valid/Train/mauve_stinger_jellyfish/24.jpg  \n",
            "  inflating: Train_Test_Valid/Train/mauve_stinger_jellyfish/25.jpg  \n",
            "  inflating: Train_Test_Valid/Train/mauve_stinger_jellyfish/28.jpg  \n",
            "  inflating: Train_Test_Valid/Train/mauve_stinger_jellyfish/29.jpg  \n",
            "  inflating: Train_Test_Valid/Train/mauve_stinger_jellyfish/30.jpg  \n",
            "  inflating: Train_Test_Valid/Train/mauve_stinger_jellyfish/31.jpg  \n",
            "  inflating: Train_Test_Valid/Train/mauve_stinger_jellyfish/32.jpg  \n",
            "  inflating: Train_Test_Valid/Train/mauve_stinger_jellyfish/33.jpg  \n",
            "  inflating: Train_Test_Valid/Train/mauve_stinger_jellyfish/35.JPG  \n",
            "  inflating: Train_Test_Valid/Train/mauve_stinger_jellyfish/36.jpg  \n",
            "  inflating: Train_Test_Valid/Train/mauve_stinger_jellyfish/37.jpg  \n",
            "  inflating: Train_Test_Valid/Train/mauve_stinger_jellyfish/39.jpg  \n",
            "  inflating: Train_Test_Valid/Train/mauve_stinger_jellyfish/40.jpg  \n",
            "  inflating: Train_Test_Valid/Train/mauve_stinger_jellyfish/41.jpg  \n",
            "  inflating: Train_Test_Valid/Train/mauve_stinger_jellyfish/42.jpg  \n",
            "  inflating: Train_Test_Valid/Train/mauve_stinger_jellyfish/43.jpg  \n",
            "  inflating: Train_Test_Valid/Train/mauve_stinger_jellyfish/44.jpg  \n",
            "  inflating: Train_Test_Valid/Train/mauve_stinger_jellyfish/45.jpg  \n",
            "  inflating: Train_Test_Valid/Train/mauve_stinger_jellyfish/46.jpg  \n",
            "  inflating: Train_Test_Valid/Train/mauve_stinger_jellyfish/47.jpg  \n",
            "  inflating: Train_Test_Valid/Train/mauve_stinger_jellyfish/49.jpg  \n",
            "  inflating: Train_Test_Valid/Train/mauve_stinger_jellyfish/50.jpg  \n",
            "  inflating: Train_Test_Valid/Train/mauve_stinger_jellyfish/51.jpg  \n",
            "  inflating: Train_Test_Valid/Train/mauve_stinger_jellyfish/52.jpg  \n",
            "  inflating: Train_Test_Valid/Train/mauve_stinger_jellyfish/53.jpg  \n",
            "  inflating: Train_Test_Valid/Train/mauve_stinger_jellyfish/54.jpg  \n",
            "  inflating: Train_Test_Valid/Train/mauve_stinger_jellyfish/55.jpg  \n",
            "  inflating: Train_Test_Valid/Train/mauve_stinger_jellyfish/56.JPG  \n",
            "  inflating: Train_Test_Valid/Train/mauve_stinger_jellyfish/57.jpg  \n",
            "  inflating: Train_Test_Valid/Train/mauve_stinger_jellyfish/58.jpg  \n",
            "  inflating: Train_Test_Valid/Train/mauve_stinger_jellyfish/59.jpg  \n",
            "  inflating: Train_Test_Valid/Train/mauve_stinger_jellyfish/62.jpg  \n",
            "  inflating: Train_Test_Valid/Train/mauve_stinger_jellyfish/63.jpg  \n",
            "  inflating: Train_Test_Valid/Train/mauve_stinger_jellyfish/64.jpg  \n",
            "  inflating: Train_Test_Valid/Train/mauve_stinger_jellyfish/65.jpg  \n",
            "  inflating: Train_Test_Valid/Train/mauve_stinger_jellyfish/66.JPG  \n",
            "  inflating: Train_Test_Valid/Train/mauve_stinger_jellyfish/68.jpg  \n",
            "  inflating: Train_Test_Valid/Train/mauve_stinger_jellyfish/71.jpg  \n",
            "  inflating: Train_Test_Valid/Train/mauve_stinger_jellyfish/72.jpg  \n",
            "  inflating: Train_Test_Valid/Train/mauve_stinger_jellyfish/aug-0-01.jpg  \n",
            "  inflating: Train_Test_Valid/Train/mauve_stinger_jellyfish/aug-1-02.jpg  \n",
            "  inflating: Train_Test_Valid/Train/mauve_stinger_jellyfish/aug-10-13.jpg  \n",
            "  inflating: Train_Test_Valid/Train/mauve_stinger_jellyfish/aug-11-15.jpg  \n",
            "  inflating: Train_Test_Valid/Train/mauve_stinger_jellyfish/aug-12-16.jpg  \n",
            "  inflating: Train_Test_Valid/Train/mauve_stinger_jellyfish/aug-13-17.jpg  \n",
            "  inflating: Train_Test_Valid/Train/mauve_stinger_jellyfish/aug-14-18.jpg  \n",
            "  inflating: Train_Test_Valid/Train/mauve_stinger_jellyfish/aug-15-20.jpg  \n",
            "  inflating: Train_Test_Valid/Train/mauve_stinger_jellyfish/aug-16-21.jpg  \n",
            "  inflating: Train_Test_Valid/Train/mauve_stinger_jellyfish/aug-17-22.jpg  \n",
            "  inflating: Train_Test_Valid/Train/mauve_stinger_jellyfish/aug-18-23.jpg  \n",
            "  inflating: Train_Test_Valid/Train/mauve_stinger_jellyfish/aug-19-24.jpg  \n",
            "  inflating: Train_Test_Valid/Train/mauve_stinger_jellyfish/aug-2-03.jpg  \n",
            "  inflating: Train_Test_Valid/Train/mauve_stinger_jellyfish/aug-20-25.jpg  \n",
            "  inflating: Train_Test_Valid/Train/mauve_stinger_jellyfish/aug-21-28.jpg  \n",
            "  inflating: Train_Test_Valid/Train/mauve_stinger_jellyfish/aug-22-29.jpg  \n",
            "  inflating: Train_Test_Valid/Train/mauve_stinger_jellyfish/aug-23-30.jpg  \n",
            "  inflating: Train_Test_Valid/Train/mauve_stinger_jellyfish/aug-24-31.jpg  \n",
            "  inflating: Train_Test_Valid/Train/mauve_stinger_jellyfish/aug-25-32.jpg  \n",
            "  inflating: Train_Test_Valid/Train/mauve_stinger_jellyfish/aug-26-33.jpg  \n",
            "  inflating: Train_Test_Valid/Train/mauve_stinger_jellyfish/aug-27-35.JPG  \n",
            "  inflating: Train_Test_Valid/Train/mauve_stinger_jellyfish/aug-28-36.jpg  \n",
            "  inflating: Train_Test_Valid/Train/mauve_stinger_jellyfish/aug-29-37.jpg  \n",
            "  inflating: Train_Test_Valid/Train/mauve_stinger_jellyfish/aug-3-04.jpg  \n",
            "  inflating: Train_Test_Valid/Train/mauve_stinger_jellyfish/aug-30-39.jpg  \n",
            "  inflating: Train_Test_Valid/Train/mauve_stinger_jellyfish/aug-31-40.jpg  \n",
            "  inflating: Train_Test_Valid/Train/mauve_stinger_jellyfish/aug-32-41.jpg  \n",
            "  inflating: Train_Test_Valid/Train/mauve_stinger_jellyfish/aug-33-42.jpg  \n",
            "  inflating: Train_Test_Valid/Train/mauve_stinger_jellyfish/aug-34-43.jpg  \n",
            "  inflating: Train_Test_Valid/Train/mauve_stinger_jellyfish/aug-35-44.jpg  \n",
            "  inflating: Train_Test_Valid/Train/mauve_stinger_jellyfish/aug-36-45.jpg  \n",
            "  inflating: Train_Test_Valid/Train/mauve_stinger_jellyfish/aug-37-46.jpg  \n",
            "  inflating: Train_Test_Valid/Train/mauve_stinger_jellyfish/aug-38-47.jpg  \n",
            "  inflating: Train_Test_Valid/Train/mauve_stinger_jellyfish/aug-39-49.jpg  \n",
            "  inflating: Train_Test_Valid/Train/mauve_stinger_jellyfish/aug-4-05.jpg  \n",
            "  inflating: Train_Test_Valid/Train/mauve_stinger_jellyfish/aug-40-50.jpg  \n",
            "  inflating: Train_Test_Valid/Train/mauve_stinger_jellyfish/aug-41-51.jpg  \n",
            "  inflating: Train_Test_Valid/Train/mauve_stinger_jellyfish/aug-42-52.jpg  \n",
            "  inflating: Train_Test_Valid/Train/mauve_stinger_jellyfish/aug-43-53.jpg  \n",
            "  inflating: Train_Test_Valid/Train/mauve_stinger_jellyfish/aug-44-54.jpg  \n",
            "  inflating: Train_Test_Valid/Train/mauve_stinger_jellyfish/aug-45-55.jpg  \n",
            "  inflating: Train_Test_Valid/Train/mauve_stinger_jellyfish/aug-46-56.JPG  \n",
            "  inflating: Train_Test_Valid/Train/mauve_stinger_jellyfish/aug-47-57.jpg  \n",
            "  inflating: Train_Test_Valid/Train/mauve_stinger_jellyfish/aug-48-58.jpg  \n",
            "  inflating: Train_Test_Valid/Train/mauve_stinger_jellyfish/aug-49-59.jpg  \n",
            "  inflating: Train_Test_Valid/Train/mauve_stinger_jellyfish/aug-5-06.jpg  \n",
            "  inflating: Train_Test_Valid/Train/mauve_stinger_jellyfish/aug-50-62.jpg  \n",
            "  inflating: Train_Test_Valid/Train/mauve_stinger_jellyfish/aug-51-63.jpg  \n",
            "  inflating: Train_Test_Valid/Train/mauve_stinger_jellyfish/aug-52-64.jpg  \n",
            "  inflating: Train_Test_Valid/Train/mauve_stinger_jellyfish/aug-53-65.jpg  \n",
            "  inflating: Train_Test_Valid/Train/mauve_stinger_jellyfish/aug-54-66.JPG  \n",
            "  inflating: Train_Test_Valid/Train/mauve_stinger_jellyfish/aug-55-68.jpg  \n",
            "  inflating: Train_Test_Valid/Train/mauve_stinger_jellyfish/aug-56-71.jpg  \n",
            "  inflating: Train_Test_Valid/Train/mauve_stinger_jellyfish/aug-57-72.jpg  \n",
            "  inflating: Train_Test_Valid/Train/mauve_stinger_jellyfish/aug-58-01.jpg  \n",
            "  inflating: Train_Test_Valid/Train/mauve_stinger_jellyfish/aug-59-02.jpg  \n",
            "  inflating: Train_Test_Valid/Train/mauve_stinger_jellyfish/aug-6-08.jpg  \n",
            "  inflating: Train_Test_Valid/Train/mauve_stinger_jellyfish/aug-60-03.jpg  \n",
            "  inflating: Train_Test_Valid/Train/mauve_stinger_jellyfish/aug-61-04.jpg  \n",
            "  inflating: Train_Test_Valid/Train/mauve_stinger_jellyfish/aug-62-05.jpg  \n",
            "  inflating: Train_Test_Valid/Train/mauve_stinger_jellyfish/aug-63-06.jpg  \n",
            "  inflating: Train_Test_Valid/Train/mauve_stinger_jellyfish/aug-64-08.jpg  \n",
            "  inflating: Train_Test_Valid/Train/mauve_stinger_jellyfish/aug-65-09.jpg  \n",
            "  inflating: Train_Test_Valid/Train/mauve_stinger_jellyfish/aug-66-11.jpg  \n",
            "  inflating: Train_Test_Valid/Train/mauve_stinger_jellyfish/aug-67-12.jpg  \n",
            "  inflating: Train_Test_Valid/Train/mauve_stinger_jellyfish/aug-68-13.jpg  \n",
            "  inflating: Train_Test_Valid/Train/mauve_stinger_jellyfish/aug-69-15.jpg  \n",
            "  inflating: Train_Test_Valid/Train/mauve_stinger_jellyfish/aug-7-09.jpg  \n",
            "  inflating: Train_Test_Valid/Train/mauve_stinger_jellyfish/aug-70-16.jpg  \n",
            "  inflating: Train_Test_Valid/Train/mauve_stinger_jellyfish/aug-71-17.jpg  \n",
            "  inflating: Train_Test_Valid/Train/mauve_stinger_jellyfish/aug-72-18.jpg  \n",
            "  inflating: Train_Test_Valid/Train/mauve_stinger_jellyfish/aug-73-20.jpg  \n",
            "  inflating: Train_Test_Valid/Train/mauve_stinger_jellyfish/aug-74-21.jpg  \n",
            "  inflating: Train_Test_Valid/Train/mauve_stinger_jellyfish/aug-75-22.jpg  \n",
            "  inflating: Train_Test_Valid/Train/mauve_stinger_jellyfish/aug-76-23.jpg  \n",
            "  inflating: Train_Test_Valid/Train/mauve_stinger_jellyfish/aug-77-24.jpg  \n",
            "  inflating: Train_Test_Valid/Train/mauve_stinger_jellyfish/aug-78-25.jpg  \n",
            "  inflating: Train_Test_Valid/Train/mauve_stinger_jellyfish/aug-79-28.jpg  \n",
            "  inflating: Train_Test_Valid/Train/mauve_stinger_jellyfish/aug-8-11.jpg  \n",
            "  inflating: Train_Test_Valid/Train/mauve_stinger_jellyfish/aug-80-29.jpg  \n",
            "  inflating: Train_Test_Valid/Train/mauve_stinger_jellyfish/aug-81-30.jpg  \n",
            "  inflating: Train_Test_Valid/Train/mauve_stinger_jellyfish/aug-82-31.jpg  \n",
            "  inflating: Train_Test_Valid/Train/mauve_stinger_jellyfish/aug-83-32.jpg  \n",
            "  inflating: Train_Test_Valid/Train/mauve_stinger_jellyfish/aug-84-33.jpg  \n",
            "  inflating: Train_Test_Valid/Train/mauve_stinger_jellyfish/aug-85-35.JPG  \n",
            "  inflating: Train_Test_Valid/Train/mauve_stinger_jellyfish/aug-86-36.jpg  \n",
            "  inflating: Train_Test_Valid/Train/mauve_stinger_jellyfish/aug-87-37.jpg  \n",
            "  inflating: Train_Test_Valid/Train/mauve_stinger_jellyfish/aug-88-39.jpg  \n",
            "  inflating: Train_Test_Valid/Train/mauve_stinger_jellyfish/aug-89-40.jpg  \n",
            "  inflating: Train_Test_Valid/Train/mauve_stinger_jellyfish/aug-9-12.jpg  \n",
            "  inflating: Train_Test_Valid/Train/mauve_stinger_jellyfish/aug-90-41.jpg  \n",
            "  inflating: Train_Test_Valid/Train/mauve_stinger_jellyfish/aug-91-42.jpg  \n",
            "  inflating: Train_Test_Valid/test/Moon_jellyfish/07.JPG  \n",
            "  inflating: Train_Test_Valid/test/Moon_jellyfish/11.jpg  \n",
            "  inflating: Train_Test_Valid/test/Moon_jellyfish/19.jpg  \n",
            "  inflating: Train_Test_Valid/test/Moon_jellyfish/23.jpg  \n",
            "  inflating: Train_Test_Valid/test/Moon_jellyfish/33.jpg  \n",
            "  inflating: Train_Test_Valid/test/Moon_jellyfish/48.jpg  \n",
            "  inflating: Train_Test_Valid/test/barrel_jellyfish/08.jpg  \n",
            "  inflating: Train_Test_Valid/test/barrel_jellyfish/16.jpg  \n",
            "  inflating: Train_Test_Valid/test/barrel_jellyfish/23.jpg  \n",
            "  inflating: Train_Test_Valid/test/barrel_jellyfish/43.jpg  \n",
            "  inflating: Train_Test_Valid/test/barrel_jellyfish/50.jpg  \n",
            "  inflating: Train_Test_Valid/test/blue_jellyfish/01.jpeg  \n",
            "  inflating: Train_Test_Valid/test/blue_jellyfish/10.jpg  \n",
            "  inflating: Train_Test_Valid/test/blue_jellyfish/14.jpg  \n",
            "  inflating: Train_Test_Valid/test/blue_jellyfish/19.jpg  \n",
            "  inflating: Train_Test_Valid/test/blue_jellyfish/24.jpg  \n",
            "  inflating: Train_Test_Valid/test/blue_jellyfish/33.jpeg  \n",
            "  inflating: Train_Test_Valid/test/blue_jellyfish/47.jpg  \n",
            "  inflating: Train_Test_Valid/test/compass_jellyfish/04.jpg  \n",
            "  inflating: Train_Test_Valid/test/compass_jellyfish/20.jpg  \n",
            "  inflating: Train_Test_Valid/test/compass_jellyfish/28.JPG  \n",
            "  inflating: Train_Test_Valid/test/compass_jellyfish/41.jpg  \n",
            "  inflating: Train_Test_Valid/test/compass_jellyfish/48.jpg  \n",
            "  inflating: Train_Test_Valid/test/compass_jellyfish/54.jpg  \n",
            "  inflating: Train_Test_Valid/test/compass_jellyfish/69.png  \n",
            "  inflating: Train_Test_Valid/test/lions_mane_jellyfish/12.jpg  \n",
            "  inflating: Train_Test_Valid/test/lions_mane_jellyfish/14.jpg  \n",
            "  inflating: Train_Test_Valid/test/lions_mane_jellyfish/27.jpg  \n",
            "  inflating: Train_Test_Valid/test/lions_mane_jellyfish/33.jpg  \n",
            "  inflating: Train_Test_Valid/test/lions_mane_jellyfish/46.jpg  \n",
            "  inflating: Train_Test_Valid/test/lions_mane_jellyfish/58.jpg  \n",
            "  inflating: Train_Test_Valid/test/lions_mane_jellyfish/64.jpg  \n",
            "  inflating: Train_Test_Valid/test/lions_mane_jellyfish/67.jpg  \n",
            "  inflating: Train_Test_Valid/test/mauve_stinger_jellyfish/07.jpg  \n",
            "  inflating: Train_Test_Valid/test/mauve_stinger_jellyfish/14.jpg  \n",
            "  inflating: Train_Test_Valid/test/mauve_stinger_jellyfish/26.jpg  \n",
            "  inflating: Train_Test_Valid/test/mauve_stinger_jellyfish/34.jpg  \n",
            "  inflating: Train_Test_Valid/test/mauve_stinger_jellyfish/48.jpg  \n",
            "  inflating: Train_Test_Valid/test/mauve_stinger_jellyfish/61.jpg  \n",
            "  inflating: Train_Test_Valid/test/mauve_stinger_jellyfish/69.jpg  \n",
            "  inflating: Train_Test_Valid/valid/Moon_jellyfish/09.jpg  \n",
            "  inflating: Train_Test_Valid/valid/Moon_jellyfish/15.jpg  \n",
            "  inflating: Train_Test_Valid/valid/Moon_jellyfish/20.jpg  \n",
            "  inflating: Train_Test_Valid/valid/Moon_jellyfish/27.jpg  \n",
            "  inflating: Train_Test_Valid/valid/Moon_jellyfish/44.jpg  \n",
            "  inflating: Train_Test_Valid/valid/Moon_jellyfish/60.jpg  \n",
            "  inflating: Train_Test_Valid/valid/barrel_jellyfish/09.jpg  \n",
            "  inflating: Train_Test_Valid/valid/barrel_jellyfish/19.jpg  \n",
            "  inflating: Train_Test_Valid/valid/barrel_jellyfish/26.JPG  \n",
            "  inflating: Train_Test_Valid/valid/barrel_jellyfish/44.jpg  \n",
            "  inflating: Train_Test_Valid/valid/barrel_jellyfish/51.jpg  \n",
            "  inflating: Train_Test_Valid/valid/blue_jellyfish/05.jpg  \n",
            "  inflating: Train_Test_Valid/valid/blue_jellyfish/12.jpeg  \n",
            "  inflating: Train_Test_Valid/valid/blue_jellyfish/16.jpg  \n",
            "  inflating: Train_Test_Valid/valid/blue_jellyfish/22.jpeg  \n",
            "  inflating: Train_Test_Valid/valid/blue_jellyfish/30.jpg  \n",
            "  inflating: Train_Test_Valid/valid/blue_jellyfish/35.jpg  \n",
            "  inflating: Train_Test_Valid/valid/blue_jellyfish/48.jpg  \n",
            "  inflating: Train_Test_Valid/valid/compass_jellyfish/11.jpg  \n",
            "  inflating: Train_Test_Valid/valid/compass_jellyfish/26.jpg  \n",
            "  inflating: Train_Test_Valid/valid/compass_jellyfish/37.jpg  \n",
            "  inflating: Train_Test_Valid/valid/compass_jellyfish/46.jpg  \n",
            "  inflating: Train_Test_Valid/valid/compass_jellyfish/52.jpg  \n",
            "  inflating: Train_Test_Valid/valid/compass_jellyfish/67.jpg  \n",
            "  inflating: Train_Test_Valid/valid/compass_jellyfish/73.jpg  \n",
            "  inflating: Train_Test_Valid/valid/lions_mane_jellyfish/13.jpg  \n",
            "  inflating: Train_Test_Valid/valid/lions_mane_jellyfish/19.jpg  \n",
            "  inflating: Train_Test_Valid/valid/lions_mane_jellyfish/28.jpg  \n",
            "  inflating: Train_Test_Valid/valid/lions_mane_jellyfish/42.jpg  \n",
            "  inflating: Train_Test_Valid/valid/lions_mane_jellyfish/51.jpg  \n",
            "  inflating: Train_Test_Valid/valid/lions_mane_jellyfish/63.jpg  \n",
            "  inflating: Train_Test_Valid/valid/lions_mane_jellyfish/66.jpg  \n",
            "  inflating: Train_Test_Valid/valid/mauve_stinger_jellyfish/10.jpg  \n",
            "  inflating: Train_Test_Valid/valid/mauve_stinger_jellyfish/19.jpg  \n",
            "  inflating: Train_Test_Valid/valid/mauve_stinger_jellyfish/27.jpg  \n",
            "  inflating: Train_Test_Valid/valid/mauve_stinger_jellyfish/38.jpg  \n",
            "  inflating: Train_Test_Valid/valid/mauve_stinger_jellyfish/60.jpg  \n",
            "  inflating: Train_Test_Valid/valid/mauve_stinger_jellyfish/67.jpg  \n",
            "  inflating: Train_Test_Valid/valid/mauve_stinger_jellyfish/70.jpg  \n",
            "  inflating: barrel_jellyfish/01.jpeg  \n",
            "  inflating: barrel_jellyfish/02.jpg  \n",
            "  inflating: barrel_jellyfish/03.jpg  \n",
            "  inflating: barrel_jellyfish/04.jpg  \n",
            "  inflating: barrel_jellyfish/05.jpg  \n",
            "  inflating: barrel_jellyfish/06.jpg  \n",
            "  inflating: barrel_jellyfish/07.jpg  \n",
            "  inflating: barrel_jellyfish/10.jpg  \n",
            "  inflating: barrel_jellyfish/11.jpg  \n",
            "  inflating: barrel_jellyfish/12.jpg  \n",
            "  inflating: barrel_jellyfish/13.jpg  \n",
            "  inflating: barrel_jellyfish/14.jpg  \n",
            "  inflating: barrel_jellyfish/15.jpg  \n",
            "  inflating: barrel_jellyfish/17.jpg  \n",
            "  inflating: barrel_jellyfish/18.jpg  \n",
            "  inflating: barrel_jellyfish/20.jpg  \n",
            "  inflating: barrel_jellyfish/21.jpg  \n",
            "  inflating: barrel_jellyfish/22.jpg  \n",
            "  inflating: barrel_jellyfish/24.jpg  \n",
            "  inflating: barrel_jellyfish/25.jpg  \n",
            "  inflating: barrel_jellyfish/27.jpg  \n",
            "  inflating: barrel_jellyfish/28.jpg  \n",
            "  inflating: barrel_jellyfish/29.jpg  \n",
            "  inflating: barrel_jellyfish/30.jpg  \n",
            "  inflating: barrel_jellyfish/31.jpg  \n",
            "  inflating: barrel_jellyfish/32.JPG  \n",
            "  inflating: barrel_jellyfish/33.jpg  \n",
            "  inflating: barrel_jellyfish/34.jpg  \n",
            "  inflating: barrel_jellyfish/35.jpg  \n",
            "  inflating: barrel_jellyfish/36.jpg  \n",
            "  inflating: barrel_jellyfish/37.jpg  \n",
            "  inflating: barrel_jellyfish/38.jpg  \n",
            "  inflating: barrel_jellyfish/39.JPG  \n",
            "  inflating: barrel_jellyfish/40.jpg  \n",
            "  inflating: barrel_jellyfish/41.jpg  \n",
            "  inflating: barrel_jellyfish/42.jpg  \n",
            "  inflating: barrel_jellyfish/45.jpg  \n",
            "  inflating: barrel_jellyfish/46.jpg  \n",
            "  inflating: barrel_jellyfish/47.jpg  \n",
            "  inflating: barrel_jellyfish/48.jpg  \n",
            "  inflating: barrel_jellyfish/49.jpg  \n",
            "  inflating: barrel_jellyfish/aug-0-01.jpeg  \n",
            "  inflating: barrel_jellyfish/aug-1-02.jpg  \n",
            "  inflating: barrel_jellyfish/aug-10-13.jpg  \n",
            "  inflating: barrel_jellyfish/aug-100-24.jpg  \n",
            "  inflating: barrel_jellyfish/aug-101-25.jpg  \n",
            "  inflating: barrel_jellyfish/aug-102-27.jpg  \n",
            "  inflating: barrel_jellyfish/aug-103-28.jpg  \n",
            "  inflating: barrel_jellyfish/aug-104-29.jpg  \n",
            "  inflating: barrel_jellyfish/aug-105-30.jpg  \n",
            "  inflating: barrel_jellyfish/aug-106-31.jpg  \n",
            "  inflating: barrel_jellyfish/aug-107-32.JPG  \n",
            "  inflating: barrel_jellyfish/aug-108-33.jpg  \n",
            "  inflating: barrel_jellyfish/aug-11-14.jpg  \n",
            "  inflating: barrel_jellyfish/aug-12-15.jpg  \n",
            "  inflating: barrel_jellyfish/aug-13-17.jpg  \n",
            "  inflating: barrel_jellyfish/aug-14-18.jpg  \n",
            "  inflating: barrel_jellyfish/aug-15-20.jpg  \n",
            "  inflating: barrel_jellyfish/aug-16-21.jpg  \n",
            "  inflating: barrel_jellyfish/aug-17-22.jpg  \n",
            "  inflating: barrel_jellyfish/aug-18-24.jpg  \n",
            "  inflating: barrel_jellyfish/aug-19-25.jpg  \n",
            "  inflating: barrel_jellyfish/aug-2-03.jpg  \n",
            "  inflating: barrel_jellyfish/aug-20-27.jpg  \n",
            "  inflating: barrel_jellyfish/aug-21-28.jpg  \n",
            "  inflating: barrel_jellyfish/aug-22-29.jpg  \n",
            "  inflating: barrel_jellyfish/aug-23-30.jpg  \n",
            "  inflating: barrel_jellyfish/aug-24-31.jpg  \n",
            "  inflating: barrel_jellyfish/aug-25-32.JPG  \n",
            "  inflating: barrel_jellyfish/aug-26-33.jpg  \n",
            "  inflating: barrel_jellyfish/aug-27-34.jpg  \n",
            "  inflating: barrel_jellyfish/aug-28-35.jpg  \n",
            "  inflating: barrel_jellyfish/aug-29-36.jpg  \n",
            "  inflating: barrel_jellyfish/aug-3-04.jpg  \n",
            "  inflating: barrel_jellyfish/aug-30-37.jpg  \n",
            "  inflating: barrel_jellyfish/aug-31-38.jpg  \n",
            "  inflating: barrel_jellyfish/aug-32-39.JPG  \n",
            "  inflating: barrel_jellyfish/aug-33-40.jpg  \n",
            "  inflating: barrel_jellyfish/aug-34-41.jpg  \n",
            "  inflating: barrel_jellyfish/aug-35-42.jpg  \n",
            "  inflating: barrel_jellyfish/aug-36-45.jpg  \n",
            "  inflating: barrel_jellyfish/aug-37-46.jpg  \n",
            "  inflating: barrel_jellyfish/aug-38-47.jpg  \n",
            "  inflating: barrel_jellyfish/aug-39-48.jpg  \n",
            "  inflating: barrel_jellyfish/aug-4-05.jpg  \n",
            "  inflating: barrel_jellyfish/aug-40-49.jpg  \n",
            "  inflating: barrel_jellyfish/aug-41-01.jpeg  \n",
            "  inflating: barrel_jellyfish/aug-42-02.jpg  \n",
            "  inflating: barrel_jellyfish/aug-43-03.jpg  \n",
            "  inflating: barrel_jellyfish/aug-44-04.jpg  \n",
            "  inflating: barrel_jellyfish/aug-45-05.jpg  \n",
            "  inflating: barrel_jellyfish/aug-46-06.jpg  \n",
            "  inflating: barrel_jellyfish/aug-47-07.jpg  \n",
            "  inflating: barrel_jellyfish/aug-48-10.jpg  \n",
            "  inflating: barrel_jellyfish/aug-49-11.jpg  \n",
            "  inflating: barrel_jellyfish/aug-5-06.jpg  \n",
            "  inflating: barrel_jellyfish/aug-50-12.jpg  \n",
            "  inflating: barrel_jellyfish/aug-51-13.jpg  \n",
            "  inflating: barrel_jellyfish/aug-52-14.jpg  \n",
            "  inflating: barrel_jellyfish/aug-53-15.jpg  \n",
            "  inflating: barrel_jellyfish/aug-54-17.jpg  \n",
            "  inflating: barrel_jellyfish/aug-55-18.jpg  \n",
            "  inflating: barrel_jellyfish/aug-56-20.jpg  \n",
            "  inflating: barrel_jellyfish/aug-57-21.jpg  \n",
            "  inflating: barrel_jellyfish/aug-58-22.jpg  \n",
            "  inflating: barrel_jellyfish/aug-59-24.jpg  \n",
            "  inflating: barrel_jellyfish/aug-6-07.jpg  \n",
            "  inflating: barrel_jellyfish/aug-60-25.jpg  \n",
            "  inflating: barrel_jellyfish/aug-61-27.jpg  \n",
            "  inflating: barrel_jellyfish/aug-62-28.jpg  \n",
            "  inflating: barrel_jellyfish/aug-63-29.jpg  \n",
            "  inflating: barrel_jellyfish/aug-64-30.jpg  \n",
            "  inflating: barrel_jellyfish/aug-65-31.jpg  \n",
            "  inflating: barrel_jellyfish/aug-66-32.JPG  \n",
            "  inflating: barrel_jellyfish/aug-67-33.jpg  \n",
            "  inflating: barrel_jellyfish/aug-68-34.jpg  \n",
            "  inflating: barrel_jellyfish/aug-69-35.jpg  \n",
            "  inflating: barrel_jellyfish/aug-7-10.jpg  \n",
            "  inflating: barrel_jellyfish/aug-70-36.jpg  \n",
            "  inflating: barrel_jellyfish/aug-71-37.jpg  \n",
            "  inflating: barrel_jellyfish/aug-72-38.jpg  \n",
            "  inflating: barrel_jellyfish/aug-73-39.JPG  \n",
            "  inflating: barrel_jellyfish/aug-74-40.jpg  \n",
            "  inflating: barrel_jellyfish/aug-75-41.jpg  \n",
            "  inflating: barrel_jellyfish/aug-76-42.jpg  \n",
            "  inflating: barrel_jellyfish/aug-77-45.jpg  \n",
            "  inflating: barrel_jellyfish/aug-78-46.jpg  \n",
            "  inflating: barrel_jellyfish/aug-79-47.jpg  \n",
            "  inflating: barrel_jellyfish/aug-8-11.jpg  \n",
            "  inflating: barrel_jellyfish/aug-80-48.jpg  \n",
            "  inflating: barrel_jellyfish/aug-81-49.jpg  \n",
            "  inflating: barrel_jellyfish/aug-82-01.jpeg  \n",
            "  inflating: barrel_jellyfish/aug-83-02.jpg  \n",
            "  inflating: barrel_jellyfish/aug-84-03.jpg  \n",
            "  inflating: barrel_jellyfish/aug-85-04.jpg  \n",
            "  inflating: barrel_jellyfish/aug-86-05.jpg  \n",
            "  inflating: barrel_jellyfish/aug-87-06.jpg  \n",
            "  inflating: barrel_jellyfish/aug-88-07.jpg  \n",
            "  inflating: barrel_jellyfish/aug-89-10.jpg  \n",
            "  inflating: barrel_jellyfish/aug-9-12.jpg  \n",
            "  inflating: barrel_jellyfish/aug-90-11.jpg  \n",
            "  inflating: barrel_jellyfish/aug-91-12.jpg  \n",
            "  inflating: barrel_jellyfish/aug-92-13.jpg  \n",
            "  inflating: barrel_jellyfish/aug-93-14.jpg  \n",
            "  inflating: barrel_jellyfish/aug-94-15.jpg  \n",
            "  inflating: barrel_jellyfish/aug-95-17.jpg  \n",
            "  inflating: barrel_jellyfish/aug-96-18.jpg  \n",
            "  inflating: barrel_jellyfish/aug-97-20.jpg  \n",
            "  inflating: barrel_jellyfish/aug-98-21.jpg  \n",
            "  inflating: barrel_jellyfish/aug-99-22.jpg  \n",
            "  inflating: blue_jellyfish/02.jpg   \n",
            "  inflating: blue_jellyfish/03.jpg   \n",
            "  inflating: blue_jellyfish/04.jpg   \n",
            "  inflating: blue_jellyfish/06.jpg   \n",
            "  inflating: blue_jellyfish/07.jpg   \n",
            "  inflating: blue_jellyfish/08.jpg   \n",
            "  inflating: blue_jellyfish/09.jpg   \n",
            "  inflating: blue_jellyfish/11.jpg   \n",
            "  inflating: blue_jellyfish/13.jpg   \n",
            "  inflating: blue_jellyfish/15.jpg   \n",
            "  inflating: blue_jellyfish/17.jpg   \n",
            "  inflating: blue_jellyfish/18.jpg   \n",
            "  inflating: blue_jellyfish/20.jpg   \n",
            "  inflating: blue_jellyfish/21.jpg   \n",
            "  inflating: blue_jellyfish/23.jpg   \n",
            "  inflating: blue_jellyfish/25.jpg   \n",
            "  inflating: blue_jellyfish/26.jpg   \n",
            "  inflating: blue_jellyfish/27.jpg   \n",
            "  inflating: blue_jellyfish/28.jpg   \n",
            "  inflating: blue_jellyfish/29.jpg   \n",
            "  inflating: blue_jellyfish/31.jpg   \n",
            "  inflating: blue_jellyfish/32.jpg   \n",
            "  inflating: blue_jellyfish/34.jpg   \n",
            "  inflating: blue_jellyfish/36.jpg   \n",
            "  inflating: blue_jellyfish/37.jpg   \n",
            "  inflating: blue_jellyfish/38.jpg   \n",
            "  inflating: blue_jellyfish/39.jpg   \n",
            "  inflating: blue_jellyfish/40.jpg   \n",
            "  inflating: blue_jellyfish/41.jpg   \n",
            "  inflating: blue_jellyfish/42.jpg   \n",
            "  inflating: blue_jellyfish/43.jpg   \n",
            "  inflating: blue_jellyfish/44.jpg   \n",
            "  inflating: blue_jellyfish/45.jpg   \n",
            "  inflating: blue_jellyfish/46.jpg   \n",
            "  inflating: blue_jellyfish/49.jpg   \n",
            "  inflating: blue_jellyfish/50.jpg   \n",
            "  inflating: blue_jellyfish/51.jpg   \n",
            "  inflating: blue_jellyfish/52.jpg   \n",
            "  inflating: blue_jellyfish/53.jpg   \n",
            "  inflating: blue_jellyfish/54.jpg   \n",
            "  inflating: blue_jellyfish/55.jpg   \n",
            "  inflating: blue_jellyfish/56.jpg   \n",
            "  inflating: blue_jellyfish/57.jpg   \n",
            "  inflating: blue_jellyfish/58.jpg   \n",
            "  inflating: blue_jellyfish/59.jpg   \n",
            "  inflating: blue_jellyfish/60.jpg   \n",
            "  inflating: blue_jellyfish/61.jpg   \n",
            "  inflating: blue_jellyfish/62.jpg   \n",
            "  inflating: blue_jellyfish/63.jpg   \n",
            "  inflating: blue_jellyfish/64.jpg   \n",
            "  inflating: blue_jellyfish/65.jpg   \n",
            "  inflating: blue_jellyfish/66.jpg   \n",
            "  inflating: blue_jellyfish/67.jpg   \n",
            "  inflating: blue_jellyfish/68.png   \n",
            "  inflating: blue_jellyfish/69.jpg   \n",
            "  inflating: blue_jellyfish/aug-0-02.jpg  \n",
            "  inflating: blue_jellyfish/aug-1-03.jpg  \n",
            "  inflating: blue_jellyfish/aug-10-17.jpg  \n",
            "  inflating: blue_jellyfish/aug-11-18.jpg  \n",
            "  inflating: blue_jellyfish/aug-12-20.jpg  \n",
            "  inflating: blue_jellyfish/aug-13-21.jpg  \n",
            "  inflating: blue_jellyfish/aug-14-23.jpg  \n",
            "  inflating: blue_jellyfish/aug-15-25.jpg  \n",
            "  inflating: blue_jellyfish/aug-16-26.jpg  \n",
            "  inflating: blue_jellyfish/aug-17-27.jpg  \n",
            "  inflating: blue_jellyfish/aug-18-28.jpg  \n",
            "  inflating: blue_jellyfish/aug-19-29.jpg  \n",
            "  inflating: blue_jellyfish/aug-2-04.jpg  \n",
            "  inflating: blue_jellyfish/aug-20-31.jpg  \n",
            "  inflating: blue_jellyfish/aug-21-32.jpg  \n",
            "  inflating: blue_jellyfish/aug-22-34.jpg  \n",
            "  inflating: blue_jellyfish/aug-23-36.jpg  \n",
            "  inflating: blue_jellyfish/aug-24-37.jpg  \n",
            "  inflating: blue_jellyfish/aug-25-38.jpg  \n",
            "  inflating: blue_jellyfish/aug-26-39.jpg  \n",
            "  inflating: blue_jellyfish/aug-27-40.jpg  \n",
            "  inflating: blue_jellyfish/aug-28-41.jpg  \n",
            "  inflating: blue_jellyfish/aug-29-42.jpg  \n",
            "  inflating: blue_jellyfish/aug-3-06.jpg  \n",
            "  inflating: blue_jellyfish/aug-30-43.jpg  \n",
            "  inflating: blue_jellyfish/aug-31-44.jpg  \n",
            "  inflating: blue_jellyfish/aug-32-45.jpg  \n",
            "  inflating: blue_jellyfish/aug-33-46.jpg  \n",
            "  inflating: blue_jellyfish/aug-34-49.jpg  \n",
            "  inflating: blue_jellyfish/aug-35-50.jpg  \n",
            "  inflating: blue_jellyfish/aug-36-51.jpg  \n",
            "  inflating: blue_jellyfish/aug-37-52.jpg  \n",
            "  inflating: blue_jellyfish/aug-38-53.jpg  \n",
            "  inflating: blue_jellyfish/aug-39-54.jpg  \n",
            "  inflating: blue_jellyfish/aug-4-07.jpg  \n",
            "  inflating: blue_jellyfish/aug-40-55.jpg  \n",
            "  inflating: blue_jellyfish/aug-41-56.jpg  \n",
            "  inflating: blue_jellyfish/aug-42-57.jpg  \n",
            "  inflating: blue_jellyfish/aug-43-58.jpg  \n",
            "  inflating: blue_jellyfish/aug-44-59.jpg  \n",
            "  inflating: blue_jellyfish/aug-45-60.jpg  \n",
            "  inflating: blue_jellyfish/aug-46-61.jpg  \n",
            "  inflating: blue_jellyfish/aug-47-62.jpg  \n",
            "  inflating: blue_jellyfish/aug-48-63.jpg  \n",
            "  inflating: blue_jellyfish/aug-49-64.jpg  \n",
            "  inflating: blue_jellyfish/aug-5-08.jpg  \n",
            "  inflating: blue_jellyfish/aug-50-65.jpg  \n",
            "  inflating: blue_jellyfish/aug-51-66.jpg  \n",
            "  inflating: blue_jellyfish/aug-52-67.jpg  \n",
            "  inflating: blue_jellyfish/aug-53-68.png  \n",
            "  inflating: blue_jellyfish/aug-54-69.jpg  \n",
            "  inflating: blue_jellyfish/aug-55-02.jpg  \n",
            "  inflating: blue_jellyfish/aug-56-03.jpg  \n",
            "  inflating: blue_jellyfish/aug-57-04.jpg  \n",
            "  inflating: blue_jellyfish/aug-58-06.jpg  \n",
            "  inflating: blue_jellyfish/aug-59-07.jpg  \n",
            "  inflating: blue_jellyfish/aug-6-09.jpg  \n",
            "  inflating: blue_jellyfish/aug-60-08.jpg  \n",
            "  inflating: blue_jellyfish/aug-61-09.jpg  \n",
            "  inflating: blue_jellyfish/aug-62-11.jpg  \n",
            "  inflating: blue_jellyfish/aug-63-13.jpg  \n",
            "  inflating: blue_jellyfish/aug-64-15.jpg  \n",
            "  inflating: blue_jellyfish/aug-65-17.jpg  \n",
            "  inflating: blue_jellyfish/aug-66-18.jpg  \n",
            "  inflating: blue_jellyfish/aug-67-20.jpg  \n",
            "  inflating: blue_jellyfish/aug-68-21.jpg  \n",
            "  inflating: blue_jellyfish/aug-69-23.jpg  \n",
            "  inflating: blue_jellyfish/aug-7-11.jpg  \n",
            "  inflating: blue_jellyfish/aug-70-25.jpg  \n",
            "  inflating: blue_jellyfish/aug-71-26.jpg  \n",
            "  inflating: blue_jellyfish/aug-72-27.jpg  \n",
            "  inflating: blue_jellyfish/aug-73-28.jpg  \n",
            "  inflating: blue_jellyfish/aug-74-29.jpg  \n",
            "  inflating: blue_jellyfish/aug-75-31.jpg  \n",
            "  inflating: blue_jellyfish/aug-76-32.jpg  \n",
            "  inflating: blue_jellyfish/aug-77-34.jpg  \n",
            "  inflating: blue_jellyfish/aug-78-36.jpg  \n",
            "  inflating: blue_jellyfish/aug-79-37.jpg  \n",
            "  inflating: blue_jellyfish/aug-8-13.jpg  \n",
            "  inflating: blue_jellyfish/aug-80-38.jpg  \n",
            "  inflating: blue_jellyfish/aug-81-39.jpg  \n",
            "  inflating: blue_jellyfish/aug-82-40.jpg  \n",
            "  inflating: blue_jellyfish/aug-83-41.jpg  \n",
            "  inflating: blue_jellyfish/aug-84-42.jpg  \n",
            "  inflating: blue_jellyfish/aug-85-43.jpg  \n",
            "  inflating: blue_jellyfish/aug-86-44.jpg  \n",
            "  inflating: blue_jellyfish/aug-87-45.jpg  \n",
            "  inflating: blue_jellyfish/aug-88-46.jpg  \n",
            "  inflating: blue_jellyfish/aug-89-49.jpg  \n",
            "  inflating: blue_jellyfish/aug-9-15.jpg  \n",
            "  inflating: blue_jellyfish/aug-90-50.jpg  \n",
            "  inflating: blue_jellyfish/aug-91-51.jpg  \n",
            "  inflating: blue_jellyfish/aug-92-52.jpg  \n",
            "  inflating: blue_jellyfish/aug-93-53.jpg  \n",
            "  inflating: blue_jellyfish/aug-94-54.jpg  \n",
            "  inflating: compass_jellyfish/01.JPG  \n",
            "  inflating: compass_jellyfish/02.jpg  \n",
            "  inflating: compass_jellyfish/03.jpg  \n",
            "  inflating: compass_jellyfish/05.jpg  \n",
            "  inflating: compass_jellyfish/06.jpg  \n",
            "  inflating: compass_jellyfish/07.jpg  \n",
            "  inflating: compass_jellyfish/08.jpg  \n",
            "  inflating: compass_jellyfish/09.jpg  \n",
            "  inflating: compass_jellyfish/10.jpg  \n",
            "  inflating: compass_jellyfish/12.jpg  \n",
            "  inflating: compass_jellyfish/13.jpg  \n",
            "  inflating: compass_jellyfish/14.jpg  \n",
            "  inflating: compass_jellyfish/15.jpg  \n",
            "  inflating: compass_jellyfish/16.jpg  \n",
            "  inflating: compass_jellyfish/17.jpg  \n",
            "  inflating: compass_jellyfish/18.jpg  \n",
            "  inflating: compass_jellyfish/19.jpg  \n",
            "  inflating: compass_jellyfish/21.jpg  \n",
            "  inflating: compass_jellyfish/22.JPG  \n",
            "  inflating: compass_jellyfish/23.jpg  \n",
            "  inflating: compass_jellyfish/24.jpg  \n",
            "  inflating: compass_jellyfish/25.jpg  \n",
            "  inflating: compass_jellyfish/27.jpg  \n",
            "  inflating: compass_jellyfish/29.jpg  \n",
            "  inflating: compass_jellyfish/30.jpg  \n",
            "  inflating: compass_jellyfish/31.jpg  \n",
            "  inflating: compass_jellyfish/32.jpg  \n",
            "  inflating: compass_jellyfish/33.jpg  \n",
            "  inflating: compass_jellyfish/34.jpg  \n",
            "  inflating: compass_jellyfish/35.jpg  \n",
            "  inflating: compass_jellyfish/36.jpg  \n",
            "  inflating: compass_jellyfish/38.jpg  \n",
            "  inflating: compass_jellyfish/39.jpg  \n",
            "  inflating: compass_jellyfish/42.jpg  \n",
            "  inflating: compass_jellyfish/43.jpg  \n",
            "  inflating: compass_jellyfish/44.jpg  \n",
            "  inflating: compass_jellyfish/45.jpg  \n",
            "  inflating: compass_jellyfish/47.jpg  \n",
            "  inflating: compass_jellyfish/49.jpg  \n",
            "  inflating: compass_jellyfish/50.jpg  \n",
            "  inflating: compass_jellyfish/51.jpg  \n",
            "  inflating: compass_jellyfish/53.jpg  \n",
            "  inflating: compass_jellyfish/55.jpg  \n",
            "  inflating: compass_jellyfish/57.jpg  \n",
            "  inflating: compass_jellyfish/58.jpg  \n",
            "  inflating: compass_jellyfish/59.jpg  \n",
            "  inflating: compass_jellyfish/60.jpg  \n",
            "  inflating: compass_jellyfish/61.jpg  \n",
            "  inflating: compass_jellyfish/62.jpg  \n",
            "  inflating: compass_jellyfish/63.jpg  \n",
            "  inflating: compass_jellyfish/64.jpg  \n",
            "  inflating: compass_jellyfish/65.jpg  \n",
            "  inflating: compass_jellyfish/66.jpg  \n",
            "  inflating: compass_jellyfish/68.jpeg  \n",
            "  inflating: compass_jellyfish/70.jpeg  \n",
            "  inflating: compass_jellyfish/71.jpeg  \n",
            "  inflating: compass_jellyfish/72.jpg  \n",
            "  inflating: compass_jellyfish/aug-0-01.JPG  \n",
            "  inflating: compass_jellyfish/aug-1-02.jpg  \n",
            "  inflating: compass_jellyfish/aug-10-13.jpg  \n",
            "  inflating: compass_jellyfish/aug-11-14.jpg  \n",
            "  inflating: compass_jellyfish/aug-12-15.jpg  \n",
            "  inflating: compass_jellyfish/aug-13-16.jpg  \n",
            "  inflating: compass_jellyfish/aug-14-17.jpg  \n",
            "  inflating: compass_jellyfish/aug-15-18.jpg  \n",
            "  inflating: compass_jellyfish/aug-16-19.jpg  \n",
            "  inflating: compass_jellyfish/aug-17-21.jpg  \n",
            "  inflating: compass_jellyfish/aug-18-22.JPG  \n",
            "  inflating: compass_jellyfish/aug-19-23.jpg  \n",
            "  inflating: compass_jellyfish/aug-2-03.jpg  \n",
            "  inflating: compass_jellyfish/aug-20-24.jpg  \n",
            "  inflating: compass_jellyfish/aug-21-25.jpg  \n",
            "  inflating: compass_jellyfish/aug-22-27.jpg  \n",
            "  inflating: compass_jellyfish/aug-23-29.jpg  \n",
            "  inflating: compass_jellyfish/aug-24-30.jpg  \n",
            "  inflating: compass_jellyfish/aug-25-31.jpg  \n",
            "  inflating: compass_jellyfish/aug-26-32.jpg  \n",
            "  inflating: compass_jellyfish/aug-27-33.jpg  \n",
            "  inflating: compass_jellyfish/aug-28-34.jpg  \n",
            "  inflating: compass_jellyfish/aug-29-35.jpg  \n",
            "  inflating: compass_jellyfish/aug-3-05.jpg  \n",
            "  inflating: compass_jellyfish/aug-30-36.jpg  \n",
            "  inflating: compass_jellyfish/aug-31-38.jpg  \n",
            "  inflating: compass_jellyfish/aug-32-39.jpg  \n",
            "  inflating: compass_jellyfish/aug-33-42.jpg  \n",
            "  inflating: compass_jellyfish/aug-34-43.jpg  \n",
            "  inflating: compass_jellyfish/aug-35-44.jpg  \n",
            "  inflating: compass_jellyfish/aug-36-45.jpg  \n",
            "  inflating: compass_jellyfish/aug-37-47.jpg  \n",
            "  inflating: compass_jellyfish/aug-38-49.jpg  \n",
            "  inflating: compass_jellyfish/aug-39-50.jpg  \n",
            "  inflating: compass_jellyfish/aug-4-06.jpg  \n",
            "  inflating: compass_jellyfish/aug-40-51.jpg  \n",
            "  inflating: compass_jellyfish/aug-41-53.jpg  \n",
            "  inflating: compass_jellyfish/aug-42-55.jpg  \n",
            "  inflating: compass_jellyfish/aug-43-57.jpg  \n",
            "  inflating: compass_jellyfish/aug-44-58.jpg  \n",
            "  inflating: compass_jellyfish/aug-45-59.jpg  \n",
            "  inflating: compass_jellyfish/aug-46-60.jpg  \n",
            "  inflating: compass_jellyfish/aug-47-61.jpg  \n",
            "  inflating: compass_jellyfish/aug-48-62.jpg  \n",
            "  inflating: compass_jellyfish/aug-49-63.jpg  \n",
            "  inflating: compass_jellyfish/aug-5-07.jpg  \n",
            "  inflating: compass_jellyfish/aug-50-64.jpg  \n",
            "  inflating: compass_jellyfish/aug-51-65.jpg  \n",
            "  inflating: compass_jellyfish/aug-52-66.jpg  \n",
            "  inflating: compass_jellyfish/aug-53-68.jpeg  \n",
            "  inflating: compass_jellyfish/aug-54-70.jpeg  \n",
            "  inflating: compass_jellyfish/aug-55-71.jpeg  \n",
            "  inflating: compass_jellyfish/aug-56-72.jpg  \n",
            "  inflating: compass_jellyfish/aug-57-01.JPG  \n",
            "  inflating: compass_jellyfish/aug-58-02.jpg  \n",
            "  inflating: compass_jellyfish/aug-59-03.jpg  \n",
            "  inflating: compass_jellyfish/aug-6-08.jpg  \n",
            "  inflating: compass_jellyfish/aug-60-05.jpg  \n",
            "  inflating: compass_jellyfish/aug-61-06.jpg  \n",
            "  inflating: compass_jellyfish/aug-62-07.jpg  \n",
            "  inflating: compass_jellyfish/aug-63-08.jpg  \n",
            "  inflating: compass_jellyfish/aug-64-09.jpg  \n",
            "  inflating: compass_jellyfish/aug-65-10.jpg  \n",
            "  inflating: compass_jellyfish/aug-66-12.jpg  \n",
            "  inflating: compass_jellyfish/aug-67-13.jpg  \n",
            "  inflating: compass_jellyfish/aug-68-14.jpg  \n",
            "  inflating: compass_jellyfish/aug-69-15.jpg  \n",
            "  inflating: compass_jellyfish/aug-7-09.jpg  \n",
            "  inflating: compass_jellyfish/aug-70-16.jpg  \n",
            "  inflating: compass_jellyfish/aug-71-17.jpg  \n",
            "  inflating: compass_jellyfish/aug-72-18.jpg  \n",
            "  inflating: compass_jellyfish/aug-73-19.jpg  \n",
            "  inflating: compass_jellyfish/aug-74-21.jpg  \n",
            "  inflating: compass_jellyfish/aug-75-22.JPG  \n",
            "  inflating: compass_jellyfish/aug-76-23.jpg  \n",
            "  inflating: compass_jellyfish/aug-77-24.jpg  \n",
            "  inflating: compass_jellyfish/aug-78-25.jpg  \n",
            "  inflating: compass_jellyfish/aug-79-27.jpg  \n",
            "  inflating: compass_jellyfish/aug-8-10.jpg  \n",
            "  inflating: compass_jellyfish/aug-80-29.jpg  \n",
            "  inflating: compass_jellyfish/aug-81-30.jpg  \n",
            "  inflating: compass_jellyfish/aug-82-31.jpg  \n",
            "  inflating: compass_jellyfish/aug-83-32.jpg  \n",
            "  inflating: compass_jellyfish/aug-84-33.jpg  \n",
            "  inflating: compass_jellyfish/aug-85-34.jpg  \n",
            "  inflating: compass_jellyfish/aug-86-35.jpg  \n",
            "  inflating: compass_jellyfish/aug-87-36.jpg  \n",
            "  inflating: compass_jellyfish/aug-88-38.jpg  \n",
            "  inflating: compass_jellyfish/aug-89-39.jpg  \n",
            "  inflating: compass_jellyfish/aug-9-12.jpg  \n",
            "  inflating: compass_jellyfish/aug-90-42.jpg  \n",
            "  inflating: compass_jellyfish/aug-91-43.jpg  \n",
            "  inflating: compass_jellyfish/aug-92-44.jpg  \n",
            "  inflating: lions_mane_jellyfish/01.jpg  \n",
            "  inflating: lions_mane_jellyfish/02.jpg  \n",
            "  inflating: lions_mane_jellyfish/03.jpg  \n",
            "  inflating: lions_mane_jellyfish/04.jpg  \n",
            "  inflating: lions_mane_jellyfish/05.jpg  \n",
            "  inflating: lions_mane_jellyfish/06.jpg  \n",
            "  inflating: lions_mane_jellyfish/07.jpg  \n",
            "  inflating: lions_mane_jellyfish/08.jpg  \n",
            "  inflating: lions_mane_jellyfish/09.jpg  \n",
            "  inflating: lions_mane_jellyfish/10.jpg  \n",
            "  inflating: lions_mane_jellyfish/11.jpg  \n",
            "  inflating: lions_mane_jellyfish/15.jpg  \n",
            "  inflating: lions_mane_jellyfish/16.jpg  \n",
            "  inflating: lions_mane_jellyfish/17.jpg  \n",
            "  inflating: lions_mane_jellyfish/18.jpg  \n",
            "  inflating: lions_mane_jellyfish/20.jpg  \n",
            "  inflating: lions_mane_jellyfish/21.jpg  \n",
            "  inflating: lions_mane_jellyfish/22.jpg  \n",
            "  inflating: lions_mane_jellyfish/23.jpg  \n",
            "  inflating: lions_mane_jellyfish/24.jpg  \n",
            "  inflating: lions_mane_jellyfish/25.jpg  \n",
            "  inflating: lions_mane_jellyfish/26.JPG  \n",
            "  inflating: lions_mane_jellyfish/29.jpg  \n",
            "  inflating: lions_mane_jellyfish/30.jpg  \n",
            "  inflating: lions_mane_jellyfish/31.jpg  \n",
            "  inflating: lions_mane_jellyfish/32.jpg  \n",
            "  inflating: lions_mane_jellyfish/34.jpg  \n",
            "  inflating: lions_mane_jellyfish/35.jpg  \n",
            "  inflating: lions_mane_jellyfish/36.jpg  \n",
            "  inflating: lions_mane_jellyfish/37.jpg  \n",
            "  inflating: lions_mane_jellyfish/38.jpg  \n",
            "  inflating: lions_mane_jellyfish/39.jpg  \n",
            "  inflating: lions_mane_jellyfish/40.jpg  \n",
            "  inflating: lions_mane_jellyfish/41.jpg  \n",
            "  inflating: lions_mane_jellyfish/43.jpg  \n",
            "  inflating: lions_mane_jellyfish/44.jpg  \n",
            "  inflating: lions_mane_jellyfish/45.jpg  \n",
            "  inflating: lions_mane_jellyfish/47.jpg  \n",
            "  inflating: lions_mane_jellyfish/48.jpg  \n",
            "  inflating: lions_mane_jellyfish/49.jpg  \n",
            "  inflating: lions_mane_jellyfish/50.jpg  \n",
            "  inflating: lions_mane_jellyfish/52.jpg  \n",
            "  inflating: lions_mane_jellyfish/54.jpg  \n",
            "  inflating: lions_mane_jellyfish/55.jpg  \n",
            "  inflating: lions_mane_jellyfish/56.jpg  \n",
            "  inflating: lions_mane_jellyfish/57.jpg  \n",
            "  inflating: lions_mane_jellyfish/59.jpg  \n",
            "  inflating: lions_mane_jellyfish/60.jpg  \n",
            "  inflating: lions_mane_jellyfish/61.jpg  \n",
            "  inflating: lions_mane_jellyfish/62.jpg  \n",
            "  inflating: lions_mane_jellyfish/65.jpg  \n",
            "  inflating: lions_mane_jellyfish/68.jpg  \n",
            "  inflating: lions_mane_jellyfish/69.jpg  \n",
            "  inflating: lions_mane_jellyfish/70.jpg  \n",
            "  inflating: lions_mane_jellyfish/71.jpg  \n",
            "  inflating: lions_mane_jellyfish/72.jpg  \n",
            "  inflating: lions_mane_jellyfish/73.jpeg  \n",
            "  inflating: lions_mane_jellyfish/74.png  \n",
            "  inflating: lions_mane_jellyfish/75.jpeg  \n",
            "  inflating: lions_mane_jellyfish/76.jpg  \n",
            "  inflating: lions_mane_jellyfish/77.jpg  \n",
            "  inflating: lions_mane_jellyfish/aug-0-01.jpg  \n",
            "  inflating: lions_mane_jellyfish/aug-1-02.jpg  \n",
            "  inflating: lions_mane_jellyfish/aug-10-11.jpg  \n",
            "  inflating: lions_mane_jellyfish/aug-11-15.jpg  \n",
            "  inflating: lions_mane_jellyfish/aug-12-16.jpg  \n",
            "  inflating: lions_mane_jellyfish/aug-13-17.jpg  \n",
            "  inflating: lions_mane_jellyfish/aug-14-18.jpg  \n",
            "  inflating: lions_mane_jellyfish/aug-15-20.jpg  \n",
            "  inflating: lions_mane_jellyfish/aug-16-21.jpg  \n",
            "  inflating: lions_mane_jellyfish/aug-17-22.jpg  \n",
            "  inflating: lions_mane_jellyfish/aug-18-23.jpg  \n",
            "  inflating: lions_mane_jellyfish/aug-19-24.jpg  \n",
            "  inflating: lions_mane_jellyfish/aug-2-03.jpg  \n",
            "  inflating: lions_mane_jellyfish/aug-20-25.jpg  \n",
            "  inflating: lions_mane_jellyfish/aug-21-26.JPG  \n",
            "  inflating: lions_mane_jellyfish/aug-22-29.jpg  \n",
            "  inflating: lions_mane_jellyfish/aug-23-30.jpg  \n",
            "  inflating: lions_mane_jellyfish/aug-24-31.jpg  \n",
            "  inflating: lions_mane_jellyfish/aug-25-32.jpg  \n",
            "  inflating: lions_mane_jellyfish/aug-26-34.jpg  \n",
            "  inflating: lions_mane_jellyfish/aug-27-35.jpg  \n",
            "  inflating: lions_mane_jellyfish/aug-28-36.jpg  \n",
            "  inflating: lions_mane_jellyfish/aug-29-37.jpg  \n",
            "  inflating: lions_mane_jellyfish/aug-3-04.jpg  \n",
            "  inflating: lions_mane_jellyfish/aug-30-38.jpg  \n",
            "  inflating: lions_mane_jellyfish/aug-31-39.jpg  \n",
            "  inflating: lions_mane_jellyfish/aug-32-40.jpg  \n",
            "  inflating: lions_mane_jellyfish/aug-33-41.jpg  \n",
            "  inflating: lions_mane_jellyfish/aug-34-43.jpg  \n",
            "  inflating: lions_mane_jellyfish/aug-35-44.jpg  \n",
            "  inflating: lions_mane_jellyfish/aug-36-45.jpg  \n",
            "  inflating: lions_mane_jellyfish/aug-37-47.jpg  \n",
            "  inflating: lions_mane_jellyfish/aug-38-48.jpg  \n",
            "  inflating: lions_mane_jellyfish/aug-39-49.jpg  \n",
            "  inflating: lions_mane_jellyfish/aug-4-05.jpg  \n",
            "  inflating: lions_mane_jellyfish/aug-40-50.jpg  \n",
            "  inflating: lions_mane_jellyfish/aug-41-52.jpg  \n",
            "  inflating: lions_mane_jellyfish/aug-42-54.jpg  \n",
            "  inflating: lions_mane_jellyfish/aug-43-55.jpg  \n",
            "  inflating: lions_mane_jellyfish/aug-44-56.jpg  \n",
            "  inflating: lions_mane_jellyfish/aug-45-57.jpg  \n",
            "  inflating: lions_mane_jellyfish/aug-46-59.jpg  \n",
            "  inflating: lions_mane_jellyfish/aug-47-60.jpg  \n",
            "  inflating: lions_mane_jellyfish/aug-48-61.jpg  \n",
            "  inflating: lions_mane_jellyfish/aug-49-62.jpg  \n",
            "  inflating: lions_mane_jellyfish/aug-5-06.jpg  \n",
            "  inflating: lions_mane_jellyfish/aug-50-65.jpg  \n",
            "  inflating: lions_mane_jellyfish/aug-51-68.jpg  \n",
            "  inflating: lions_mane_jellyfish/aug-52-69.jpg  \n",
            "  inflating: lions_mane_jellyfish/aug-53-70.jpg  \n",
            "  inflating: lions_mane_jellyfish/aug-54-71.jpg  \n",
            "  inflating: lions_mane_jellyfish/aug-55-72.jpg  \n",
            "  inflating: lions_mane_jellyfish/aug-56-73.jpeg  \n",
            "  inflating: lions_mane_jellyfish/aug-57-74.png  \n",
            "  inflating: lions_mane_jellyfish/aug-58-75.jpeg  \n",
            "  inflating: lions_mane_jellyfish/aug-59-76.jpg  \n",
            "  inflating: lions_mane_jellyfish/aug-6-07.jpg  \n",
            "  inflating: lions_mane_jellyfish/aug-60-77.jpg  \n",
            "  inflating: lions_mane_jellyfish/aug-61-01.jpg  \n",
            "  inflating: lions_mane_jellyfish/aug-62-02.jpg  \n",
            "  inflating: lions_mane_jellyfish/aug-63-03.jpg  \n",
            "  inflating: lions_mane_jellyfish/aug-64-04.jpg  \n",
            "  inflating: lions_mane_jellyfish/aug-65-05.jpg  \n",
            "  inflating: lions_mane_jellyfish/aug-66-06.jpg  \n",
            "  inflating: lions_mane_jellyfish/aug-67-07.jpg  \n",
            "  inflating: lions_mane_jellyfish/aug-68-08.jpg  \n",
            "  inflating: lions_mane_jellyfish/aug-69-09.jpg  \n",
            "  inflating: lions_mane_jellyfish/aug-7-08.jpg  \n",
            "  inflating: lions_mane_jellyfish/aug-70-10.jpg  \n",
            "  inflating: lions_mane_jellyfish/aug-71-11.jpg  \n",
            "  inflating: lions_mane_jellyfish/aug-72-15.jpg  \n",
            "  inflating: lions_mane_jellyfish/aug-73-16.jpg  \n",
            "  inflating: lions_mane_jellyfish/aug-74-17.jpg  \n",
            "  inflating: lions_mane_jellyfish/aug-75-18.jpg  \n",
            "  inflating: lions_mane_jellyfish/aug-76-20.jpg  \n",
            "  inflating: lions_mane_jellyfish/aug-77-21.jpg  \n",
            "  inflating: lions_mane_jellyfish/aug-78-22.jpg  \n",
            "  inflating: lions_mane_jellyfish/aug-79-23.jpg  \n",
            "  inflating: lions_mane_jellyfish/aug-8-09.jpg  \n",
            "  inflating: lions_mane_jellyfish/aug-80-24.jpg  \n",
            "  inflating: lions_mane_jellyfish/aug-81-25.jpg  \n",
            "  inflating: lions_mane_jellyfish/aug-82-26.JPG  \n",
            "  inflating: lions_mane_jellyfish/aug-83-29.jpg  \n",
            "  inflating: lions_mane_jellyfish/aug-84-30.jpg  \n",
            "  inflating: lions_mane_jellyfish/aug-85-31.jpg  \n",
            "  inflating: lions_mane_jellyfish/aug-86-32.jpg  \n",
            "  inflating: lions_mane_jellyfish/aug-87-34.jpg  \n",
            "  inflating: lions_mane_jellyfish/aug-88-35.jpg  \n",
            "  inflating: lions_mane_jellyfish/aug-9-10.jpg  \n",
            "  inflating: mauve_stinger_jellyfish/01.jpg  \n",
            "  inflating: mauve_stinger_jellyfish/02.jpg  \n",
            "  inflating: mauve_stinger_jellyfish/03.jpg  \n",
            "  inflating: mauve_stinger_jellyfish/04.jpg  \n",
            "  inflating: mauve_stinger_jellyfish/05.jpg  \n",
            "  inflating: mauve_stinger_jellyfish/06.jpg  \n",
            "  inflating: mauve_stinger_jellyfish/08.jpg  \n",
            "  inflating: mauve_stinger_jellyfish/09.jpg  \n",
            "  inflating: mauve_stinger_jellyfish/11.jpg  \n",
            "  inflating: mauve_stinger_jellyfish/12.jpg  \n",
            "  inflating: mauve_stinger_jellyfish/13.jpg  \n",
            "  inflating: mauve_stinger_jellyfish/15.jpg  \n",
            "  inflating: mauve_stinger_jellyfish/16.jpg  \n",
            "  inflating: mauve_stinger_jellyfish/17.jpg  \n",
            "  inflating: mauve_stinger_jellyfish/18.jpg  \n",
            "  inflating: mauve_stinger_jellyfish/20.jpg  \n",
            "  inflating: mauve_stinger_jellyfish/21.jpg  \n",
            "  inflating: mauve_stinger_jellyfish/22.jpg  \n",
            "  inflating: mauve_stinger_jellyfish/23.jpg  \n",
            "  inflating: mauve_stinger_jellyfish/24.jpg  \n",
            "  inflating: mauve_stinger_jellyfish/25.jpg  \n",
            "  inflating: mauve_stinger_jellyfish/28.jpg  \n",
            "  inflating: mauve_stinger_jellyfish/29.jpg  \n",
            "  inflating: mauve_stinger_jellyfish/30.jpg  \n",
            "  inflating: mauve_stinger_jellyfish/31.jpg  \n",
            "  inflating: mauve_stinger_jellyfish/32.jpg  \n",
            "  inflating: mauve_stinger_jellyfish/33.jpg  \n",
            "  inflating: mauve_stinger_jellyfish/35.JPG  \n",
            "  inflating: mauve_stinger_jellyfish/36.jpg  \n",
            "  inflating: mauve_stinger_jellyfish/37.jpg  \n",
            "  inflating: mauve_stinger_jellyfish/39.jpg  \n",
            "  inflating: mauve_stinger_jellyfish/40.jpg  \n",
            "  inflating: mauve_stinger_jellyfish/41.jpg  \n",
            "  inflating: mauve_stinger_jellyfish/42.jpg  \n",
            "  inflating: mauve_stinger_jellyfish/43.jpg  \n",
            "  inflating: mauve_stinger_jellyfish/44.jpg  \n",
            "  inflating: mauve_stinger_jellyfish/45.jpg  \n",
            "  inflating: mauve_stinger_jellyfish/46.jpg  \n",
            "  inflating: mauve_stinger_jellyfish/47.jpg  \n",
            "  inflating: mauve_stinger_jellyfish/49.jpg  \n",
            "  inflating: mauve_stinger_jellyfish/50.jpg  \n",
            "  inflating: mauve_stinger_jellyfish/51.jpg  \n",
            "  inflating: mauve_stinger_jellyfish/52.jpg  \n",
            "  inflating: mauve_stinger_jellyfish/53.jpg  \n",
            "  inflating: mauve_stinger_jellyfish/54.jpg  \n",
            "  inflating: mauve_stinger_jellyfish/55.jpg  \n",
            "  inflating: mauve_stinger_jellyfish/56.JPG  \n",
            "  inflating: mauve_stinger_jellyfish/57.jpg  \n",
            "  inflating: mauve_stinger_jellyfish/58.jpg  \n",
            "  inflating: mauve_stinger_jellyfish/59.jpg  \n",
            "  inflating: mauve_stinger_jellyfish/62.jpg  \n",
            "  inflating: mauve_stinger_jellyfish/63.jpg  \n",
            "  inflating: mauve_stinger_jellyfish/64.jpg  \n",
            "  inflating: mauve_stinger_jellyfish/65.jpg  \n",
            "  inflating: mauve_stinger_jellyfish/66.JPG  \n",
            "  inflating: mauve_stinger_jellyfish/68.jpg  \n",
            "  inflating: mauve_stinger_jellyfish/71.jpg  \n",
            "  inflating: mauve_stinger_jellyfish/72.jpg  \n",
            "  inflating: mauve_stinger_jellyfish/aug-0-01.jpg  \n",
            "  inflating: mauve_stinger_jellyfish/aug-1-02.jpg  \n",
            "  inflating: mauve_stinger_jellyfish/aug-10-13.jpg  \n",
            "  inflating: mauve_stinger_jellyfish/aug-11-15.jpg  \n",
            "  inflating: mauve_stinger_jellyfish/aug-12-16.jpg  \n",
            "  inflating: mauve_stinger_jellyfish/aug-13-17.jpg  \n",
            "  inflating: mauve_stinger_jellyfish/aug-14-18.jpg  \n",
            "  inflating: mauve_stinger_jellyfish/aug-15-20.jpg  \n",
            "  inflating: mauve_stinger_jellyfish/aug-16-21.jpg  \n",
            "  inflating: mauve_stinger_jellyfish/aug-17-22.jpg  \n",
            "  inflating: mauve_stinger_jellyfish/aug-18-23.jpg  \n",
            "  inflating: mauve_stinger_jellyfish/aug-19-24.jpg  \n",
            "  inflating: mauve_stinger_jellyfish/aug-2-03.jpg  \n",
            "  inflating: mauve_stinger_jellyfish/aug-20-25.jpg  \n",
            "  inflating: mauve_stinger_jellyfish/aug-21-28.jpg  \n",
            "  inflating: mauve_stinger_jellyfish/aug-22-29.jpg  \n",
            "  inflating: mauve_stinger_jellyfish/aug-23-30.jpg  \n",
            "  inflating: mauve_stinger_jellyfish/aug-24-31.jpg  \n",
            "  inflating: mauve_stinger_jellyfish/aug-25-32.jpg  \n",
            "  inflating: mauve_stinger_jellyfish/aug-26-33.jpg  \n",
            "  inflating: mauve_stinger_jellyfish/aug-27-35.JPG  \n",
            "  inflating: mauve_stinger_jellyfish/aug-28-36.jpg  \n",
            "  inflating: mauve_stinger_jellyfish/aug-29-37.jpg  \n",
            "  inflating: mauve_stinger_jellyfish/aug-3-04.jpg  \n",
            "  inflating: mauve_stinger_jellyfish/aug-30-39.jpg  \n",
            "  inflating: mauve_stinger_jellyfish/aug-31-40.jpg  \n",
            "  inflating: mauve_stinger_jellyfish/aug-32-41.jpg  \n",
            "  inflating: mauve_stinger_jellyfish/aug-33-42.jpg  \n",
            "  inflating: mauve_stinger_jellyfish/aug-34-43.jpg  \n",
            "  inflating: mauve_stinger_jellyfish/aug-35-44.jpg  \n",
            "  inflating: mauve_stinger_jellyfish/aug-36-45.jpg  \n",
            "  inflating: mauve_stinger_jellyfish/aug-37-46.jpg  \n",
            "  inflating: mauve_stinger_jellyfish/aug-38-47.jpg  \n",
            "  inflating: mauve_stinger_jellyfish/aug-39-49.jpg  \n",
            "  inflating: mauve_stinger_jellyfish/aug-4-05.jpg  \n",
            "  inflating: mauve_stinger_jellyfish/aug-40-50.jpg  \n",
            "  inflating: mauve_stinger_jellyfish/aug-41-51.jpg  \n",
            "  inflating: mauve_stinger_jellyfish/aug-42-52.jpg  \n",
            "  inflating: mauve_stinger_jellyfish/aug-43-53.jpg  \n",
            "  inflating: mauve_stinger_jellyfish/aug-44-54.jpg  \n",
            "  inflating: mauve_stinger_jellyfish/aug-45-55.jpg  \n",
            "  inflating: mauve_stinger_jellyfish/aug-46-56.JPG  \n",
            "  inflating: mauve_stinger_jellyfish/aug-47-57.jpg  \n",
            "  inflating: mauve_stinger_jellyfish/aug-48-58.jpg  \n",
            "  inflating: mauve_stinger_jellyfish/aug-49-59.jpg  \n",
            "  inflating: mauve_stinger_jellyfish/aug-5-06.jpg  \n",
            "  inflating: mauve_stinger_jellyfish/aug-50-62.jpg  \n",
            "  inflating: mauve_stinger_jellyfish/aug-51-63.jpg  \n",
            "  inflating: mauve_stinger_jellyfish/aug-52-64.jpg  \n",
            "  inflating: mauve_stinger_jellyfish/aug-53-65.jpg  \n",
            "  inflating: mauve_stinger_jellyfish/aug-54-66.JPG  \n",
            "  inflating: mauve_stinger_jellyfish/aug-55-68.jpg  \n",
            "  inflating: mauve_stinger_jellyfish/aug-56-71.jpg  \n",
            "  inflating: mauve_stinger_jellyfish/aug-57-72.jpg  \n",
            "  inflating: mauve_stinger_jellyfish/aug-58-01.jpg  \n",
            "  inflating: mauve_stinger_jellyfish/aug-59-02.jpg  \n",
            "  inflating: mauve_stinger_jellyfish/aug-6-08.jpg  \n",
            "  inflating: mauve_stinger_jellyfish/aug-60-03.jpg  \n",
            "  inflating: mauve_stinger_jellyfish/aug-61-04.jpg  \n",
            "  inflating: mauve_stinger_jellyfish/aug-62-05.jpg  \n",
            "  inflating: mauve_stinger_jellyfish/aug-63-06.jpg  \n",
            "  inflating: mauve_stinger_jellyfish/aug-64-08.jpg  \n",
            "  inflating: mauve_stinger_jellyfish/aug-65-09.jpg  \n",
            "  inflating: mauve_stinger_jellyfish/aug-66-11.jpg  \n",
            "  inflating: mauve_stinger_jellyfish/aug-67-12.jpg  \n",
            "  inflating: mauve_stinger_jellyfish/aug-68-13.jpg  \n",
            "  inflating: mauve_stinger_jellyfish/aug-69-15.jpg  \n",
            "  inflating: mauve_stinger_jellyfish/aug-7-09.jpg  \n",
            "  inflating: mauve_stinger_jellyfish/aug-70-16.jpg  \n",
            "  inflating: mauve_stinger_jellyfish/aug-71-17.jpg  \n",
            "  inflating: mauve_stinger_jellyfish/aug-72-18.jpg  \n",
            "  inflating: mauve_stinger_jellyfish/aug-73-20.jpg  \n",
            "  inflating: mauve_stinger_jellyfish/aug-74-21.jpg  \n",
            "  inflating: mauve_stinger_jellyfish/aug-75-22.jpg  \n",
            "  inflating: mauve_stinger_jellyfish/aug-76-23.jpg  \n",
            "  inflating: mauve_stinger_jellyfish/aug-77-24.jpg  \n",
            "  inflating: mauve_stinger_jellyfish/aug-78-25.jpg  \n",
            "  inflating: mauve_stinger_jellyfish/aug-79-28.jpg  \n",
            "  inflating: mauve_stinger_jellyfish/aug-8-11.jpg  \n",
            "  inflating: mauve_stinger_jellyfish/aug-80-29.jpg  \n",
            "  inflating: mauve_stinger_jellyfish/aug-81-30.jpg  \n",
            "  inflating: mauve_stinger_jellyfish/aug-82-31.jpg  \n",
            "  inflating: mauve_stinger_jellyfish/aug-83-32.jpg  \n",
            "  inflating: mauve_stinger_jellyfish/aug-84-33.jpg  \n",
            "  inflating: mauve_stinger_jellyfish/aug-85-35.JPG  \n",
            "  inflating: mauve_stinger_jellyfish/aug-86-36.jpg  \n",
            "  inflating: mauve_stinger_jellyfish/aug-87-37.jpg  \n",
            "  inflating: mauve_stinger_jellyfish/aug-88-39.jpg  \n",
            "  inflating: mauve_stinger_jellyfish/aug-89-40.jpg  \n",
            "  inflating: mauve_stinger_jellyfish/aug-9-12.jpg  \n",
            "  inflating: mauve_stinger_jellyfish/aug-90-41.jpg  \n",
            "  inflating: mauve_stinger_jellyfish/aug-91-42.jpg  \n"
          ]
        }
      ]
    },
    {
      "cell_type": "code",
      "source": [
        "!pip install wandb"
      ],
      "metadata": {
        "colab": {
          "base_uri": "https://localhost:8080/"
        },
        "id": "aOznblUiUuoo",
        "outputId": "e9299b55-7fc7-446d-b467-14f1278b5617"
      },
      "execution_count": null,
      "outputs": [
        {
          "output_type": "stream",
          "name": "stdout",
          "text": [
            "Requirement already satisfied: wandb in /usr/local/lib/python3.11/dist-packages (0.19.8)\n",
            "Requirement already satisfied: click!=8.0.0,>=7.1 in /usr/local/lib/python3.11/dist-packages (from wandb) (8.1.8)\n",
            "Requirement already satisfied: docker-pycreds>=0.4.0 in /usr/local/lib/python3.11/dist-packages (from wandb) (0.4.0)\n",
            "Requirement already satisfied: gitpython!=3.1.29,>=1.0.0 in /usr/local/lib/python3.11/dist-packages (from wandb) (3.1.44)\n",
            "Requirement already satisfied: platformdirs in /usr/local/lib/python3.11/dist-packages (from wandb) (4.3.7)\n",
            "Requirement already satisfied: protobuf!=4.21.0,!=5.28.0,<6,>=3.19.0 in /usr/local/lib/python3.11/dist-packages (from wandb) (5.29.4)\n",
            "Requirement already satisfied: psutil>=5.0.0 in /usr/local/lib/python3.11/dist-packages (from wandb) (5.9.5)\n",
            "Requirement already satisfied: pydantic<3,>=2.6 in /usr/local/lib/python3.11/dist-packages (from wandb) (2.11.0)\n",
            "Requirement already satisfied: pyyaml in /usr/local/lib/python3.11/dist-packages (from wandb) (6.0.2)\n",
            "Requirement already satisfied: requests<3,>=2.0.0 in /usr/local/lib/python3.11/dist-packages (from wandb) (2.32.3)\n",
            "Requirement already satisfied: sentry-sdk>=2.0.0 in /usr/local/lib/python3.11/dist-packages (from wandb) (2.24.1)\n",
            "Requirement already satisfied: setproctitle in /usr/local/lib/python3.11/dist-packages (from wandb) (1.3.5)\n",
            "Requirement already satisfied: setuptools in /usr/local/lib/python3.11/dist-packages (from wandb) (75.2.0)\n",
            "Requirement already satisfied: typing-extensions<5,>=4.4 in /usr/local/lib/python3.11/dist-packages (from wandb) (4.13.0)\n",
            "Requirement already satisfied: six>=1.4.0 in /usr/local/lib/python3.11/dist-packages (from docker-pycreds>=0.4.0->wandb) (1.17.0)\n",
            "Requirement already satisfied: gitdb<5,>=4.0.1 in /usr/local/lib/python3.11/dist-packages (from gitpython!=3.1.29,>=1.0.0->wandb) (4.0.12)\n",
            "Requirement already satisfied: annotated-types>=0.6.0 in /usr/local/lib/python3.11/dist-packages (from pydantic<3,>=2.6->wandb) (0.7.0)\n",
            "Requirement already satisfied: pydantic-core==2.33.0 in /usr/local/lib/python3.11/dist-packages (from pydantic<3,>=2.6->wandb) (2.33.0)\n",
            "Requirement already satisfied: typing-inspection>=0.4.0 in /usr/local/lib/python3.11/dist-packages (from pydantic<3,>=2.6->wandb) (0.4.0)\n",
            "Requirement already satisfied: charset-normalizer<4,>=2 in /usr/local/lib/python3.11/dist-packages (from requests<3,>=2.0.0->wandb) (3.4.1)\n",
            "Requirement already satisfied: idna<4,>=2.5 in /usr/local/lib/python3.11/dist-packages (from requests<3,>=2.0.0->wandb) (3.10)\n",
            "Requirement already satisfied: urllib3<3,>=1.21.1 in /usr/local/lib/python3.11/dist-packages (from requests<3,>=2.0.0->wandb) (2.3.0)\n",
            "Requirement already satisfied: certifi>=2017.4.17 in /usr/local/lib/python3.11/dist-packages (from requests<3,>=2.0.0->wandb) (2025.1.31)\n",
            "Requirement already satisfied: smmap<6,>=3.0.1 in /usr/local/lib/python3.11/dist-packages (from gitdb<5,>=4.0.1->gitpython!=3.1.29,>=1.0.0->wandb) (5.0.2)\n"
          ]
        }
      ]
    },
    {
      "cell_type": "code",
      "source": [
        "import pandas as pd\n",
        "import tensorflow as tf\n",
        "from tensorflow import keras\n",
        "from sklearn.model_selection import train_test_split\n",
        "import wandb\n",
        "from wandb.integration.keras import WandbCallback\n",
        "from sklearn.preprocessing import LabelEncoder\n",
        "from PIL import Image\n",
        "import glob\n",
        "import os"
      ],
      "metadata": {
        "id": "Q6tqoaAqUztK"
      },
      "execution_count": 11,
      "outputs": []
    },
    {
      "cell_type": "code",
      "source": [
        "(X_train, y_train), (X_test, y_test) = keras.datasets.mnist.load_data()\n",
        "X_train, X_test = X_train / 255.0, X_test / 255.0\n",
        "X_train = X_train.reshape( -1, 28, 28, 1)\n",
        "X_test = X_test.reshape( -1, 28, 28, 1)\n",
        "X_val, X_test, y_val, y_test = train_test_split(X_test, y_test, test_size = 0.5)\n",
        "\n",
        "# 시각화를 위해 sample 데이터를 준비합니다.\n",
        "X_sample = X_test[:50]\n",
        "y_sample = y_test[:50]\n",
        "\n",
        "CLASS_NAMES = [0, 1, 2, 3, 4, 5, 6, 7, 8, 9]"
      ],
      "metadata": {
        "colab": {
          "base_uri": "https://localhost:8080/"
        },
        "id": "UBkXRjsIW7Vb",
        "outputId": "f4e0331e-f30b-4fd6-e012-bfc23e447e7b"
      },
      "execution_count": 12,
      "outputs": [
        {
          "output_type": "stream",
          "name": "stdout",
          "text": [
            "Downloading data from https://storage.googleapis.com/tensorflow/tf-keras-datasets/mnist.npz\n",
            "\u001b[1m11490434/11490434\u001b[0m \u001b[32m━━━━━━━━━━━━━━━━━━━━\u001b[0m\u001b[37m\u001b[0m \u001b[1m0s\u001b[0m 0us/step\n"
          ]
        }
      ]
    },
    {
      "cell_type": "code",
      "source": [
        "wandb.login(key = \"67a92f37cee1164f4de54893974e616314465bf4\")"
      ],
      "metadata": {
        "colab": {
          "base_uri": "https://localhost:8080/"
        },
        "id": "AsaPdNkfX3QM",
        "outputId": "650ee2b6-1a0a-45b9-c7c4-693f04560b22"
      },
      "execution_count": 18,
      "outputs": [
        {
          "output_type": "stream",
          "name": "stderr",
          "text": [
            "\u001b[34m\u001b[1mwandb\u001b[0m: Using wandb-core as the SDK backend.  Please refer to https://wandb.me/wandb-core for more information.\n",
            "\u001b[34m\u001b[1mwandb\u001b[0m: \u001b[33mWARNING\u001b[0m If you're specifying your api key in code, ensure this code is not shared publicly.\n",
            "\u001b[34m\u001b[1mwandb\u001b[0m: \u001b[33mWARNING\u001b[0m Consider setting the WANDB_API_KEY environment variable, or running `wandb login` from the command line.\n",
            "\u001b[34m\u001b[1mwandb\u001b[0m: No netrc file found, creating one.\n",
            "\u001b[34m\u001b[1mwandb\u001b[0m: Appending key for api.wandb.ai to your netrc file: /root/.netrc\n",
            "\u001b[34m\u001b[1mwandb\u001b[0m: Currently logged in as: \u001b[33mjong104b\u001b[0m (\u001b[33mjong104b-home\u001b[0m) to \u001b[32mhttps://api.wandb.ai\u001b[0m. Use \u001b[1m`wandb login --relogin`\u001b[0m to force relogin\n"
          ]
        },
        {
          "output_type": "execute_result",
          "data": {
            "text/plain": [
              "True"
            ]
          },
          "metadata": {},
          "execution_count": 18
        }
      ]
    },
    {
      "cell_type": "code",
      "source": [
        "sweep_config = {\n",
        "    \"name\": \"sweep_test_core\",\n",
        "    \"metric\": {\"name\": \"val_loss\", \"goal\": \"minimize\"},\n",
        "    \"method\": \"random\",\n",
        "    \"parameters\": {\n",
        "        \"learning_rate\" : {\n",
        "            \"min\" : 0.001,\n",
        "            \"max\" : 0.1\n",
        "            },\n",
        "        \"epoch\" : {\n",
        "            \"distribution\" : \"int_uniform\",\n",
        "            \"min\" : 5,\n",
        "            \"max\" : 10\n",
        "            }\n",
        "\n",
        "        }\n",
        "    }"
      ],
      "metadata": {
        "id": "sLrntOteODPR"
      },
      "execution_count": 19,
      "outputs": []
    },
    {
      "cell_type": "code",
      "source": [
        "def train():\n",
        "    default_config = {\n",
        "        \"input\" : (28,28,1),\n",
        "        \"filter\" : 16,\n",
        "        \"kernel\" : (3,3),\n",
        "        \"activation\" : \"relu\",\n",
        "        \"learning_rate\" : 0.005,\n",
        "        \"optimizer\" : \"adam\",\n",
        "        \"loss\" : \"sparse_categorical_crossentropy\",\n",
        "        \"metrics\" : [\"accuracy\"],\n",
        "        \"epoch\" : 5,\n",
        "        \"batch_size\" : 32\n",
        "    }\n",
        "\n",
        "    wandb.init(config = default_config)\n",
        "    config = wandb.config\n",
        "\n",
        "    # Model\n",
        "\n",
        "    model=keras.models.Sequential()\n",
        "    model.add(keras.layers.Conv2D(config.filter, config.kernel, activation=config.activation, input_shape=config.input))\n",
        "    model.add(keras.layers.MaxPool2D(2,2))\n",
        "    model.add(keras.layers.Conv2D(32, (3,3), activation='relu'))\n",
        "    model.add(keras.layers.MaxPooling2D((2,2)))\n",
        "    model.add(keras.layers.Flatten())\n",
        "    model.add(keras.layers.Dense(32, activation='relu'))\n",
        "    model.add(keras.layers.Dense(10, activation='softmax'))\n",
        "\n",
        "    # 머신 러닝 학습때 여러가지 optimzier를 사용할 경우나 learning rate를 조절할 경우에는 아래와 같은 형태의 코드를 응용합니다.\n",
        "\n",
        "    if config.optimizer == 'adam':\n",
        "        optimizer = keras.optimizers.Adam(learning_rate = config.learning_rate)\n",
        "\n",
        "    model.compile(optimizer = optimizer,\n",
        "                  loss = config.loss,\n",
        "                  metrics = config.metrics)\n",
        "\n",
        "    # WandbCallback 함수는 후술합니다.\n",
        "\n",
        "    model.fit(X_train, y_train,\n",
        "              epochs = config.epoch,\n",
        "              batch_size = config.batch_size,\n",
        "              validation_data = (X_val, y_val),\n",
        "              callbacks = [WandbCallback(validation_data = (X_sample, y_sample),\n",
        "                                        lables = CLASS_NAMES,\n",
        "                                        predictions = 10,\n",
        "                                        input_type = \"images\")])\n",
        "\n",
        "    test_loss, test_accuracy = model.evaluate(X_test, y_test, verbose=2)\n",
        "\n",
        "    # wandb.log 함수 안에 기록하고 싶은 정보를 담습니다.\n",
        "\n",
        "    wandb.log({\"Test Accuracy Rate: \" : round(test_accuracy * 100, 2),\n",
        "               \"Test Error Rate: \" : round((1 - test_accuracy) * 100, 2)})"
      ],
      "metadata": {
        "id": "jcqwVfenOHCM"
      },
      "execution_count": 20,
      "outputs": []
    },
    {
      "cell_type": "code",
      "source": [
        "# entity와 project에 본인의 아이디와 프로젝트명을 입력하세요\n",
        "\n",
        "sweep_id = wandb.sweep(sweep_config,\n",
        "                       entity = 'jong104b-home',\n",
        "                       project = 'dlthonm3')\n",
        "\n",
        "# run the sweep\n",
        "wandb.agent(sweep_id,\n",
        "            function=train,\n",
        "            count=10)"
      ],
      "metadata": {
        "colab": {
          "base_uri": "https://localhost:8080/",
          "height": 1000
        },
        "id": "JMLaUsWlOKqz",
        "outputId": "9538cfe9-2373-4c45-af6e-1ffa2bf908dd"
      },
      "execution_count": 21,
      "outputs": [
        {
          "output_type": "stream",
          "name": "stdout",
          "text": [
            "Create sweep with ID: kpm83etp\n",
            "Sweep URL: https://wandb.ai/jong104b-home/dlthonm3/sweeps/kpm83etp\n"
          ]
        },
        {
          "output_type": "stream",
          "name": "stderr",
          "text": [
            "\u001b[34m\u001b[1mwandb\u001b[0m: Agent Starting Run: 9ta1uy1k with config:\n",
            "\u001b[34m\u001b[1mwandb\u001b[0m: \tepoch: 9\n",
            "\u001b[34m\u001b[1mwandb\u001b[0m: \tlearning_rate: 0.05588051009021565\n"
          ]
        },
        {
          "output_type": "display_data",
          "data": {
            "text/plain": [
              "<IPython.core.display.HTML object>"
            ],
            "text/html": [
              "Tracking run with wandb version 0.19.8"
            ]
          },
          "metadata": {}
        },
        {
          "output_type": "display_data",
          "data": {
            "text/plain": [
              "<IPython.core.display.HTML object>"
            ],
            "text/html": [
              "Run data is saved locally in <code>/root/aiffel/jellyfish/wandb/run-20250401_211856-9ta1uy1k</code>"
            ]
          },
          "metadata": {}
        },
        {
          "output_type": "display_data",
          "data": {
            "text/plain": [
              "<IPython.core.display.HTML object>"
            ],
            "text/html": [
              "Syncing run <strong><a href='https://wandb.ai/jong104b-home/dlthonm3/runs/9ta1uy1k' target=\"_blank\">devout-sweep-1</a></strong> to <a href='https://wandb.ai/jong104b-home/dlthonm3' target=\"_blank\">Weights & Biases</a> (<a href='https://wandb.me/developer-guide' target=\"_blank\">docs</a>)<br>Sweep page: <a href='https://wandb.ai/jong104b-home/dlthonm3/sweeps/kpm83etp' target=\"_blank\">https://wandb.ai/jong104b-home/dlthonm3/sweeps/kpm83etp</a>"
            ]
          },
          "metadata": {}
        },
        {
          "output_type": "display_data",
          "data": {
            "text/plain": [
              "<IPython.core.display.HTML object>"
            ],
            "text/html": [
              " View project at <a href='https://wandb.ai/jong104b-home/dlthonm3' target=\"_blank\">https://wandb.ai/jong104b-home/dlthonm3</a>"
            ]
          },
          "metadata": {}
        },
        {
          "output_type": "display_data",
          "data": {
            "text/plain": [
              "<IPython.core.display.HTML object>"
            ],
            "text/html": [
              " View sweep at <a href='https://wandb.ai/jong104b-home/dlthonm3/sweeps/kpm83etp' target=\"_blank\">https://wandb.ai/jong104b-home/dlthonm3/sweeps/kpm83etp</a>"
            ]
          },
          "metadata": {}
        },
        {
          "output_type": "display_data",
          "data": {
            "text/plain": [
              "<IPython.core.display.HTML object>"
            ],
            "text/html": [
              " View run at <a href='https://wandb.ai/jong104b-home/dlthonm3/runs/9ta1uy1k' target=\"_blank\">https://wandb.ai/jong104b-home/dlthonm3/runs/9ta1uy1k</a>"
            ]
          },
          "metadata": {}
        },
        {
          "output_type": "stream",
          "name": "stderr",
          "text": [
            "/usr/local/lib/python3.11/dist-packages/keras/src/layers/convolutional/base_conv.py:107: UserWarning: Do not pass an `input_shape`/`input_dim` argument to a layer. When using Sequential models, prefer using an `Input(shape)` object as the first layer in the model instead.\n",
            "  super().__init__(activity_regularizer=activity_regularizer, **kwargs)\n",
            "\u001b[34m\u001b[1mwandb\u001b[0m: \u001b[33mWARNING\u001b[0m WandbCallback is deprecated and will be removed in a future release. Please use the WandbMetricsLogger, WandbModelCheckpoint, and WandbEvalCallback callbacks instead. See https://docs.wandb.ai/guides/integrations/keras for more information.\n",
            "\u001b[34m\u001b[1mwandb\u001b[0m: \u001b[33mWARNING\u001b[0m The save_model argument by default saves the model in the HDF5 format that cannot save custom objects like subclassed models and custom layers. This behavior will be deprecated in a future release in favor of the SavedModel format. Meanwhile, the HDF5 model is saved as W&B files and the SavedModel as W&B Artifacts.\n"
          ]
        },
        {
          "output_type": "stream",
          "name": "stdout",
          "text": [
            "Epoch 1/9\n"
          ]
        },
        {
          "output_type": "display_data",
          "data": {
            "text/plain": [
              "<IPython.core.display.HTML object>"
            ],
            "text/html": []
          },
          "metadata": {}
        },
        {
          "output_type": "display_data",
          "data": {
            "text/plain": [
              "<IPython.core.display.HTML object>"
            ],
            "text/html": [
              " View run <strong style=\"color:#cdcd00\">devout-sweep-1</strong> at: <a href='https://wandb.ai/jong104b-home/dlthonm3/runs/9ta1uy1k' target=\"_blank\">https://wandb.ai/jong104b-home/dlthonm3/runs/9ta1uy1k</a><br> View project at: <a href='https://wandb.ai/jong104b-home/dlthonm3' target=\"_blank\">https://wandb.ai/jong104b-home/dlthonm3</a><br>Synced 5 W&B file(s), 0 media file(s), 0 artifact file(s) and 0 other file(s)"
            ]
          },
          "metadata": {}
        },
        {
          "output_type": "display_data",
          "data": {
            "text/plain": [
              "<IPython.core.display.HTML object>"
            ],
            "text/html": [
              "Find logs at: <code>./wandb/run-20250401_211856-9ta1uy1k/logs</code>"
            ]
          },
          "metadata": {}
        },
        {
          "output_type": "stream",
          "name": "stderr",
          "text": [
            "Run 9ta1uy1k errored:\n",
            "Traceback (most recent call last):\n",
            "  File \"/usr/local/lib/python3.11/dist-packages/wandb/agents/pyagent.py\", line 306, in _run_job\n",
            "    self._function()\n",
            "  File \"<ipython-input-20-3858a0483ca4>\", line 40, in train\n",
            "    model.fit(X_train, y_train,\n",
            "  File \"/usr/local/lib/python3.11/dist-packages/keras/src/utils/traceback_utils.py\", line 122, in error_handler\n",
            "    raise e.with_traceback(filtered_tb) from None\n",
            "  File \"/usr/local/lib/python3.11/dist-packages/wandb/integration/keras/keras.py\", line 668, in on_train_batch_end\n",
            "    wandb.run.summary[\"graph\"] = wandb.Graph.from_keras(self.model)\n",
            "                                 ^^^^^^^^^^^^^^^^^^^^^^^^^^^^^^^^^^\n",
            "  File \"/usr/local/lib/python3.11/dist-packages/wandb/sdk/data_types/graph.py\", line 357, in from_keras\n",
            "    for in_layer in _nest(in_node.inbound_layers):\n",
            "                          ^^^^^^^^^^^^^^^^^^^^^^\n",
            "AttributeError: 'Node' object has no attribute 'inbound_layers'\n",
            "\n",
            "\u001b[34m\u001b[1mwandb\u001b[0m: \u001b[32m\u001b[41mERROR\u001b[0m Run 9ta1uy1k errored:\n",
            "\u001b[34m\u001b[1mwandb\u001b[0m: \u001b[32m\u001b[41mERROR\u001b[0m Traceback (most recent call last):\n",
            "\u001b[34m\u001b[1mwandb\u001b[0m: \u001b[32m\u001b[41mERROR\u001b[0m   File \"/usr/local/lib/python3.11/dist-packages/wandb/agents/pyagent.py\", line 306, in _run_job\n",
            "\u001b[34m\u001b[1mwandb\u001b[0m: \u001b[32m\u001b[41mERROR\u001b[0m     self._function()\n",
            "\u001b[34m\u001b[1mwandb\u001b[0m: \u001b[32m\u001b[41mERROR\u001b[0m   File \"<ipython-input-20-3858a0483ca4>\", line 40, in train\n",
            "\u001b[34m\u001b[1mwandb\u001b[0m: \u001b[32m\u001b[41mERROR\u001b[0m     model.fit(X_train, y_train,\n",
            "\u001b[34m\u001b[1mwandb\u001b[0m: \u001b[32m\u001b[41mERROR\u001b[0m   File \"/usr/local/lib/python3.11/dist-packages/keras/src/utils/traceback_utils.py\", line 122, in error_handler\n",
            "\u001b[34m\u001b[1mwandb\u001b[0m: \u001b[32m\u001b[41mERROR\u001b[0m     raise e.with_traceback(filtered_tb) from None\n",
            "\u001b[34m\u001b[1mwandb\u001b[0m: \u001b[32m\u001b[41mERROR\u001b[0m   File \"/usr/local/lib/python3.11/dist-packages/wandb/integration/keras/keras.py\", line 668, in on_train_batch_end\n",
            "\u001b[34m\u001b[1mwandb\u001b[0m: \u001b[32m\u001b[41mERROR\u001b[0m     wandb.run.summary[\"graph\"] = wandb.Graph.from_keras(self.model)\n",
            "\u001b[34m\u001b[1mwandb\u001b[0m: \u001b[32m\u001b[41mERROR\u001b[0m                                  ^^^^^^^^^^^^^^^^^^^^^^^^^^^^^^^^^^\n",
            "\u001b[34m\u001b[1mwandb\u001b[0m: \u001b[32m\u001b[41mERROR\u001b[0m   File \"/usr/local/lib/python3.11/dist-packages/wandb/sdk/data_types/graph.py\", line 357, in from_keras\n",
            "\u001b[34m\u001b[1mwandb\u001b[0m: \u001b[32m\u001b[41mERROR\u001b[0m     for in_layer in _nest(in_node.inbound_layers):\n",
            "\u001b[34m\u001b[1mwandb\u001b[0m: \u001b[32m\u001b[41mERROR\u001b[0m                           ^^^^^^^^^^^^^^^^^^^^^^\n",
            "\u001b[34m\u001b[1mwandb\u001b[0m: \u001b[32m\u001b[41mERROR\u001b[0m AttributeError: 'Node' object has no attribute 'inbound_layers'\n",
            "\u001b[34m\u001b[1mwandb\u001b[0m: \u001b[32m\u001b[41mERROR\u001b[0m \n",
            "\u001b[34m\u001b[1mwandb\u001b[0m: Agent Starting Run: usyo4a6m with config:\n",
            "\u001b[34m\u001b[1mwandb\u001b[0m: \tepoch: 5\n",
            "\u001b[34m\u001b[1mwandb\u001b[0m: \tlearning_rate: 0.04657826036294108\n"
          ]
        },
        {
          "output_type": "display_data",
          "data": {
            "text/plain": [
              "<IPython.core.display.HTML object>"
            ],
            "text/html": [
              "Tracking run with wandb version 0.19.8"
            ]
          },
          "metadata": {}
        },
        {
          "output_type": "display_data",
          "data": {
            "text/plain": [
              "<IPython.core.display.HTML object>"
            ],
            "text/html": [
              "Run data is saved locally in <code>/root/aiffel/jellyfish/wandb/run-20250401_211906-usyo4a6m</code>"
            ]
          },
          "metadata": {}
        },
        {
          "output_type": "display_data",
          "data": {
            "text/plain": [
              "<IPython.core.display.HTML object>"
            ],
            "text/html": [
              "Syncing run <strong><a href='https://wandb.ai/jong104b-home/dlthonm3/runs/usyo4a6m' target=\"_blank\">northern-sweep-2</a></strong> to <a href='https://wandb.ai/jong104b-home/dlthonm3' target=\"_blank\">Weights & Biases</a> (<a href='https://wandb.me/developer-guide' target=\"_blank\">docs</a>)<br>Sweep page: <a href='https://wandb.ai/jong104b-home/dlthonm3/sweeps/kpm83etp' target=\"_blank\">https://wandb.ai/jong104b-home/dlthonm3/sweeps/kpm83etp</a>"
            ]
          },
          "metadata": {}
        },
        {
          "output_type": "display_data",
          "data": {
            "text/plain": [
              "<IPython.core.display.HTML object>"
            ],
            "text/html": [
              " View project at <a href='https://wandb.ai/jong104b-home/dlthonm3' target=\"_blank\">https://wandb.ai/jong104b-home/dlthonm3</a>"
            ]
          },
          "metadata": {}
        },
        {
          "output_type": "display_data",
          "data": {
            "text/plain": [
              "<IPython.core.display.HTML object>"
            ],
            "text/html": [
              " View sweep at <a href='https://wandb.ai/jong104b-home/dlthonm3/sweeps/kpm83etp' target=\"_blank\">https://wandb.ai/jong104b-home/dlthonm3/sweeps/kpm83etp</a>"
            ]
          },
          "metadata": {}
        },
        {
          "output_type": "display_data",
          "data": {
            "text/plain": [
              "<IPython.core.display.HTML object>"
            ],
            "text/html": [
              " View run at <a href='https://wandb.ai/jong104b-home/dlthonm3/runs/usyo4a6m' target=\"_blank\">https://wandb.ai/jong104b-home/dlthonm3/runs/usyo4a6m</a>"
            ]
          },
          "metadata": {}
        },
        {
          "output_type": "stream",
          "name": "stdout",
          "text": [
            "Epoch 1/5\n"
          ]
        },
        {
          "output_type": "display_data",
          "data": {
            "text/plain": [
              "<IPython.core.display.HTML object>"
            ],
            "text/html": []
          },
          "metadata": {}
        },
        {
          "output_type": "display_data",
          "data": {
            "text/plain": [
              "<IPython.core.display.HTML object>"
            ],
            "text/html": [
              " View run <strong style=\"color:#cdcd00\">northern-sweep-2</strong> at: <a href='https://wandb.ai/jong104b-home/dlthonm3/runs/usyo4a6m' target=\"_blank\">https://wandb.ai/jong104b-home/dlthonm3/runs/usyo4a6m</a><br> View project at: <a href='https://wandb.ai/jong104b-home/dlthonm3' target=\"_blank\">https://wandb.ai/jong104b-home/dlthonm3</a><br>Synced 5 W&B file(s), 0 media file(s), 0 artifact file(s) and 0 other file(s)"
            ]
          },
          "metadata": {}
        },
        {
          "output_type": "display_data",
          "data": {
            "text/plain": [
              "<IPython.core.display.HTML object>"
            ],
            "text/html": [
              "Find logs at: <code>./wandb/run-20250401_211906-usyo4a6m/logs</code>"
            ]
          },
          "metadata": {}
        },
        {
          "output_type": "stream",
          "name": "stderr",
          "text": [
            "Run usyo4a6m errored:\n",
            "Traceback (most recent call last):\n",
            "  File \"/usr/local/lib/python3.11/dist-packages/wandb/agents/pyagent.py\", line 306, in _run_job\n",
            "    self._function()\n",
            "  File \"<ipython-input-20-3858a0483ca4>\", line 40, in train\n",
            "    model.fit(X_train, y_train,\n",
            "  File \"/usr/local/lib/python3.11/dist-packages/keras/src/utils/traceback_utils.py\", line 122, in error_handler\n",
            "    raise e.with_traceback(filtered_tb) from None\n",
            "  File \"/usr/local/lib/python3.11/dist-packages/wandb/integration/keras/keras.py\", line 668, in on_train_batch_end\n",
            "    wandb.run.summary[\"graph\"] = wandb.Graph.from_keras(self.model)\n",
            "                                 ^^^^^^^^^^^^^^^^^^^^^^^^^^^^^^^^^^\n",
            "  File \"/usr/local/lib/python3.11/dist-packages/wandb/sdk/data_types/graph.py\", line 357, in from_keras\n",
            "    for in_layer in _nest(in_node.inbound_layers):\n",
            "                          ^^^^^^^^^^^^^^^^^^^^^^\n",
            "AttributeError: 'Node' object has no attribute 'inbound_layers'\n",
            "\n",
            "\u001b[34m\u001b[1mwandb\u001b[0m: \u001b[32m\u001b[41mERROR\u001b[0m Run usyo4a6m errored:\n",
            "\u001b[34m\u001b[1mwandb\u001b[0m: \u001b[32m\u001b[41mERROR\u001b[0m Traceback (most recent call last):\n",
            "\u001b[34m\u001b[1mwandb\u001b[0m: \u001b[32m\u001b[41mERROR\u001b[0m   File \"/usr/local/lib/python3.11/dist-packages/wandb/agents/pyagent.py\", line 306, in _run_job\n",
            "\u001b[34m\u001b[1mwandb\u001b[0m: \u001b[32m\u001b[41mERROR\u001b[0m     self._function()\n",
            "\u001b[34m\u001b[1mwandb\u001b[0m: \u001b[32m\u001b[41mERROR\u001b[0m   File \"<ipython-input-20-3858a0483ca4>\", line 40, in train\n",
            "\u001b[34m\u001b[1mwandb\u001b[0m: \u001b[32m\u001b[41mERROR\u001b[0m     model.fit(X_train, y_train,\n",
            "\u001b[34m\u001b[1mwandb\u001b[0m: \u001b[32m\u001b[41mERROR\u001b[0m   File \"/usr/local/lib/python3.11/dist-packages/keras/src/utils/traceback_utils.py\", line 122, in error_handler\n",
            "\u001b[34m\u001b[1mwandb\u001b[0m: \u001b[32m\u001b[41mERROR\u001b[0m     raise e.with_traceback(filtered_tb) from None\n",
            "\u001b[34m\u001b[1mwandb\u001b[0m: \u001b[32m\u001b[41mERROR\u001b[0m   File \"/usr/local/lib/python3.11/dist-packages/wandb/integration/keras/keras.py\", line 668, in on_train_batch_end\n",
            "\u001b[34m\u001b[1mwandb\u001b[0m: \u001b[32m\u001b[41mERROR\u001b[0m     wandb.run.summary[\"graph\"] = wandb.Graph.from_keras(self.model)\n",
            "\u001b[34m\u001b[1mwandb\u001b[0m: \u001b[32m\u001b[41mERROR\u001b[0m                                  ^^^^^^^^^^^^^^^^^^^^^^^^^^^^^^^^^^\n",
            "\u001b[34m\u001b[1mwandb\u001b[0m: \u001b[32m\u001b[41mERROR\u001b[0m   File \"/usr/local/lib/python3.11/dist-packages/wandb/sdk/data_types/graph.py\", line 357, in from_keras\n",
            "\u001b[34m\u001b[1mwandb\u001b[0m: \u001b[32m\u001b[41mERROR\u001b[0m     for in_layer in _nest(in_node.inbound_layers):\n",
            "\u001b[34m\u001b[1mwandb\u001b[0m: \u001b[32m\u001b[41mERROR\u001b[0m                           ^^^^^^^^^^^^^^^^^^^^^^\n",
            "\u001b[34m\u001b[1mwandb\u001b[0m: \u001b[32m\u001b[41mERROR\u001b[0m AttributeError: 'Node' object has no attribute 'inbound_layers'\n",
            "\u001b[34m\u001b[1mwandb\u001b[0m: \u001b[32m\u001b[41mERROR\u001b[0m \n",
            "\u001b[34m\u001b[1mwandb\u001b[0m: Agent Starting Run: 2fa3lbt0 with config:\n",
            "\u001b[34m\u001b[1mwandb\u001b[0m: \tepoch: 5\n",
            "\u001b[34m\u001b[1mwandb\u001b[0m: \tlearning_rate: 0.0800816741409574\n"
          ]
        },
        {
          "output_type": "display_data",
          "data": {
            "text/plain": [
              "<IPython.core.display.HTML object>"
            ],
            "text/html": [
              "Tracking run with wandb version 0.19.8"
            ]
          },
          "metadata": {}
        },
        {
          "output_type": "display_data",
          "data": {
            "text/plain": [
              "<IPython.core.display.HTML object>"
            ],
            "text/html": [
              "Run data is saved locally in <code>/root/aiffel/jellyfish/wandb/run-20250401_211912-2fa3lbt0</code>"
            ]
          },
          "metadata": {}
        },
        {
          "output_type": "display_data",
          "data": {
            "text/plain": [
              "<IPython.core.display.HTML object>"
            ],
            "text/html": [
              "Syncing run <strong><a href='https://wandb.ai/jong104b-home/dlthonm3/runs/2fa3lbt0' target=\"_blank\">noble-sweep-3</a></strong> to <a href='https://wandb.ai/jong104b-home/dlthonm3' target=\"_blank\">Weights & Biases</a> (<a href='https://wandb.me/developer-guide' target=\"_blank\">docs</a>)<br>Sweep page: <a href='https://wandb.ai/jong104b-home/dlthonm3/sweeps/kpm83etp' target=\"_blank\">https://wandb.ai/jong104b-home/dlthonm3/sweeps/kpm83etp</a>"
            ]
          },
          "metadata": {}
        },
        {
          "output_type": "display_data",
          "data": {
            "text/plain": [
              "<IPython.core.display.HTML object>"
            ],
            "text/html": [
              " View project at <a href='https://wandb.ai/jong104b-home/dlthonm3' target=\"_blank\">https://wandb.ai/jong104b-home/dlthonm3</a>"
            ]
          },
          "metadata": {}
        },
        {
          "output_type": "display_data",
          "data": {
            "text/plain": [
              "<IPython.core.display.HTML object>"
            ],
            "text/html": [
              " View sweep at <a href='https://wandb.ai/jong104b-home/dlthonm3/sweeps/kpm83etp' target=\"_blank\">https://wandb.ai/jong104b-home/dlthonm3/sweeps/kpm83etp</a>"
            ]
          },
          "metadata": {}
        },
        {
          "output_type": "display_data",
          "data": {
            "text/plain": [
              "<IPython.core.display.HTML object>"
            ],
            "text/html": [
              " View run at <a href='https://wandb.ai/jong104b-home/dlthonm3/runs/2fa3lbt0' target=\"_blank\">https://wandb.ai/jong104b-home/dlthonm3/runs/2fa3lbt0</a>"
            ]
          },
          "metadata": {}
        },
        {
          "output_type": "stream",
          "name": "stdout",
          "text": [
            "Epoch 1/5\n"
          ]
        },
        {
          "output_type": "display_data",
          "data": {
            "text/plain": [
              "<IPython.core.display.HTML object>"
            ],
            "text/html": []
          },
          "metadata": {}
        },
        {
          "output_type": "display_data",
          "data": {
            "text/plain": [
              "<IPython.core.display.HTML object>"
            ],
            "text/html": [
              " View run <strong style=\"color:#cdcd00\">noble-sweep-3</strong> at: <a href='https://wandb.ai/jong104b-home/dlthonm3/runs/2fa3lbt0' target=\"_blank\">https://wandb.ai/jong104b-home/dlthonm3/runs/2fa3lbt0</a><br> View project at: <a href='https://wandb.ai/jong104b-home/dlthonm3' target=\"_blank\">https://wandb.ai/jong104b-home/dlthonm3</a><br>Synced 5 W&B file(s), 0 media file(s), 0 artifact file(s) and 0 other file(s)"
            ]
          },
          "metadata": {}
        },
        {
          "output_type": "display_data",
          "data": {
            "text/plain": [
              "<IPython.core.display.HTML object>"
            ],
            "text/html": [
              "Find logs at: <code>./wandb/run-20250401_211912-2fa3lbt0/logs</code>"
            ]
          },
          "metadata": {}
        },
        {
          "output_type": "stream",
          "name": "stderr",
          "text": [
            "Run 2fa3lbt0 errored:\n",
            "Traceback (most recent call last):\n",
            "  File \"/usr/local/lib/python3.11/dist-packages/wandb/agents/pyagent.py\", line 306, in _run_job\n",
            "    self._function()\n",
            "  File \"<ipython-input-20-3858a0483ca4>\", line 40, in train\n",
            "    model.fit(X_train, y_train,\n",
            "  File \"/usr/local/lib/python3.11/dist-packages/keras/src/utils/traceback_utils.py\", line 122, in error_handler\n",
            "    raise e.with_traceback(filtered_tb) from None\n",
            "  File \"/usr/local/lib/python3.11/dist-packages/wandb/integration/keras/keras.py\", line 668, in on_train_batch_end\n",
            "    wandb.run.summary[\"graph\"] = wandb.Graph.from_keras(self.model)\n",
            "                                 ^^^^^^^^^^^^^^^^^^^^^^^^^^^^^^^^^^\n",
            "  File \"/usr/local/lib/python3.11/dist-packages/wandb/sdk/data_types/graph.py\", line 357, in from_keras\n",
            "    for in_layer in _nest(in_node.inbound_layers):\n",
            "                          ^^^^^^^^^^^^^^^^^^^^^^\n",
            "AttributeError: 'Node' object has no attribute 'inbound_layers'\n",
            "\n",
            "\u001b[34m\u001b[1mwandb\u001b[0m: \u001b[32m\u001b[41mERROR\u001b[0m Run 2fa3lbt0 errored:\n",
            "\u001b[34m\u001b[1mwandb\u001b[0m: \u001b[32m\u001b[41mERROR\u001b[0m Traceback (most recent call last):\n",
            "\u001b[34m\u001b[1mwandb\u001b[0m: \u001b[32m\u001b[41mERROR\u001b[0m   File \"/usr/local/lib/python3.11/dist-packages/wandb/agents/pyagent.py\", line 306, in _run_job\n",
            "\u001b[34m\u001b[1mwandb\u001b[0m: \u001b[32m\u001b[41mERROR\u001b[0m     self._function()\n",
            "\u001b[34m\u001b[1mwandb\u001b[0m: \u001b[32m\u001b[41mERROR\u001b[0m   File \"<ipython-input-20-3858a0483ca4>\", line 40, in train\n",
            "\u001b[34m\u001b[1mwandb\u001b[0m: \u001b[32m\u001b[41mERROR\u001b[0m     model.fit(X_train, y_train,\n",
            "\u001b[34m\u001b[1mwandb\u001b[0m: \u001b[32m\u001b[41mERROR\u001b[0m   File \"/usr/local/lib/python3.11/dist-packages/keras/src/utils/traceback_utils.py\", line 122, in error_handler\n",
            "\u001b[34m\u001b[1mwandb\u001b[0m: \u001b[32m\u001b[41mERROR\u001b[0m     raise e.with_traceback(filtered_tb) from None\n",
            "\u001b[34m\u001b[1mwandb\u001b[0m: \u001b[32m\u001b[41mERROR\u001b[0m   File \"/usr/local/lib/python3.11/dist-packages/wandb/integration/keras/keras.py\", line 668, in on_train_batch_end\n",
            "\u001b[34m\u001b[1mwandb\u001b[0m: \u001b[32m\u001b[41mERROR\u001b[0m     wandb.run.summary[\"graph\"] = wandb.Graph.from_keras(self.model)\n",
            "\u001b[34m\u001b[1mwandb\u001b[0m: \u001b[32m\u001b[41mERROR\u001b[0m                                  ^^^^^^^^^^^^^^^^^^^^^^^^^^^^^^^^^^\n",
            "\u001b[34m\u001b[1mwandb\u001b[0m: \u001b[32m\u001b[41mERROR\u001b[0m   File \"/usr/local/lib/python3.11/dist-packages/wandb/sdk/data_types/graph.py\", line 357, in from_keras\n",
            "\u001b[34m\u001b[1mwandb\u001b[0m: \u001b[32m\u001b[41mERROR\u001b[0m     for in_layer in _nest(in_node.inbound_layers):\n",
            "\u001b[34m\u001b[1mwandb\u001b[0m: \u001b[32m\u001b[41mERROR\u001b[0m                           ^^^^^^^^^^^^^^^^^^^^^^\n",
            "\u001b[34m\u001b[1mwandb\u001b[0m: \u001b[32m\u001b[41mERROR\u001b[0m AttributeError: 'Node' object has no attribute 'inbound_layers'\n",
            "\u001b[34m\u001b[1mwandb\u001b[0m: \u001b[32m\u001b[41mERROR\u001b[0m \n",
            "Detected 3 failed runs in the first 60 seconds, killing sweep.\n",
            "\u001b[34m\u001b[1mwandb\u001b[0m: \u001b[32m\u001b[41mERROR\u001b[0m Detected 3 failed runs in the first 60 seconds, killing sweep.\n",
            "\u001b[34m\u001b[1mwandb\u001b[0m: To disable this check set WANDB_AGENT_DISABLE_FLAPPING=true\n"
          ]
        }
      ]
    },
    {
      "cell_type": "code",
      "source": [
        "pwd"
      ],
      "metadata": {
        "colab": {
          "base_uri": "https://localhost:8080/",
          "height": 35
        },
        "id": "odJJOHMrjcGl",
        "outputId": "17dd3e8a-2af9-4122-d545-e68d50475db7"
      },
      "execution_count": 22,
      "outputs": [
        {
          "output_type": "execute_result",
          "data": {
            "text/plain": [
              "'/root/aiffel/jellyfish'"
            ],
            "application/vnd.google.colaboratory.intrinsic+json": {
              "type": "string"
            }
          },
          "metadata": {},
          "execution_count": 22
        }
      ]
    },
    {
      "cell_type": "code",
      "source": [
        "# 케창딥 p.298 코드 8-6 응용, 이미지를 훈련,검증,테스트 디렉터리로 복사\n",
        "import os, shutil, pathlib\n",
        "\n",
        "original_dir = pathlib.Path(\"train\")\n",
        "new_base_dir = pathlib.Path(\"test\")\n",
        "\n",
        "def make_subset(subset_name, start_index, end_index):\n",
        "    for category in (\"Moon_jellyfish\", \"barrel_jellyfish\", \"blue_jellyfish\", \"compass_jellyfish\", \"lions_mane_jellyfish\", \"mauve_stinger_jellyfish\"):\n",
        "        dir = new_base_dir / subset_name / category\n",
        "        os.makedirs(dir)\n",
        "        fnames = [f\"{category}.{i}.jpg\" for i in range(start_index, end_index)]\n",
        "        for fname in fnames:\n",
        "            shutil.copyfile(src=original_dir / fname,\n",
        "                            dst=dir / fname)\n",
        "\n",
        "make_subset(\"train\", start_index=0, end_index=10)\n",
        "make_subset(\"validation\", start_index=10, end_index=15)\n",
        "make_subset(\"test\", start_index=15, end_index=25)"
      ],
      "metadata": {
        "id": "OnbQlW_hnmNK"
      },
      "execution_count": null,
      "outputs": []
    },
    {
      "cell_type": "code",
      "source": [
        "# 케창딥 p.299 강아지vs고양이 분류를 위한 소규모 컨브넷 만들기\n",
        "from tensorflow import keras\n",
        "from tensorflow.keras import layers\n",
        "\n",
        "inputs = keras.Input(shape=(180,180,3))\n",
        "x = layers.Rescaling(1./255)(inputs)\n",
        "x = layers.Conv2D(filters=32,kernel_size=3,activation=\"relu\")(x)\n",
        "x = layers.MaxPooling2D(pool_size=2)(x)\n",
        "x = layers.Conv2D(filters=64,kernel_size=3,activation=\"relu\")(x)\n",
        "x = layers.MaxPooling2D(pool_size=2)(x)\n",
        "x = layers.Conv2D(filters=128,kernel_size=3,activation=\"relu\")(x)\n",
        "x = layers.MaxPooling2D(pool_size=2)(x)\n",
        "x = layers.Conv2D(filters=256,kernel_size=3,activation=\"relu\")(x)\n",
        "x = layers.MaxPooling2D(pool_size=2)(x)\n",
        "x = layers.Conv2D(filters=256,kernel_size=3,activation=\"relu\")(x)\n",
        "x = layers.Flatten()(x)\n",
        "outputs = layers.Dense(1,activation=\"sigmoid\")(x)\n",
        "model = keras.Model(inputs=inputs,outputs=outputs)"
      ],
      "metadata": {
        "id": "x_F2L8buq9IH"
      },
      "execution_count": 25,
      "outputs": []
    },
    {
      "cell_type": "code",
      "source": [
        "model.summary()"
      ],
      "metadata": {
        "colab": {
          "base_uri": "https://localhost:8080/",
          "height": 545
        },
        "id": "d7sHRLhTtAsE",
        "outputId": "8c73750d-1a58-4772-86be-d636a562a719"
      },
      "execution_count": 26,
      "outputs": [
        {
          "output_type": "display_data",
          "data": {
            "text/plain": [
              "\u001b[1mModel: \"functional\"\u001b[0m\n"
            ],
            "text/html": [
              "<pre style=\"white-space:pre;overflow-x:auto;line-height:normal;font-family:Menlo,'DejaVu Sans Mono',consolas,'Courier New',monospace\"><span style=\"font-weight: bold\">Model: \"functional\"</span>\n",
              "</pre>\n"
            ]
          },
          "metadata": {}
        },
        {
          "output_type": "display_data",
          "data": {
            "text/plain": [
              "┏━━━━━━━━━━━━━━━━━━━━━━━━━━━━━━━━━━━━━━┳━━━━━━━━━━━━━━━━━━━━━━━━━━━━━┳━━━━━━━━━━━━━━━━━┓\n",
              "┃\u001b[1m \u001b[0m\u001b[1mLayer (type)                        \u001b[0m\u001b[1m \u001b[0m┃\u001b[1m \u001b[0m\u001b[1mOutput Shape               \u001b[0m\u001b[1m \u001b[0m┃\u001b[1m \u001b[0m\u001b[1m        Param #\u001b[0m\u001b[1m \u001b[0m┃\n",
              "┡━━━━━━━━━━━━━━━━━━━━━━━━━━━━━━━━━━━━━━╇━━━━━━━━━━━━━━━━━━━━━━━━━━━━━╇━━━━━━━━━━━━━━━━━┩\n",
              "│ input_layer (\u001b[38;5;33mInputLayer\u001b[0m)             │ (\u001b[38;5;45mNone\u001b[0m, \u001b[38;5;34m180\u001b[0m, \u001b[38;5;34m180\u001b[0m, \u001b[38;5;34m3\u001b[0m)         │               \u001b[38;5;34m0\u001b[0m │\n",
              "├──────────────────────────────────────┼─────────────────────────────┼─────────────────┤\n",
              "│ rescaling (\u001b[38;5;33mRescaling\u001b[0m)                │ (\u001b[38;5;45mNone\u001b[0m, \u001b[38;5;34m180\u001b[0m, \u001b[38;5;34m180\u001b[0m, \u001b[38;5;34m3\u001b[0m)         │               \u001b[38;5;34m0\u001b[0m │\n",
              "├──────────────────────────────────────┼─────────────────────────────┼─────────────────┤\n",
              "│ conv2d (\u001b[38;5;33mConv2D\u001b[0m)                      │ (\u001b[38;5;45mNone\u001b[0m, \u001b[38;5;34m178\u001b[0m, \u001b[38;5;34m178\u001b[0m, \u001b[38;5;34m32\u001b[0m)        │             \u001b[38;5;34m896\u001b[0m │\n",
              "├──────────────────────────────────────┼─────────────────────────────┼─────────────────┤\n",
              "│ max_pooling2d (\u001b[38;5;33mMaxPooling2D\u001b[0m)         │ (\u001b[38;5;45mNone\u001b[0m, \u001b[38;5;34m89\u001b[0m, \u001b[38;5;34m89\u001b[0m, \u001b[38;5;34m32\u001b[0m)          │               \u001b[38;5;34m0\u001b[0m │\n",
              "├──────────────────────────────────────┼─────────────────────────────┼─────────────────┤\n",
              "│ conv2d_1 (\u001b[38;5;33mConv2D\u001b[0m)                    │ (\u001b[38;5;45mNone\u001b[0m, \u001b[38;5;34m87\u001b[0m, \u001b[38;5;34m87\u001b[0m, \u001b[38;5;34m64\u001b[0m)          │          \u001b[38;5;34m18,496\u001b[0m │\n",
              "├──────────────────────────────────────┼─────────────────────────────┼─────────────────┤\n",
              "│ max_pooling2d_1 (\u001b[38;5;33mMaxPooling2D\u001b[0m)       │ (\u001b[38;5;45mNone\u001b[0m, \u001b[38;5;34m43\u001b[0m, \u001b[38;5;34m43\u001b[0m, \u001b[38;5;34m64\u001b[0m)          │               \u001b[38;5;34m0\u001b[0m │\n",
              "├──────────────────────────────────────┼─────────────────────────────┼─────────────────┤\n",
              "│ conv2d_2 (\u001b[38;5;33mConv2D\u001b[0m)                    │ (\u001b[38;5;45mNone\u001b[0m, \u001b[38;5;34m41\u001b[0m, \u001b[38;5;34m41\u001b[0m, \u001b[38;5;34m128\u001b[0m)         │          \u001b[38;5;34m73,856\u001b[0m │\n",
              "├──────────────────────────────────────┼─────────────────────────────┼─────────────────┤\n",
              "│ max_pooling2d_2 (\u001b[38;5;33mMaxPooling2D\u001b[0m)       │ (\u001b[38;5;45mNone\u001b[0m, \u001b[38;5;34m20\u001b[0m, \u001b[38;5;34m20\u001b[0m, \u001b[38;5;34m128\u001b[0m)         │               \u001b[38;5;34m0\u001b[0m │\n",
              "├──────────────────────────────────────┼─────────────────────────────┼─────────────────┤\n",
              "│ conv2d_3 (\u001b[38;5;33mConv2D\u001b[0m)                    │ (\u001b[38;5;45mNone\u001b[0m, \u001b[38;5;34m18\u001b[0m, \u001b[38;5;34m18\u001b[0m, \u001b[38;5;34m256\u001b[0m)         │         \u001b[38;5;34m295,168\u001b[0m │\n",
              "├──────────────────────────────────────┼─────────────────────────────┼─────────────────┤\n",
              "│ max_pooling2d_3 (\u001b[38;5;33mMaxPooling2D\u001b[0m)       │ (\u001b[38;5;45mNone\u001b[0m, \u001b[38;5;34m9\u001b[0m, \u001b[38;5;34m9\u001b[0m, \u001b[38;5;34m256\u001b[0m)           │               \u001b[38;5;34m0\u001b[0m │\n",
              "├──────────────────────────────────────┼─────────────────────────────┼─────────────────┤\n",
              "│ conv2d_4 (\u001b[38;5;33mConv2D\u001b[0m)                    │ (\u001b[38;5;45mNone\u001b[0m, \u001b[38;5;34m7\u001b[0m, \u001b[38;5;34m7\u001b[0m, \u001b[38;5;34m256\u001b[0m)           │         \u001b[38;5;34m590,080\u001b[0m │\n",
              "├──────────────────────────────────────┼─────────────────────────────┼─────────────────┤\n",
              "│ flatten (\u001b[38;5;33mFlatten\u001b[0m)                    │ (\u001b[38;5;45mNone\u001b[0m, \u001b[38;5;34m12544\u001b[0m)               │               \u001b[38;5;34m0\u001b[0m │\n",
              "├──────────────────────────────────────┼─────────────────────────────┼─────────────────┤\n",
              "│ dense (\u001b[38;5;33mDense\u001b[0m)                        │ (\u001b[38;5;45mNone\u001b[0m, \u001b[38;5;34m1\u001b[0m)                   │          \u001b[38;5;34m12,545\u001b[0m │\n",
              "└──────────────────────────────────────┴─────────────────────────────┴─────────────────┘\n"
            ],
            "text/html": [
              "<pre style=\"white-space:pre;overflow-x:auto;line-height:normal;font-family:Menlo,'DejaVu Sans Mono',consolas,'Courier New',monospace\">┏━━━━━━━━━━━━━━━━━━━━━━━━━━━━━━━━━━━━━━┳━━━━━━━━━━━━━━━━━━━━━━━━━━━━━┳━━━━━━━━━━━━━━━━━┓\n",
              "┃<span style=\"font-weight: bold\"> Layer (type)                         </span>┃<span style=\"font-weight: bold\"> Output Shape                </span>┃<span style=\"font-weight: bold\">         Param # </span>┃\n",
              "┡━━━━━━━━━━━━━━━━━━━━━━━━━━━━━━━━━━━━━━╇━━━━━━━━━━━━━━━━━━━━━━━━━━━━━╇━━━━━━━━━━━━━━━━━┩\n",
              "│ input_layer (<span style=\"color: #0087ff; text-decoration-color: #0087ff\">InputLayer</span>)             │ (<span style=\"color: #00d7ff; text-decoration-color: #00d7ff\">None</span>, <span style=\"color: #00af00; text-decoration-color: #00af00\">180</span>, <span style=\"color: #00af00; text-decoration-color: #00af00\">180</span>, <span style=\"color: #00af00; text-decoration-color: #00af00\">3</span>)         │               <span style=\"color: #00af00; text-decoration-color: #00af00\">0</span> │\n",
              "├──────────────────────────────────────┼─────────────────────────────┼─────────────────┤\n",
              "│ rescaling (<span style=\"color: #0087ff; text-decoration-color: #0087ff\">Rescaling</span>)                │ (<span style=\"color: #00d7ff; text-decoration-color: #00d7ff\">None</span>, <span style=\"color: #00af00; text-decoration-color: #00af00\">180</span>, <span style=\"color: #00af00; text-decoration-color: #00af00\">180</span>, <span style=\"color: #00af00; text-decoration-color: #00af00\">3</span>)         │               <span style=\"color: #00af00; text-decoration-color: #00af00\">0</span> │\n",
              "├──────────────────────────────────────┼─────────────────────────────┼─────────────────┤\n",
              "│ conv2d (<span style=\"color: #0087ff; text-decoration-color: #0087ff\">Conv2D</span>)                      │ (<span style=\"color: #00d7ff; text-decoration-color: #00d7ff\">None</span>, <span style=\"color: #00af00; text-decoration-color: #00af00\">178</span>, <span style=\"color: #00af00; text-decoration-color: #00af00\">178</span>, <span style=\"color: #00af00; text-decoration-color: #00af00\">32</span>)        │             <span style=\"color: #00af00; text-decoration-color: #00af00\">896</span> │\n",
              "├──────────────────────────────────────┼─────────────────────────────┼─────────────────┤\n",
              "│ max_pooling2d (<span style=\"color: #0087ff; text-decoration-color: #0087ff\">MaxPooling2D</span>)         │ (<span style=\"color: #00d7ff; text-decoration-color: #00d7ff\">None</span>, <span style=\"color: #00af00; text-decoration-color: #00af00\">89</span>, <span style=\"color: #00af00; text-decoration-color: #00af00\">89</span>, <span style=\"color: #00af00; text-decoration-color: #00af00\">32</span>)          │               <span style=\"color: #00af00; text-decoration-color: #00af00\">0</span> │\n",
              "├──────────────────────────────────────┼─────────────────────────────┼─────────────────┤\n",
              "│ conv2d_1 (<span style=\"color: #0087ff; text-decoration-color: #0087ff\">Conv2D</span>)                    │ (<span style=\"color: #00d7ff; text-decoration-color: #00d7ff\">None</span>, <span style=\"color: #00af00; text-decoration-color: #00af00\">87</span>, <span style=\"color: #00af00; text-decoration-color: #00af00\">87</span>, <span style=\"color: #00af00; text-decoration-color: #00af00\">64</span>)          │          <span style=\"color: #00af00; text-decoration-color: #00af00\">18,496</span> │\n",
              "├──────────────────────────────────────┼─────────────────────────────┼─────────────────┤\n",
              "│ max_pooling2d_1 (<span style=\"color: #0087ff; text-decoration-color: #0087ff\">MaxPooling2D</span>)       │ (<span style=\"color: #00d7ff; text-decoration-color: #00d7ff\">None</span>, <span style=\"color: #00af00; text-decoration-color: #00af00\">43</span>, <span style=\"color: #00af00; text-decoration-color: #00af00\">43</span>, <span style=\"color: #00af00; text-decoration-color: #00af00\">64</span>)          │               <span style=\"color: #00af00; text-decoration-color: #00af00\">0</span> │\n",
              "├──────────────────────────────────────┼─────────────────────────────┼─────────────────┤\n",
              "│ conv2d_2 (<span style=\"color: #0087ff; text-decoration-color: #0087ff\">Conv2D</span>)                    │ (<span style=\"color: #00d7ff; text-decoration-color: #00d7ff\">None</span>, <span style=\"color: #00af00; text-decoration-color: #00af00\">41</span>, <span style=\"color: #00af00; text-decoration-color: #00af00\">41</span>, <span style=\"color: #00af00; text-decoration-color: #00af00\">128</span>)         │          <span style=\"color: #00af00; text-decoration-color: #00af00\">73,856</span> │\n",
              "├──────────────────────────────────────┼─────────────────────────────┼─────────────────┤\n",
              "│ max_pooling2d_2 (<span style=\"color: #0087ff; text-decoration-color: #0087ff\">MaxPooling2D</span>)       │ (<span style=\"color: #00d7ff; text-decoration-color: #00d7ff\">None</span>, <span style=\"color: #00af00; text-decoration-color: #00af00\">20</span>, <span style=\"color: #00af00; text-decoration-color: #00af00\">20</span>, <span style=\"color: #00af00; text-decoration-color: #00af00\">128</span>)         │               <span style=\"color: #00af00; text-decoration-color: #00af00\">0</span> │\n",
              "├──────────────────────────────────────┼─────────────────────────────┼─────────────────┤\n",
              "│ conv2d_3 (<span style=\"color: #0087ff; text-decoration-color: #0087ff\">Conv2D</span>)                    │ (<span style=\"color: #00d7ff; text-decoration-color: #00d7ff\">None</span>, <span style=\"color: #00af00; text-decoration-color: #00af00\">18</span>, <span style=\"color: #00af00; text-decoration-color: #00af00\">18</span>, <span style=\"color: #00af00; text-decoration-color: #00af00\">256</span>)         │         <span style=\"color: #00af00; text-decoration-color: #00af00\">295,168</span> │\n",
              "├──────────────────────────────────────┼─────────────────────────────┼─────────────────┤\n",
              "│ max_pooling2d_3 (<span style=\"color: #0087ff; text-decoration-color: #0087ff\">MaxPooling2D</span>)       │ (<span style=\"color: #00d7ff; text-decoration-color: #00d7ff\">None</span>, <span style=\"color: #00af00; text-decoration-color: #00af00\">9</span>, <span style=\"color: #00af00; text-decoration-color: #00af00\">9</span>, <span style=\"color: #00af00; text-decoration-color: #00af00\">256</span>)           │               <span style=\"color: #00af00; text-decoration-color: #00af00\">0</span> │\n",
              "├──────────────────────────────────────┼─────────────────────────────┼─────────────────┤\n",
              "│ conv2d_4 (<span style=\"color: #0087ff; text-decoration-color: #0087ff\">Conv2D</span>)                    │ (<span style=\"color: #00d7ff; text-decoration-color: #00d7ff\">None</span>, <span style=\"color: #00af00; text-decoration-color: #00af00\">7</span>, <span style=\"color: #00af00; text-decoration-color: #00af00\">7</span>, <span style=\"color: #00af00; text-decoration-color: #00af00\">256</span>)           │         <span style=\"color: #00af00; text-decoration-color: #00af00\">590,080</span> │\n",
              "├──────────────────────────────────────┼─────────────────────────────┼─────────────────┤\n",
              "│ flatten (<span style=\"color: #0087ff; text-decoration-color: #0087ff\">Flatten</span>)                    │ (<span style=\"color: #00d7ff; text-decoration-color: #00d7ff\">None</span>, <span style=\"color: #00af00; text-decoration-color: #00af00\">12544</span>)               │               <span style=\"color: #00af00; text-decoration-color: #00af00\">0</span> │\n",
              "├──────────────────────────────────────┼─────────────────────────────┼─────────────────┤\n",
              "│ dense (<span style=\"color: #0087ff; text-decoration-color: #0087ff\">Dense</span>)                        │ (<span style=\"color: #00d7ff; text-decoration-color: #00d7ff\">None</span>, <span style=\"color: #00af00; text-decoration-color: #00af00\">1</span>)                   │          <span style=\"color: #00af00; text-decoration-color: #00af00\">12,545</span> │\n",
              "└──────────────────────────────────────┴─────────────────────────────┴─────────────────┘\n",
              "</pre>\n"
            ]
          },
          "metadata": {}
        },
        {
          "output_type": "display_data",
          "data": {
            "text/plain": [
              "\u001b[1m Total params: \u001b[0m\u001b[38;5;34m991,041\u001b[0m (3.78 MB)\n"
            ],
            "text/html": [
              "<pre style=\"white-space:pre;overflow-x:auto;line-height:normal;font-family:Menlo,'DejaVu Sans Mono',consolas,'Courier New',monospace\"><span style=\"font-weight: bold\"> Total params: </span><span style=\"color: #00af00; text-decoration-color: #00af00\">991,041</span> (3.78 MB)\n",
              "</pre>\n"
            ]
          },
          "metadata": {}
        },
        {
          "output_type": "display_data",
          "data": {
            "text/plain": [
              "\u001b[1m Trainable params: \u001b[0m\u001b[38;5;34m991,041\u001b[0m (3.78 MB)\n"
            ],
            "text/html": [
              "<pre style=\"white-space:pre;overflow-x:auto;line-height:normal;font-family:Menlo,'DejaVu Sans Mono',consolas,'Courier New',monospace\"><span style=\"font-weight: bold\"> Trainable params: </span><span style=\"color: #00af00; text-decoration-color: #00af00\">991,041</span> (3.78 MB)\n",
              "</pre>\n"
            ]
          },
          "metadata": {}
        },
        {
          "output_type": "display_data",
          "data": {
            "text/plain": [
              "\u001b[1m Non-trainable params: \u001b[0m\u001b[38;5;34m0\u001b[0m (0.00 B)\n"
            ],
            "text/html": [
              "<pre style=\"white-space:pre;overflow-x:auto;line-height:normal;font-family:Menlo,'DejaVu Sans Mono',consolas,'Courier New',monospace\"><span style=\"font-weight: bold\"> Non-trainable params: </span><span style=\"color: #00af00; text-decoration-color: #00af00\">0</span> (0.00 B)\n",
              "</pre>\n"
            ]
          },
          "metadata": {}
        }
      ]
    },
    {
      "cell_type": "code",
      "source": [
        "# 케창딥 p.301 코드 8-8 모델 훈련 설정하기\n",
        "model.compile(loss=\"binary_crossentropy\",optimizer=\"rmsprop\",metrics=[\"accuracy\"])"
      ],
      "metadata": {
        "id": "fZOmjQB9tKfl"
      },
      "execution_count": 27,
      "outputs": []
    },
    {
      "cell_type": "code",
      "source": [
        "# 케창딥 p.302 코드 8-9 image_dataset_from_directory를 사용하여 이미지 읽기\n",
        "from tensorflow.keras.utils import image_dataset_from_directory\n",
        "\n",
        "train_dataset = image_dataset_from_directory(\n",
        "    new_base_dir / \"train\", # 경로 수정하기\n",
        "    image_size = (180,180),\n",
        "    batch_size = 32\n",
        ")\n",
        "\n",
        "validation_dataset = image_dataset_from_directory(\n",
        "    new_base_dir / \"validation\", # 경로 수정하기\n",
        "    image_size = (180,180),\n",
        ")\n",
        "\n",
        "test_dataset = image_dataset_from_directory(\n",
        "    new_base_dir / \"test\", # 경로 수정하기\n",
        "    image_size = (180,180),\n",
        "    batch_size = 32\n",
        ")"
      ],
      "metadata": {
        "colab": {
          "base_uri": "https://localhost:8080/",
          "height": 400
        },
        "id": "0kbywIfCte_h",
        "outputId": "409b40a8-12ca-4175-d0fd-1b2792e14d90"
      },
      "execution_count": 28,
      "outputs": [
        {
          "output_type": "stream",
          "name": "stdout",
          "text": [
            "Found 0 files belonging to 1 classes.\n"
          ]
        },
        {
          "output_type": "error",
          "ename": "ValueError",
          "evalue": "No images found in directory test/train. Allowed formats: ('.bmp', '.gif', '.jpeg', '.jpg', '.png')",
          "traceback": [
            "\u001b[0;31m---------------------------------------------------------------------------\u001b[0m",
            "\u001b[0;31mValueError\u001b[0m                                Traceback (most recent call last)",
            "\u001b[0;32m<ipython-input-28-e28816da6541>\u001b[0m in \u001b[0;36m<cell line: 0>\u001b[0;34m()\u001b[0m\n\u001b[1;32m      2\u001b[0m \u001b[0;32mfrom\u001b[0m \u001b[0mtensorflow\u001b[0m\u001b[0;34m.\u001b[0m\u001b[0mkeras\u001b[0m\u001b[0;34m.\u001b[0m\u001b[0mutils\u001b[0m \u001b[0;32mimport\u001b[0m \u001b[0mimage_dataset_from_directory\u001b[0m\u001b[0;34m\u001b[0m\u001b[0;34m\u001b[0m\u001b[0m\n\u001b[1;32m      3\u001b[0m \u001b[0;34m\u001b[0m\u001b[0m\n\u001b[0;32m----> 4\u001b[0;31m train_dataset = image_dataset_from_directory(\n\u001b[0m\u001b[1;32m      5\u001b[0m     \u001b[0mnew_base_dir\u001b[0m \u001b[0;34m/\u001b[0m \u001b[0;34m\"train\"\u001b[0m\u001b[0;34m,\u001b[0m\u001b[0;34m\u001b[0m\u001b[0;34m\u001b[0m\u001b[0m\n\u001b[1;32m      6\u001b[0m     \u001b[0mimage_size\u001b[0m \u001b[0;34m=\u001b[0m \u001b[0;34m(\u001b[0m\u001b[0;36m180\u001b[0m\u001b[0;34m,\u001b[0m\u001b[0;36m180\u001b[0m\u001b[0;34m)\u001b[0m\u001b[0;34m,\u001b[0m\u001b[0;34m\u001b[0m\u001b[0;34m\u001b[0m\u001b[0m\n",
            "\u001b[0;32m/usr/local/lib/python3.11/dist-packages/keras/src/utils/image_dataset_utils.py\u001b[0m in \u001b[0;36mimage_dataset_from_directory\u001b[0;34m(directory, labels, label_mode, class_names, color_mode, batch_size, image_size, shuffle, seed, validation_split, subset, interpolation, follow_links, crop_to_aspect_ratio, pad_to_aspect_ratio, data_format, verbose)\u001b[0m\n\u001b[1;32m    327\u001b[0m         )\n\u001b[1;32m    328\u001b[0m         \u001b[0;32mif\u001b[0m \u001b[0;32mnot\u001b[0m \u001b[0mimage_paths\u001b[0m\u001b[0;34m:\u001b[0m\u001b[0;34m\u001b[0m\u001b[0;34m\u001b[0m\u001b[0m\n\u001b[0;32m--> 329\u001b[0;31m             raise ValueError(\n\u001b[0m\u001b[1;32m    330\u001b[0m                 \u001b[0;34mf\"No images found in directory {directory}. \"\u001b[0m\u001b[0;34m\u001b[0m\u001b[0;34m\u001b[0m\u001b[0m\n\u001b[1;32m    331\u001b[0m                 \u001b[0;34mf\"Allowed formats: {ALLOWLIST_FORMATS}\"\u001b[0m\u001b[0;34m\u001b[0m\u001b[0;34m\u001b[0m\u001b[0m\n",
            "\u001b[0;31mValueError\u001b[0m: No images found in directory test/train. Allowed formats: ('.bmp', '.gif', '.jpeg', '.jpg', '.png')"
          ]
        }
      ]
    },
    {
      "cell_type": "code",
      "source": [
        "# p.304 코드 8-10 Dataset이 반환하는 데이터와 레이블 크기 확인하기\n",
        "for data_batch, labels_batch in train_dataset:\n",
        "  print(\"데이터 배치 크기:\", data_batch_shape)\n",
        "  print(\"레이블 배치 크기:\", labels_batch.shape)\n",
        "  break"
      ],
      "metadata": {
        "colab": {
          "base_uri": "https://localhost:8080/",
          "height": 219
        },
        "id": "oZjspnDxzjbU",
        "outputId": "9cd4aaad-668a-478a-a016-6320f4b7d875"
      },
      "execution_count": 29,
      "outputs": [
        {
          "output_type": "error",
          "ename": "NameError",
          "evalue": "name 'train_dataset' is not defined",
          "traceback": [
            "\u001b[0;31m---------------------------------------------------------------------------\u001b[0m",
            "\u001b[0;31mNameError\u001b[0m                                 Traceback (most recent call last)",
            "\u001b[0;32m<ipython-input-29-255f8c92f4cc>\u001b[0m in \u001b[0;36m<cell line: 0>\u001b[0;34m()\u001b[0m\n\u001b[1;32m      1\u001b[0m \u001b[0;31m# p.304 코드 8-10 Dataset이 반환하는 데이터와 레이블 크기 확인하기\u001b[0m\u001b[0;34m\u001b[0m\u001b[0;34m\u001b[0m\u001b[0m\n\u001b[0;32m----> 2\u001b[0;31m \u001b[0;32mfor\u001b[0m \u001b[0mdata_batch\u001b[0m\u001b[0;34m,\u001b[0m \u001b[0mlabels_batch\u001b[0m \u001b[0;32min\u001b[0m \u001b[0mtrain_dataset\u001b[0m\u001b[0;34m:\u001b[0m\u001b[0;34m\u001b[0m\u001b[0;34m\u001b[0m\u001b[0m\n\u001b[0m\u001b[1;32m      3\u001b[0m   \u001b[0mprint\u001b[0m\u001b[0;34m(\u001b[0m\u001b[0;34m\"데이터 배치 크기:\"\u001b[0m\u001b[0;34m,\u001b[0m \u001b[0mdata_batch_shape\u001b[0m\u001b[0;34m)\u001b[0m\u001b[0;34m\u001b[0m\u001b[0;34m\u001b[0m\u001b[0m\n\u001b[1;32m      4\u001b[0m   \u001b[0mprint\u001b[0m\u001b[0;34m(\u001b[0m\u001b[0;34m\"레이블 배치 크기:\"\u001b[0m\u001b[0;34m,\u001b[0m \u001b[0mlabels_batch\u001b[0m\u001b[0;34m.\u001b[0m\u001b[0mshape\u001b[0m\u001b[0;34m)\u001b[0m\u001b[0;34m\u001b[0m\u001b[0;34m\u001b[0m\u001b[0m\n\u001b[1;32m      5\u001b[0m   \u001b[0;32mbreak\u001b[0m\u001b[0;34m\u001b[0m\u001b[0;34m\u001b[0m\u001b[0m\n",
            "\u001b[0;31mNameError\u001b[0m: name 'train_dataset' is not defined"
          ]
        }
      ]
    },
    {
      "cell_type": "code",
      "source": [
        "# p.304 코드 8-11 Dataset을 사용하여 모델 훈련하기\n",
        "callbacks = [\n",
        "    keras.callbacks.ModelCheckpoint(\n",
        "        filepath = \"convert_from_scrach.h5\",\n",
        "        save_best_only = True,\n",
        "        monitor = \"val_loss\")\n",
        "]\n",
        "\n",
        "history = model.fit(\n",
        "    train_dataset,\n",
        "    epochs = 30,\n",
        "    validation_data = validation_dataset,\n",
        "    callbacks = callbacks\n",
        ")"
      ],
      "metadata": {
        "colab": {
          "base_uri": "https://localhost:8080/",
          "height": 219
        },
        "id": "OVJ_LEIFz7p-",
        "outputId": "417f7501-4e74-4bc3-a698-773de5426675"
      },
      "execution_count": 30,
      "outputs": [
        {
          "output_type": "error",
          "ename": "NameError",
          "evalue": "name 'train_dataset' is not defined",
          "traceback": [
            "\u001b[0;31m---------------------------------------------------------------------------\u001b[0m",
            "\u001b[0;31mNameError\u001b[0m                                 Traceback (most recent call last)",
            "\u001b[0;32m<ipython-input-30-c232e5791c8e>\u001b[0m in \u001b[0;36m<cell line: 0>\u001b[0;34m()\u001b[0m\n\u001b[1;32m      8\u001b[0m \u001b[0;34m\u001b[0m\u001b[0m\n\u001b[1;32m      9\u001b[0m history = model.fit(\n\u001b[0;32m---> 10\u001b[0;31m     \u001b[0mtrain_dataset\u001b[0m\u001b[0;34m,\u001b[0m\u001b[0;34m\u001b[0m\u001b[0;34m\u001b[0m\u001b[0m\n\u001b[0m\u001b[1;32m     11\u001b[0m     \u001b[0mepochs\u001b[0m \u001b[0;34m=\u001b[0m \u001b[0;36m30\u001b[0m\u001b[0;34m,\u001b[0m\u001b[0;34m\u001b[0m\u001b[0;34m\u001b[0m\u001b[0m\n\u001b[1;32m     12\u001b[0m     \u001b[0mvalidation_data\u001b[0m \u001b[0;34m=\u001b[0m \u001b[0mvalidation_dataset\u001b[0m\u001b[0;34m,\u001b[0m\u001b[0;34m\u001b[0m\u001b[0;34m\u001b[0m\u001b[0m\n",
            "\u001b[0;31mNameError\u001b[0m: name 'train_dataset' is not defined"
          ]
        }
      ]
    },
    {
      "cell_type": "code",
      "source": [
        "# p.305 코드 8-12 훈련 과정의 정확도와 손실 그래프 그리기\n",
        "import matplotlib.pyplot as plt\n",
        "\n",
        "accuracy = history.history[\"accuracy\"]\n",
        "val_accuracy = history.history[\"val_accuracy\"]\n",
        "loss = history.history[\"loss\"]\n",
        "val_loss = history.history[\"val_loss\"]\n",
        "epochs = range(1, len(accuracy) + 1)\n",
        "\n",
        "plt.plot(epochs, accuracy, \"bo\", label=\"Training accuracy\")\n",
        "plt.plot(epochs, val_accuracy, \"b\", label=\"Validation accuracy\")\n",
        "plt.title(\"Training and validation accuracy\")\n",
        "plt.legend()\n",
        "plt.figure()\n",
        "plt.plot(epochs, loss, \"bo\", label=\"Training loss\")\n",
        "plt.plot(epochs, val_loss, \"b\", label=\"Validation loss\")\n",
        "plt.title(\"Training and validation loss\")\n",
        "plt.legend()\n",
        "plt.show()"
      ],
      "metadata": {
        "colab": {
          "base_uri": "https://localhost:8080/",
          "height": 219
        },
        "id": "BbWjvzPN0l0t",
        "outputId": "bf0c8523-73ac-48b9-ebfd-6937a040e3cd"
      },
      "execution_count": 31,
      "outputs": [
        {
          "output_type": "error",
          "ename": "NameError",
          "evalue": "name 'history' is not defined",
          "traceback": [
            "\u001b[0;31m---------------------------------------------------------------------------\u001b[0m",
            "\u001b[0;31mNameError\u001b[0m                                 Traceback (most recent call last)",
            "\u001b[0;32m<ipython-input-31-18c32883d1ea>\u001b[0m in \u001b[0;36m<cell line: 0>\u001b[0;34m()\u001b[0m\n\u001b[1;32m      1\u001b[0m \u001b[0;31m# p.305 코드 8-12 훈련 과정의 정확도와 손실 그래프 그리기\u001b[0m\u001b[0;34m\u001b[0m\u001b[0;34m\u001b[0m\u001b[0m\n\u001b[1;32m      2\u001b[0m \u001b[0;32mimport\u001b[0m \u001b[0mmatplotlib\u001b[0m\u001b[0;34m.\u001b[0m\u001b[0mpyplot\u001b[0m \u001b[0;32mas\u001b[0m \u001b[0mplt\u001b[0m\u001b[0;34m\u001b[0m\u001b[0;34m\u001b[0m\u001b[0m\n\u001b[0;32m----> 3\u001b[0;31m \u001b[0maccuracy\u001b[0m \u001b[0;34m=\u001b[0m \u001b[0mhistory\u001b[0m\u001b[0;34m.\u001b[0m\u001b[0mhistory\u001b[0m\u001b[0;34m[\u001b[0m\u001b[0;34m\"accuracy\"\u001b[0m\u001b[0;34m]\u001b[0m\u001b[0;34m\u001b[0m\u001b[0;34m\u001b[0m\u001b[0m\n\u001b[0m\u001b[1;32m      4\u001b[0m \u001b[0mval_accuracy\u001b[0m \u001b[0;34m=\u001b[0m \u001b[0mhistory\u001b[0m\u001b[0;34m.\u001b[0m\u001b[0mhistory\u001b[0m\u001b[0;34m[\u001b[0m\u001b[0;34m\"val_accuracy\"\u001b[0m\u001b[0;34m]\u001b[0m\u001b[0;34m\u001b[0m\u001b[0;34m\u001b[0m\u001b[0m\n\u001b[1;32m      5\u001b[0m \u001b[0mloss\u001b[0m \u001b[0;34m=\u001b[0m \u001b[0mhistory\u001b[0m\u001b[0;34m.\u001b[0m\u001b[0mhistory\u001b[0m\u001b[0;34m[\u001b[0m\u001b[0;34m\"loss\"\u001b[0m\u001b[0;34m]\u001b[0m\u001b[0;34m\u001b[0m\u001b[0;34m\u001b[0m\u001b[0m\n",
            "\u001b[0;31mNameError\u001b[0m: name 'history' is not defined"
          ]
        }
      ]
    },
    {
      "cell_type": "code",
      "source": [
        "# p.306 코드 8-13 테스트 세트에서 모델 평가하기\n",
        "test_model = keras.models.load_model(\"convnet_from_scratch.keras\")\n",
        "test_loss, test_acc = test_model.evaluate(test_dataset)\n",
        "print(f\"Test accuracy: {test_acc:.3f}\")"
      ],
      "metadata": {
        "colab": {
          "base_uri": "https://localhost:8080/",
          "height": 327
        },
        "id": "knf9xGxS1S2w",
        "outputId": "14b52b60-8dff-455b-d719-46f7f356e677"
      },
      "execution_count": 32,
      "outputs": [
        {
          "output_type": "error",
          "ename": "ValueError",
          "evalue": "File not found: filepath=convnet_from_scratch.keras. Please ensure the file is an accessible `.keras` zip file.",
          "traceback": [
            "\u001b[0;31m---------------------------------------------------------------------------\u001b[0m",
            "\u001b[0;31mValueError\u001b[0m                                Traceback (most recent call last)",
            "\u001b[0;32m<ipython-input-32-b655a56d9556>\u001b[0m in \u001b[0;36m<cell line: 0>\u001b[0;34m()\u001b[0m\n\u001b[1;32m      1\u001b[0m \u001b[0;31m# p.306 코드 8-13 테스트 세트에서 모델 평가하기\u001b[0m\u001b[0;34m\u001b[0m\u001b[0;34m\u001b[0m\u001b[0m\n\u001b[0;32m----> 2\u001b[0;31m \u001b[0mtest_model\u001b[0m \u001b[0;34m=\u001b[0m \u001b[0mkeras\u001b[0m\u001b[0;34m.\u001b[0m\u001b[0mmodels\u001b[0m\u001b[0;34m.\u001b[0m\u001b[0mload_model\u001b[0m\u001b[0;34m(\u001b[0m\u001b[0;34m\"convnet_from_scratch.keras\"\u001b[0m\u001b[0;34m)\u001b[0m\u001b[0;34m\u001b[0m\u001b[0;34m\u001b[0m\u001b[0m\n\u001b[0m\u001b[1;32m      3\u001b[0m \u001b[0mtest_loss\u001b[0m\u001b[0;34m,\u001b[0m \u001b[0mtest_acc\u001b[0m \u001b[0;34m=\u001b[0m \u001b[0mtest_model\u001b[0m\u001b[0;34m.\u001b[0m\u001b[0mevaluate\u001b[0m\u001b[0;34m(\u001b[0m\u001b[0mtest_dataset\u001b[0m\u001b[0;34m)\u001b[0m\u001b[0;34m\u001b[0m\u001b[0;34m\u001b[0m\u001b[0m\n\u001b[1;32m      4\u001b[0m \u001b[0mprint\u001b[0m\u001b[0;34m(\u001b[0m\u001b[0;34mf\"Test accuracy: {test_acc:.3f}\"\u001b[0m\u001b[0;34m)\u001b[0m\u001b[0;34m\u001b[0m\u001b[0;34m\u001b[0m\u001b[0m\n",
            "\u001b[0;32m/usr/local/lib/python3.11/dist-packages/keras/src/saving/saving_api.py\u001b[0m in \u001b[0;36mload_model\u001b[0;34m(filepath, custom_objects, compile, safe_mode)\u001b[0m\n\u001b[1;32m    198\u001b[0m         )\n\u001b[1;32m    199\u001b[0m     \u001b[0;32melif\u001b[0m \u001b[0mstr\u001b[0m\u001b[0;34m(\u001b[0m\u001b[0mfilepath\u001b[0m\u001b[0;34m)\u001b[0m\u001b[0;34m.\u001b[0m\u001b[0mendswith\u001b[0m\u001b[0;34m(\u001b[0m\u001b[0;34m\".keras\"\u001b[0m\u001b[0;34m)\u001b[0m\u001b[0;34m:\u001b[0m\u001b[0;34m\u001b[0m\u001b[0;34m\u001b[0m\u001b[0m\n\u001b[0;32m--> 200\u001b[0;31m         raise ValueError(\n\u001b[0m\u001b[1;32m    201\u001b[0m             \u001b[0;34mf\"File not found: filepath={filepath}. \"\u001b[0m\u001b[0;34m\u001b[0m\u001b[0;34m\u001b[0m\u001b[0m\n\u001b[1;32m    202\u001b[0m             \u001b[0;34m\"Please ensure the file is an accessible `.keras` \"\u001b[0m\u001b[0;34m\u001b[0m\u001b[0;34m\u001b[0m\u001b[0m\n",
            "\u001b[0;31mValueError\u001b[0m: File not found: filepath=convnet_from_scratch.keras. Please ensure the file is an accessible `.keras` zip file."
          ]
        }
      ]
    },
    {
      "cell_type": "code",
      "source": [
        "# p.307 코드 8-14 컨브넷에 추가할 데이터 증식 단계 정의하기\n",
        "data_augmentation = keras.Sequential(\n",
        "    [\n",
        "        layers.RandomFlip(\"horizontal\"),\n",
        "        layers.RandomRotation(0.1),\n",
        "        layers.RandomZoom(0.2),\n",
        "    ]\n",
        ")"
      ],
      "metadata": {
        "id": "35-tug7w3daR"
      },
      "execution_count": 33,
      "outputs": []
    },
    {
      "cell_type": "code",
      "source": [
        "# p.307 코드 8-15 랜덤하게 증식된 훈련 이미지 출력하기\n",
        "plt.figure(figsize=(10, 10))\n",
        "for images, _ in train_dataset.take(1):\n",
        "    for i in range(9):\n",
        "        augmented_images = data_augmentation(images)\n",
        "        ax = plt.subplot(3, 3, i + 1)\n",
        "        plt.imshow(augmented_images[0].numpy().astype(\"uint8\"))\n",
        "        plt.axis(\"off\")"
      ],
      "metadata": {
        "colab": {
          "base_uri": "https://localhost:8080/",
          "height": 237
        },
        "id": "8FDPCGef3ygC",
        "outputId": "75067bc4-abca-4f7b-c830-77ec4b46c8a2"
      },
      "execution_count": 34,
      "outputs": [
        {
          "output_type": "error",
          "ename": "NameError",
          "evalue": "name 'train_dataset' is not defined",
          "traceback": [
            "\u001b[0;31m---------------------------------------------------------------------------\u001b[0m",
            "\u001b[0;31mNameError\u001b[0m                                 Traceback (most recent call last)",
            "\u001b[0;32m<ipython-input-34-f6a3e7281af9>\u001b[0m in \u001b[0;36m<cell line: 0>\u001b[0;34m()\u001b[0m\n\u001b[1;32m      1\u001b[0m \u001b[0;31m# p.307 코드 8-15 랜덤하게 증식된 훈련 이미지 출력하기\u001b[0m\u001b[0;34m\u001b[0m\u001b[0;34m\u001b[0m\u001b[0m\n\u001b[1;32m      2\u001b[0m \u001b[0mplt\u001b[0m\u001b[0;34m.\u001b[0m\u001b[0mfigure\u001b[0m\u001b[0;34m(\u001b[0m\u001b[0mfigsize\u001b[0m\u001b[0;34m=\u001b[0m\u001b[0;34m(\u001b[0m\u001b[0;36m10\u001b[0m\u001b[0;34m,\u001b[0m \u001b[0;36m10\u001b[0m\u001b[0;34m)\u001b[0m\u001b[0;34m)\u001b[0m\u001b[0;34m\u001b[0m\u001b[0;34m\u001b[0m\u001b[0m\n\u001b[0;32m----> 3\u001b[0;31m \u001b[0;32mfor\u001b[0m \u001b[0mimages\u001b[0m\u001b[0;34m,\u001b[0m \u001b[0m_\u001b[0m \u001b[0;32min\u001b[0m \u001b[0mtrain_dataset\u001b[0m\u001b[0;34m.\u001b[0m\u001b[0mtake\u001b[0m\u001b[0;34m(\u001b[0m\u001b[0;36m1\u001b[0m\u001b[0;34m)\u001b[0m\u001b[0;34m:\u001b[0m\u001b[0;34m\u001b[0m\u001b[0;34m\u001b[0m\u001b[0m\n\u001b[0m\u001b[1;32m      4\u001b[0m     \u001b[0;32mfor\u001b[0m \u001b[0mi\u001b[0m \u001b[0;32min\u001b[0m \u001b[0mrange\u001b[0m\u001b[0;34m(\u001b[0m\u001b[0;36m9\u001b[0m\u001b[0;34m)\u001b[0m\u001b[0;34m:\u001b[0m\u001b[0;34m\u001b[0m\u001b[0;34m\u001b[0m\u001b[0m\n\u001b[1;32m      5\u001b[0m         \u001b[0maugmented_images\u001b[0m \u001b[0;34m=\u001b[0m \u001b[0mdata_augmentation\u001b[0m\u001b[0;34m(\u001b[0m\u001b[0mimages\u001b[0m\u001b[0;34m)\u001b[0m\u001b[0;34m\u001b[0m\u001b[0;34m\u001b[0m\u001b[0m\n",
            "\u001b[0;31mNameError\u001b[0m: name 'train_dataset' is not defined"
          ]
        },
        {
          "output_type": "display_data",
          "data": {
            "text/plain": [
              "<Figure size 1000x1000 with 0 Axes>"
            ]
          },
          "metadata": {}
        }
      ]
    },
    {
      "cell_type": "code",
      "source": [
        "# p.309 이미지 증식과 드롭아웃을 포함한 컨브넷 만들기\n",
        "inputs = keras.Input(shape=(180, 180, 3))\n",
        "x = data_augmentation(inputs)\n",
        "x = layers.Rescaling(1./255)(x)\n",
        "x = layers.Conv2D(filters=32, kernel_size=3, activation=\"relu\")(x)\n",
        "x = layers.MaxPooling2D(pool_size=2)(x)\n",
        "x = layers.Conv2D(filters=64, kernel_size=3, activation=\"relu\")(x)\n",
        "x = layers.MaxPooling2D(pool_size=2)(x)\n",
        "x = layers.Conv2D(filters=128, kernel_size=3, activation=\"relu\")(x)\n",
        "x = layers.MaxPooling2D(pool_size=2)(x)\n",
        "x = layers.Conv2D(filters=256, kernel_size=3, activation=\"relu\")(x)\n",
        "x = layers.MaxPooling2D(pool_size=2)(x)\n",
        "x = layers.Conv2D(filters=256, kernel_size=3, activation=\"relu\")(x)\n",
        "x = layers.Flatten()(x)\n",
        "x = layers.Dropout(0.5)(x)\n",
        "outputs = layers.Dense(1, activation=\"sigmoid\")(x)\n",
        "model = keras.Model(inputs=inputs, outputs=outputs)\n",
        "\n",
        "model.compile(loss=\"binary_crossentropy\",\n",
        "              optimizer=\"rmsprop\",\n",
        "              metrics=[\"accuracy\"])"
      ],
      "metadata": {
        "id": "fSsUI-V038fk"
      },
      "execution_count": 35,
      "outputs": []
    },
    {
      "cell_type": "code",
      "source": [
        "# p.309 코드 8-17 규제를 추가한 컨브넷 훈련하기\n",
        "callbacks = [\n",
        "    keras.callbacks.ModelCheckpoint(\n",
        "        filepath=\"convnet_from_scratch_with_augmentation.keras\",\n",
        "        save_best_only=True,\n",
        "        monitor=\"val_loss\")\n",
        "]\n",
        "history = model.fit(\n",
        "    train_dataset,\n",
        "    epochs=100,\n",
        "    validation_data=validation_dataset,\n",
        "    callbacks=callbacks)"
      ],
      "metadata": {
        "colab": {
          "base_uri": "https://localhost:8080/",
          "height": 219
        },
        "id": "vrjNgLHp4Kvg",
        "outputId": "086562ea-c203-481a-c155-287ff7691ea1"
      },
      "execution_count": 36,
      "outputs": [
        {
          "output_type": "error",
          "ename": "NameError",
          "evalue": "name 'train_dataset' is not defined",
          "traceback": [
            "\u001b[0;31m---------------------------------------------------------------------------\u001b[0m",
            "\u001b[0;31mNameError\u001b[0m                                 Traceback (most recent call last)",
            "\u001b[0;32m<ipython-input-36-9e5194ae9a2c>\u001b[0m in \u001b[0;36m<cell line: 0>\u001b[0;34m()\u001b[0m\n\u001b[1;32m      7\u001b[0m ]\n\u001b[1;32m      8\u001b[0m history = model.fit(\n\u001b[0;32m----> 9\u001b[0;31m     \u001b[0mtrain_dataset\u001b[0m\u001b[0;34m,\u001b[0m\u001b[0;34m\u001b[0m\u001b[0;34m\u001b[0m\u001b[0m\n\u001b[0m\u001b[1;32m     10\u001b[0m     \u001b[0mepochs\u001b[0m\u001b[0;34m=\u001b[0m\u001b[0;36m100\u001b[0m\u001b[0;34m,\u001b[0m\u001b[0;34m\u001b[0m\u001b[0;34m\u001b[0m\u001b[0m\n\u001b[1;32m     11\u001b[0m     \u001b[0mvalidation_data\u001b[0m\u001b[0;34m=\u001b[0m\u001b[0mvalidation_dataset\u001b[0m\u001b[0;34m,\u001b[0m\u001b[0;34m\u001b[0m\u001b[0;34m\u001b[0m\u001b[0m\n",
            "\u001b[0;31mNameError\u001b[0m: name 'train_dataset' is not defined"
          ]
        }
      ]
    },
    {
      "cell_type": "code",
      "source": [
        "# p.310 코드 8-18 테스트 세트에서 모델 훈련하기\n",
        "test_model = keras.models.load_model(\n",
        "    \"convnet_from_scratch_with_augmentation.keras\")\n",
        "test_loss, test_acc = test_model.evaluate(test_dataset)\n",
        "print(f\"Test accuracy: {test_acc:.3f}\")"
      ],
      "metadata": {
        "colab": {
          "base_uri": "https://localhost:8080/",
          "height": 346
        },
        "id": "sTIyGMui4S8b",
        "outputId": "c74aa000-7b26-449e-8ec3-4a40b9320de6"
      },
      "execution_count": 37,
      "outputs": [
        {
          "output_type": "error",
          "ename": "ValueError",
          "evalue": "File not found: filepath=convnet_from_scratch_with_augmentation.keras. Please ensure the file is an accessible `.keras` zip file.",
          "traceback": [
            "\u001b[0;31m---------------------------------------------------------------------------\u001b[0m",
            "\u001b[0;31mValueError\u001b[0m                                Traceback (most recent call last)",
            "\u001b[0;32m<ipython-input-37-aa68b04fa756>\u001b[0m in \u001b[0;36m<cell line: 0>\u001b[0;34m()\u001b[0m\n\u001b[1;32m      1\u001b[0m \u001b[0;31m# p.310 코드 8-18 테스트 세트에서 모델 훈련하기\u001b[0m\u001b[0;34m\u001b[0m\u001b[0;34m\u001b[0m\u001b[0m\n\u001b[0;32m----> 2\u001b[0;31m test_model = keras.models.load_model(\n\u001b[0m\u001b[1;32m      3\u001b[0m     \"convnet_from_scratch_with_augmentation.keras\")\n\u001b[1;32m      4\u001b[0m \u001b[0mtest_loss\u001b[0m\u001b[0;34m,\u001b[0m \u001b[0mtest_acc\u001b[0m \u001b[0;34m=\u001b[0m \u001b[0mtest_model\u001b[0m\u001b[0;34m.\u001b[0m\u001b[0mevaluate\u001b[0m\u001b[0;34m(\u001b[0m\u001b[0mtest_dataset\u001b[0m\u001b[0;34m)\u001b[0m\u001b[0;34m\u001b[0m\u001b[0;34m\u001b[0m\u001b[0m\n\u001b[1;32m      5\u001b[0m \u001b[0mprint\u001b[0m\u001b[0;34m(\u001b[0m\u001b[0;34mf\"Test accuracy: {test_acc:.3f}\"\u001b[0m\u001b[0;34m)\u001b[0m\u001b[0;34m\u001b[0m\u001b[0;34m\u001b[0m\u001b[0m\n",
            "\u001b[0;32m/usr/local/lib/python3.11/dist-packages/keras/src/saving/saving_api.py\u001b[0m in \u001b[0;36mload_model\u001b[0;34m(filepath, custom_objects, compile, safe_mode)\u001b[0m\n\u001b[1;32m    198\u001b[0m         )\n\u001b[1;32m    199\u001b[0m     \u001b[0;32melif\u001b[0m \u001b[0mstr\u001b[0m\u001b[0;34m(\u001b[0m\u001b[0mfilepath\u001b[0m\u001b[0;34m)\u001b[0m\u001b[0;34m.\u001b[0m\u001b[0mendswith\u001b[0m\u001b[0;34m(\u001b[0m\u001b[0;34m\".keras\"\u001b[0m\u001b[0;34m)\u001b[0m\u001b[0;34m:\u001b[0m\u001b[0;34m\u001b[0m\u001b[0;34m\u001b[0m\u001b[0m\n\u001b[0;32m--> 200\u001b[0;31m         raise ValueError(\n\u001b[0m\u001b[1;32m    201\u001b[0m             \u001b[0;34mf\"File not found: filepath={filepath}. \"\u001b[0m\u001b[0;34m\u001b[0m\u001b[0;34m\u001b[0m\u001b[0m\n\u001b[1;32m    202\u001b[0m             \u001b[0;34m\"Please ensure the file is an accessible `.keras` \"\u001b[0m\u001b[0;34m\u001b[0m\u001b[0;34m\u001b[0m\u001b[0m\n",
            "\u001b[0;31mValueError\u001b[0m: File not found: filepath=convnet_from_scratch_with_augmentation.keras. Please ensure the file is an accessible `.keras` zip file."
          ]
        }
      ]
    },
    {
      "cell_type": "code",
      "source": [
        "# p.313 코드 8-19 VGG16 합성곱 기반 층 만들기\n",
        "conv_base = keras.applications.vgg16.VGG16(\n",
        "    weights=\"imagenet\",\n",
        "    include_top=False,\n",
        "    input_shape=(180, 180, 3))"
      ],
      "metadata": {
        "colab": {
          "base_uri": "https://localhost:8080/"
        },
        "id": "sgx-B-aC5HOm",
        "outputId": "89bf4578-9386-4ae7-d17f-4af520eeb249"
      },
      "execution_count": 38,
      "outputs": [
        {
          "output_type": "stream",
          "name": "stdout",
          "text": [
            "Downloading data from https://storage.googleapis.com/tensorflow/keras-applications/vgg16/vgg16_weights_tf_dim_ordering_tf_kernels_notop.h5\n",
            "\u001b[1m58889256/58889256\u001b[0m \u001b[32m━━━━━━━━━━━━━━━━━━━━\u001b[0m\u001b[37m\u001b[0m \u001b[1m0s\u001b[0m 0us/step\n"
          ]
        }
      ]
    },
    {
      "cell_type": "code",
      "source": [
        "# 데이터 증식을 사용하지 않는 빠른 특성 추출\n",
        "# p.316 코드 8-20 VGG16 특성과 해당 레이블 추출하기\n",
        "import numpy as np\n",
        "\n",
        "def get_features_and_labels(dataset):\n",
        "    all_features = []\n",
        "    all_labels = []\n",
        "    for images, labels in dataset:\n",
        "        preprocessed_images = keras.applications.vgg16.preprocess_input(images)\n",
        "        features = conv_base.predict(preprocessed_images)\n",
        "        all_features.append(features)\n",
        "        all_labels.append(labels)\n",
        "    return np.concatenate(all_features), np.concatenate(all_labels)\n",
        "\n",
        "train_features, train_labels =  get_features_and_labels(train_dataset)\n",
        "val_features, val_labels =  get_features_and_labels(validation_dataset)\n",
        "test_features, test_labels =  get_features_and_labels(test_dataset)"
      ],
      "metadata": {
        "colab": {
          "base_uri": "https://localhost:8080/",
          "height": 219
        },
        "id": "Ko2Rda1A5kqr",
        "outputId": "dbddfae6-a3c7-40e8-f9cf-1ff60845ce0e"
      },
      "execution_count": 39,
      "outputs": [
        {
          "output_type": "error",
          "ename": "NameError",
          "evalue": "name 'train_dataset' is not defined",
          "traceback": [
            "\u001b[0;31m---------------------------------------------------------------------------\u001b[0m",
            "\u001b[0;31mNameError\u001b[0m                                 Traceback (most recent call last)",
            "\u001b[0;32m<ipython-input-39-75057edd4c3b>\u001b[0m in \u001b[0;36m<cell line: 0>\u001b[0;34m()\u001b[0m\n\u001b[1;32m     13\u001b[0m     \u001b[0;32mreturn\u001b[0m \u001b[0mnp\u001b[0m\u001b[0;34m.\u001b[0m\u001b[0mconcatenate\u001b[0m\u001b[0;34m(\u001b[0m\u001b[0mall_features\u001b[0m\u001b[0;34m)\u001b[0m\u001b[0;34m,\u001b[0m \u001b[0mnp\u001b[0m\u001b[0;34m.\u001b[0m\u001b[0mconcatenate\u001b[0m\u001b[0;34m(\u001b[0m\u001b[0mall_labels\u001b[0m\u001b[0;34m)\u001b[0m\u001b[0;34m\u001b[0m\u001b[0;34m\u001b[0m\u001b[0m\n\u001b[1;32m     14\u001b[0m \u001b[0;34m\u001b[0m\u001b[0m\n\u001b[0;32m---> 15\u001b[0;31m \u001b[0mtrain_features\u001b[0m\u001b[0;34m,\u001b[0m \u001b[0mtrain_labels\u001b[0m \u001b[0;34m=\u001b[0m  \u001b[0mget_features_and_labels\u001b[0m\u001b[0;34m(\u001b[0m\u001b[0mtrain_dataset\u001b[0m\u001b[0;34m)\u001b[0m\u001b[0;34m\u001b[0m\u001b[0;34m\u001b[0m\u001b[0m\n\u001b[0m\u001b[1;32m     16\u001b[0m \u001b[0mval_features\u001b[0m\u001b[0;34m,\u001b[0m \u001b[0mval_labels\u001b[0m \u001b[0;34m=\u001b[0m  \u001b[0mget_features_and_labels\u001b[0m\u001b[0;34m(\u001b[0m\u001b[0mvalidation_dataset\u001b[0m\u001b[0;34m)\u001b[0m\u001b[0;34m\u001b[0m\u001b[0;34m\u001b[0m\u001b[0m\n\u001b[1;32m     17\u001b[0m \u001b[0mtest_features\u001b[0m\u001b[0;34m,\u001b[0m \u001b[0mtest_labels\u001b[0m \u001b[0;34m=\u001b[0m  \u001b[0mget_features_and_labels\u001b[0m\u001b[0;34m(\u001b[0m\u001b[0mtest_dataset\u001b[0m\u001b[0;34m)\u001b[0m\u001b[0;34m\u001b[0m\u001b[0;34m\u001b[0m\u001b[0m\n",
            "\u001b[0;31mNameError\u001b[0m: name 'train_dataset' is not defined"
          ]
        }
      ]
    },
    {
      "cell_type": "code",
      "source": [
        "# p.317 코드 8-21 밀집 연결 분류기 정의하고 훈련하기\n",
        "inputs = keras.Input(shape=(5, 5, 512))\n",
        "x = layers.Flatten()(inputs)\n",
        "x = layers.Dense(256)(x)\n",
        "x = layers.Dropout(0.5)(x)\n",
        "outputs = layers.Dense(1, activation=\"sigmoid\")(x)\n",
        "model = keras.Model(inputs, outputs)\n",
        "model.compile(loss=\"binary_crossentropy\",\n",
        "              optimizer=\"rmsprop\",\n",
        "              metrics=[\"accuracy\"])\n",
        "\n",
        "callbacks = [\n",
        "    keras.callbacks.ModelCheckpoint(\n",
        "      filepath=\"feature_extraction.keras\",\n",
        "      save_best_only=True,\n",
        "      monitor=\"val_loss\")\n",
        "]\n",
        "history = model.fit(\n",
        "    train_features, train_labels,\n",
        "    epochs=20,\n",
        "    validation_data=(val_features, val_labels),\n",
        "    callbacks=callbacks)"
      ],
      "metadata": {
        "colab": {
          "base_uri": "https://localhost:8080/",
          "height": 219
        },
        "id": "QLrGknWt50Pk",
        "outputId": "1388c1e3-e805-4d2f-db04-6d85f873169b"
      },
      "execution_count": 40,
      "outputs": [
        {
          "output_type": "error",
          "ename": "NameError",
          "evalue": "name 'train_features' is not defined",
          "traceback": [
            "\u001b[0;31m---------------------------------------------------------------------------\u001b[0m",
            "\u001b[0;31mNameError\u001b[0m                                 Traceback (most recent call last)",
            "\u001b[0;32m<ipython-input-40-9c4ba605e68d>\u001b[0m in \u001b[0;36m<cell line: 0>\u001b[0;34m()\u001b[0m\n\u001b[1;32m     17\u001b[0m ]\n\u001b[1;32m     18\u001b[0m history = model.fit(\n\u001b[0;32m---> 19\u001b[0;31m     \u001b[0mtrain_features\u001b[0m\u001b[0;34m,\u001b[0m \u001b[0mtrain_labels\u001b[0m\u001b[0;34m,\u001b[0m\u001b[0;34m\u001b[0m\u001b[0;34m\u001b[0m\u001b[0m\n\u001b[0m\u001b[1;32m     20\u001b[0m     \u001b[0mepochs\u001b[0m\u001b[0;34m=\u001b[0m\u001b[0;36m20\u001b[0m\u001b[0;34m,\u001b[0m\u001b[0;34m\u001b[0m\u001b[0;34m\u001b[0m\u001b[0m\n\u001b[1;32m     21\u001b[0m     \u001b[0mvalidation_data\u001b[0m\u001b[0;34m=\u001b[0m\u001b[0;34m(\u001b[0m\u001b[0mval_features\u001b[0m\u001b[0;34m,\u001b[0m \u001b[0mval_labels\u001b[0m\u001b[0;34m)\u001b[0m\u001b[0;34m,\u001b[0m\u001b[0;34m\u001b[0m\u001b[0;34m\u001b[0m\u001b[0m\n",
            "\u001b[0;31mNameError\u001b[0m: name 'train_features' is not defined"
          ]
        }
      ]
    },
    {
      "cell_type": "code",
      "source": [
        "# p.318 코드 8-22 결과를 그래프로 나타내기\n",
        "import matplotlib.pyplot as plt\n",
        "acc = history.history[\"accuracy\"]\n",
        "val_acc = history.history[\"val_accuracy\"]\n",
        "loss = history.history[\"loss\"]\n",
        "val_loss = history.history[\"val_loss\"]\n",
        "epochs = range(1, len(acc) + 1)\n",
        "plt.plot(epochs, acc, \"bo\", label=\"Training accuracy\")\n",
        "plt.plot(epochs, val_acc, \"b\", label=\"Validation accuracy\")\n",
        "plt.title(\"Training and validation accuracy\")\n",
        "plt.legend()\n",
        "plt.figure()\n",
        "plt.plot(epochs, loss, \"bo\", label=\"Training loss\")\n",
        "plt.plot(epochs, val_loss, \"b\", label=\"Validation loss\")\n",
        "plt.title(\"Training and validation loss\")\n",
        "plt.legend()\n",
        "plt.show()"
      ],
      "metadata": {
        "colab": {
          "base_uri": "https://localhost:8080/",
          "height": 219
        },
        "id": "Z-Bm_4uD5-5Q",
        "outputId": "c82628ca-0ec0-451b-9e4a-c8a8349c40ce"
      },
      "execution_count": 41,
      "outputs": [
        {
          "output_type": "error",
          "ename": "NameError",
          "evalue": "name 'history' is not defined",
          "traceback": [
            "\u001b[0;31m---------------------------------------------------------------------------\u001b[0m",
            "\u001b[0;31mNameError\u001b[0m                                 Traceback (most recent call last)",
            "\u001b[0;32m<ipython-input-41-e66a4355150e>\u001b[0m in \u001b[0;36m<cell line: 0>\u001b[0;34m()\u001b[0m\n\u001b[1;32m      1\u001b[0m \u001b[0;31m# p.318 결과를 그래프로 나타내기\u001b[0m\u001b[0;34m\u001b[0m\u001b[0;34m\u001b[0m\u001b[0m\n\u001b[1;32m      2\u001b[0m \u001b[0;32mimport\u001b[0m \u001b[0mmatplotlib\u001b[0m\u001b[0;34m.\u001b[0m\u001b[0mpyplot\u001b[0m \u001b[0;32mas\u001b[0m \u001b[0mplt\u001b[0m\u001b[0;34m\u001b[0m\u001b[0;34m\u001b[0m\u001b[0m\n\u001b[0;32m----> 3\u001b[0;31m \u001b[0macc\u001b[0m \u001b[0;34m=\u001b[0m \u001b[0mhistory\u001b[0m\u001b[0;34m.\u001b[0m\u001b[0mhistory\u001b[0m\u001b[0;34m[\u001b[0m\u001b[0;34m\"accuracy\"\u001b[0m\u001b[0;34m]\u001b[0m\u001b[0;34m\u001b[0m\u001b[0;34m\u001b[0m\u001b[0m\n\u001b[0m\u001b[1;32m      4\u001b[0m \u001b[0mval_acc\u001b[0m \u001b[0;34m=\u001b[0m \u001b[0mhistory\u001b[0m\u001b[0;34m.\u001b[0m\u001b[0mhistory\u001b[0m\u001b[0;34m[\u001b[0m\u001b[0;34m\"val_accuracy\"\u001b[0m\u001b[0;34m]\u001b[0m\u001b[0;34m\u001b[0m\u001b[0;34m\u001b[0m\u001b[0m\n\u001b[1;32m      5\u001b[0m \u001b[0mloss\u001b[0m \u001b[0;34m=\u001b[0m \u001b[0mhistory\u001b[0m\u001b[0;34m.\u001b[0m\u001b[0mhistory\u001b[0m\u001b[0;34m[\u001b[0m\u001b[0;34m\"loss\"\u001b[0m\u001b[0;34m]\u001b[0m\u001b[0;34m\u001b[0m\u001b[0;34m\u001b[0m\u001b[0m\n",
            "\u001b[0;31mNameError\u001b[0m: name 'history' is not defined"
          ]
        }
      ]
    },
    {
      "cell_type": "code",
      "source": [
        "# p.319 코드 8-23 VGG16 합성곱 기반 층을 만들고 동결하기\n",
        "conv_base  = keras.applications.vgg16.VGG16(\n",
        "    weights=\"imagenet\",\n",
        "    include_top=False)\n",
        "conv_base.trainable = False"
      ],
      "metadata": {
        "id": "N2c76HL-6c6S"
      },
      "execution_count": 42,
      "outputs": []
    },
    {
      "cell_type": "code",
      "source": [
        "# p.319 코드 8-24 동결하기 전과 후에 훈련 가능한 가중치 리스트 출력하기\n",
        "conv_base.trainable = True\n",
        "print(\"This is the number of trainable weights \"\n",
        "      \"before freezing the conv base:\", len(conv_base.trainable_weights))\n",
        "conv_base.trainable = False\n",
        "print(\"This is the number of trainable weights \"\n",
        "      \"after freezing the conv base:\", len(conv_base.trainable_weights))"
      ],
      "metadata": {
        "colab": {
          "base_uri": "https://localhost:8080/"
        },
        "id": "5Muk7mY46pQn",
        "outputId": "5141c2fa-cd44-40ce-d9d5-a0e3c9676fe1"
      },
      "execution_count": 43,
      "outputs": [
        {
          "output_type": "stream",
          "name": "stdout",
          "text": [
            "This is the number of trainable weights before freezing the conv base: 26\n",
            "This is the number of trainable weights after freezing the conv base: 0\n"
          ]
        }
      ]
    },
    {
      "cell_type": "code",
      "source": [
        "# p.319 코드 8-25 데이터 증식 단계와 밀집 분류기를 합성곱 기반 층에 추가하기\n",
        "data_augmentation = keras.Sequential(\n",
        "    [\n",
        "        layers.RandomFlip(\"horizontal\"),\n",
        "        layers.RandomRotation(0.1),\n",
        "        layers.RandomZoom(0.2),\n",
        "    ]\n",
        ")\n",
        "\n",
        "inputs = keras.Input(shape=(180, 180, 3))\n",
        "x = data_augmentation(inputs)\n",
        "x = keras.applications.vgg16.preprocess_input(x)\n",
        "x = conv_base(x)\n",
        "x = layers.Flatten()(x)\n",
        "x = layers.Dense(256)(x)\n",
        "x = layers.Dropout(0.5)(x)\n",
        "outputs = layers.Dense(1, activation=\"sigmoid\")(x)\n",
        "model = keras.Model(inputs, outputs)\n",
        "model.compile(loss=\"binary_crossentropy\",\n",
        "              optimizer=\"rmsprop\",\n",
        "              metrics=[\"accuracy\"])"
      ],
      "metadata": {
        "id": "gRJll6Ax6137"
      },
      "execution_count": 44,
      "outputs": []
    },
    {
      "cell_type": "code",
      "source": [
        "callbacks = [\n",
        "    keras.callbacks.ModelCheckpoint(\n",
        "        filepath=\"feature_extraction_with_data_augmentation.keras\",\n",
        "        save_best_only=True,\n",
        "        monitor=\"val_loss\")\n",
        "]\n",
        "history = model.fit(\n",
        "    train_dataset,\n",
        "    epochs=50,\n",
        "    validation_data=validation_dataset,\n",
        "    callbacks=callbacks)"
      ],
      "metadata": {
        "colab": {
          "base_uri": "https://localhost:8080/",
          "height": 219
        },
        "id": "6sYd6be_7UMR",
        "outputId": "9afcc141-1420-4df3-ba05-d02a66b80936"
      },
      "execution_count": 46,
      "outputs": [
        {
          "output_type": "error",
          "ename": "NameError",
          "evalue": "name 'train_dataset' is not defined",
          "traceback": [
            "\u001b[0;31m---------------------------------------------------------------------------\u001b[0m",
            "\u001b[0;31mNameError\u001b[0m                                 Traceback (most recent call last)",
            "\u001b[0;32m<ipython-input-46-8252dca54c73>\u001b[0m in \u001b[0;36m<cell line: 0>\u001b[0;34m()\u001b[0m\n\u001b[1;32m      6\u001b[0m ]\n\u001b[1;32m      7\u001b[0m history = model.fit(\n\u001b[0;32m----> 8\u001b[0;31m     \u001b[0mtrain_dataset\u001b[0m\u001b[0;34m,\u001b[0m\u001b[0;34m\u001b[0m\u001b[0;34m\u001b[0m\u001b[0m\n\u001b[0m\u001b[1;32m      9\u001b[0m     \u001b[0mepochs\u001b[0m\u001b[0;34m=\u001b[0m\u001b[0;36m50\u001b[0m\u001b[0;34m,\u001b[0m\u001b[0;34m\u001b[0m\u001b[0;34m\u001b[0m\u001b[0m\n\u001b[1;32m     10\u001b[0m     \u001b[0mvalidation_data\u001b[0m\u001b[0;34m=\u001b[0m\u001b[0mvalidation_dataset\u001b[0m\u001b[0;34m,\u001b[0m\u001b[0;34m\u001b[0m\u001b[0;34m\u001b[0m\u001b[0m\n",
            "\u001b[0;31mNameError\u001b[0m: name 'train_dataset' is not defined"
          ]
        }
      ]
    },
    {
      "cell_type": "code",
      "source": [
        "# p.321 코드 8-26 테스트 세트에서 모델 평가하기\n",
        "test_model = keras.models.load_model(\n",
        "    \"feature_extraction_with_data_augmentation.keras\")\n",
        "test_loss, test_acc = test_model.evaluate(test_dataset)\n",
        "print(f\"Test accuracy: {test_acc:.3f}\")"
      ],
      "metadata": {
        "colab": {
          "base_uri": "https://localhost:8080/",
          "height": 346
        },
        "id": "RWTT4K3j7Bcs",
        "outputId": "17e86e4f-baf2-4a03-edcd-e7490178d41e"
      },
      "execution_count": 47,
      "outputs": [
        {
          "output_type": "error",
          "ename": "ValueError",
          "evalue": "File not found: filepath=feature_extraction_with_data_augmentation.keras. Please ensure the file is an accessible `.keras` zip file.",
          "traceback": [
            "\u001b[0;31m---------------------------------------------------------------------------\u001b[0m",
            "\u001b[0;31mValueError\u001b[0m                                Traceback (most recent call last)",
            "\u001b[0;32m<ipython-input-47-50988b631e77>\u001b[0m in \u001b[0;36m<cell line: 0>\u001b[0;34m()\u001b[0m\n\u001b[1;32m      1\u001b[0m \u001b[0;31m# p.321 코드 8-26 테스트 세트에서 모델 평가하기\u001b[0m\u001b[0;34m\u001b[0m\u001b[0;34m\u001b[0m\u001b[0m\n\u001b[0;32m----> 2\u001b[0;31m test_model = keras.models.load_model(\n\u001b[0m\u001b[1;32m      3\u001b[0m     \"feature_extraction_with_data_augmentation.keras\")\n\u001b[1;32m      4\u001b[0m \u001b[0mtest_loss\u001b[0m\u001b[0;34m,\u001b[0m \u001b[0mtest_acc\u001b[0m \u001b[0;34m=\u001b[0m \u001b[0mtest_model\u001b[0m\u001b[0;34m.\u001b[0m\u001b[0mevaluate\u001b[0m\u001b[0;34m(\u001b[0m\u001b[0mtest_dataset\u001b[0m\u001b[0;34m)\u001b[0m\u001b[0;34m\u001b[0m\u001b[0;34m\u001b[0m\u001b[0m\n\u001b[1;32m      5\u001b[0m \u001b[0mprint\u001b[0m\u001b[0;34m(\u001b[0m\u001b[0;34mf\"Test accuracy: {test_acc:.3f}\"\u001b[0m\u001b[0;34m)\u001b[0m\u001b[0;34m\u001b[0m\u001b[0;34m\u001b[0m\u001b[0m\n",
            "\u001b[0;32m/usr/local/lib/python3.11/dist-packages/keras/src/saving/saving_api.py\u001b[0m in \u001b[0;36mload_model\u001b[0;34m(filepath, custom_objects, compile, safe_mode)\u001b[0m\n\u001b[1;32m    198\u001b[0m         )\n\u001b[1;32m    199\u001b[0m     \u001b[0;32melif\u001b[0m \u001b[0mstr\u001b[0m\u001b[0;34m(\u001b[0m\u001b[0mfilepath\u001b[0m\u001b[0;34m)\u001b[0m\u001b[0;34m.\u001b[0m\u001b[0mendswith\u001b[0m\u001b[0;34m(\u001b[0m\u001b[0;34m\".keras\"\u001b[0m\u001b[0;34m)\u001b[0m\u001b[0;34m:\u001b[0m\u001b[0;34m\u001b[0m\u001b[0;34m\u001b[0m\u001b[0m\n\u001b[0;32m--> 200\u001b[0;31m         raise ValueError(\n\u001b[0m\u001b[1;32m    201\u001b[0m             \u001b[0;34mf\"File not found: filepath={filepath}. \"\u001b[0m\u001b[0;34m\u001b[0m\u001b[0;34m\u001b[0m\u001b[0m\n\u001b[1;32m    202\u001b[0m             \u001b[0;34m\"Please ensure the file is an accessible `.keras` \"\u001b[0m\u001b[0;34m\u001b[0m\u001b[0;34m\u001b[0m\u001b[0m\n",
            "\u001b[0;31mValueError\u001b[0m: File not found: filepath=feature_extraction_with_data_augmentation.keras. Please ensure the file is an accessible `.keras` zip file."
          ]
        }
      ]
    },
    {
      "cell_type": "code",
      "source": [
        "# p.325 코드 8-27 마지막에서 네 번째 층까지 모든 층 동결하기\n",
        "conv_base.trainable = True\n",
        "for layer in conv_base.layers[:-4]:\n",
        "    layer.trainable = False"
      ],
      "metadata": {
        "id": "NvtLFiNU7Z9R"
      },
      "execution_count": 48,
      "outputs": []
    },
    {
      "cell_type": "code",
      "source": [
        "# p.326 코드 8-28 모델 미세 조정하기\n",
        "model.compile(loss=\"binary_crossentropy\",\n",
        "              optimizer=keras.optimizers.RMSprop(learning_rate=1e-5),\n",
        "              metrics=[\"accuracy\"])\n",
        "\n",
        "callbacks = [\n",
        "    keras.callbacks.ModelCheckpoint(\n",
        "        filepath=\"fine_tuning.keras\",\n",
        "        save_best_only=True,\n",
        "        monitor=\"val_loss\")\n",
        "]\n",
        "history = model.fit(\n",
        "    train_dataset,\n",
        "    epochs=30,\n",
        "    validation_data=validation_dataset,\n",
        "    callbacks=callbacks)\n",
        "model = keras.models.load_model(\"fine_tuning.keras\")\n",
        "test_loss, test_acc = model.evaluate(test_dataset)\n",
        "print(f\"Test accuracy: {test_acc:.3f}\")"
      ],
      "metadata": {
        "colab": {
          "base_uri": "https://localhost:8080/",
          "height": 219
        },
        "id": "VUN4VfcU7jHH",
        "outputId": "07221cef-8824-4688-831e-daf56cddca89"
      },
      "execution_count": 49,
      "outputs": [
        {
          "output_type": "error",
          "ename": "NameError",
          "evalue": "name 'train_dataset' is not defined",
          "traceback": [
            "\u001b[0;31m---------------------------------------------------------------------------\u001b[0m",
            "\u001b[0;31mNameError\u001b[0m                                 Traceback (most recent call last)",
            "\u001b[0;32m<ipython-input-49-3cda276c4633>\u001b[0m in \u001b[0;36m<cell line: 0>\u001b[0;34m()\u001b[0m\n\u001b[1;32m     11\u001b[0m ]\n\u001b[1;32m     12\u001b[0m history = model.fit(\n\u001b[0;32m---> 13\u001b[0;31m     \u001b[0mtrain_dataset\u001b[0m\u001b[0;34m,\u001b[0m\u001b[0;34m\u001b[0m\u001b[0;34m\u001b[0m\u001b[0m\n\u001b[0m\u001b[1;32m     14\u001b[0m     \u001b[0mepochs\u001b[0m\u001b[0;34m=\u001b[0m\u001b[0;36m30\u001b[0m\u001b[0;34m,\u001b[0m\u001b[0;34m\u001b[0m\u001b[0;34m\u001b[0m\u001b[0m\n\u001b[1;32m     15\u001b[0m     \u001b[0mvalidation_data\u001b[0m\u001b[0;34m=\u001b[0m\u001b[0mvalidation_dataset\u001b[0m\u001b[0;34m,\u001b[0m\u001b[0;34m\u001b[0m\u001b[0;34m\u001b[0m\u001b[0m\n",
            "\u001b[0;31mNameError\u001b[0m: name 'train_dataset' is not defined"
          ]
        }
      ]
    }
  ]
}