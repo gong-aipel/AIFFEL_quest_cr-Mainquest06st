{
 "cells": [
  {
   "cell_type": "code",
   "execution_count": null,
   "id": "23a5c7dc",
   "metadata": {},
   "outputs": [],
   "source": [
    "import sklearn"
   ]
  },
  {
   "cell_type": "code",
   "execution_count": null,
   "id": "637c19e2",
   "metadata": {},
   "outputs": [],
   "source": [
    "print(sklearn.__version__)"
   ]
  },
  {
   "cell_type": "code",
   "execution_count": null,
   "id": "d2a10358",
   "metadata": {},
   "outputs": [],
   "source": [
    "# 필요한 모듈 임포트 하기"
   ]
  },
  {
   "cell_type": "code",
   "execution_count": null,
   "id": "3c0d68fa",
   "metadata": {},
   "outputs": [],
   "source": [
    "from sklearn.datasets import load_breast_cancer"
   ]
  },
  {
   "cell_type": "code",
   "execution_count": null,
   "id": "bbfa0c0c",
   "metadata": {},
   "outputs": [],
   "source": [
    "from sklearn.model_selection import train_test_split"
   ]
  },
  {
   "cell_type": "code",
   "execution_count": null,
   "id": "ac54888d",
   "metadata": {},
   "outputs": [],
   "source": [
    "from sklearn.metrics import classification_report"
   ]
  },
  {
   "cell_type": "code",
   "execution_count": null,
   "id": "a2e5a662",
   "metadata": {},
   "outputs": [],
   "source": [
    "# 데이터 준비"
   ]
  },
  {
   "cell_type": "code",
   "execution_count": null,
   "id": "051be60a",
   "metadata": {},
   "outputs": [],
   "source": [
    "load_breast_cancer = load_breast_cancer()"
   ]
  },
  {
   "cell_type": "code",
   "execution_count": null,
   "id": "9d9a4d38",
   "metadata": {},
   "outputs": [],
   "source": [
    "X, y = data.data, data.target"
   ]
  },
  {
   "cell_type": "code",
   "execution_count": null,
   "id": "b92b5971",
   "metadata": {},
   "outputs": [],
   "source": [
    "# Feature Data 지정하기, Label Data 지정하기, Target Names 출력해 보기, 데이터 Describe 해 보기"
   ]
  },
  {
   "cell_type": "code",
   "execution_count": null,
   "id": "27fbc71a",
   "metadata": {},
   "outputs": [],
   "source": [
    "# 데이터 분할"
   ]
  },
  {
   "cell_type": "code",
   "execution_count": null,
   "id": "3ee723ff",
   "metadata": {},
   "outputs": [],
   "source": [
    "X_train, X_test, y_train, y_test = train_test_split(X,y test_size=0.3, random_state=42)"
   ]
  },
  {
   "cell_type": "code",
   "execution_count": null,
   "id": "837d6ca3",
   "metadata": {},
   "outputs": [],
   "source": [
    "# 다양한 모델로 학습시키기"
   ]
  },
  {
   "cell_type": "code",
   "execution_count": null,
   "id": "9b1e0e1c",
   "metadata": {},
   "outputs": [],
   "source": [
    "# 의사결정트리 모델 import"
   ]
  },
  {
   "cell_type": "code",
   "execution_count": null,
   "id": "f0b402bd",
   "metadata": {},
   "outputs": [],
   "source": [
    "from sklearn.tree import DecisionTreeClassifier"
   ]
  },
  {
   "cell_type": "code",
   "execution_count": null,
   "id": "e55895a2",
   "metadata": {},
   "outputs": [],
   "source": [
    "decision_tree = DecisionTreeClassifier(random_state=32)"
   ]
  },
  {
   "cell_type": "code",
   "execution_count": null,
   "id": "ead1ff4d",
   "metadata": {},
   "outputs": [],
   "source": [
    "# 학습데이터 X_train, y_train으로 의사결정모델나무 학습"
   ]
  },
  {
   "cell_type": "code",
   "execution_count": null,
   "id": "7d4a92bd",
   "metadata": {},
   "outputs": [],
   "source": [
    "decision_tree.fit(X_train, y_train)"
   ]
  },
  {
   "cell_type": "code",
   "execution_count": null,
   "id": "c0f409da",
   "metadata": {},
   "outputs": [],
   "source": [
    "# randomforrest 임포트"
   ]
  },
  {
   "cell_type": "code",
   "execution_count": null,
   "id": "4800117b",
   "metadata": {},
   "outputs": [],
   "source": [
    "from sklearn.ensemble import RandomForrestClassifier"
   ]
  },
  {
   "cell_type": "code",
   "execution_count": null,
   "id": "159111c8",
   "metadata": {},
   "outputs": [],
   "source": [
    "random_forrest = RandomForrestClassifier(random_state=32)"
   ]
  },
  {
   "cell_type": "code",
   "execution_count": null,
   "id": "e3f6b2e5",
   "metadata": {},
   "outputs": [],
   "source": [
    "# 훈련시키기"
   ]
  },
  {
   "cell_type": "code",
   "execution_count": null,
   "id": "ea241aed",
   "metadata": {},
   "outputs": [],
   "source": [
    "random_forrest.fit(X_train, y_train)"
   ]
  },
  {
   "cell_type": "code",
   "execution_count": null,
   "id": "8035015c",
   "metadata": {},
   "outputs": [],
   "source": [
    "# SVM 임포트"
   ]
  },
  {
   "cell_type": "code",
   "execution_count": null,
   "id": "9b951817",
   "metadata": {},
   "outputs": [],
   "source": [
    "from sklearn import svm"
   ]
  },
  {
   "cell_type": "code",
   "execution_count": null,
   "id": "f493002a",
   "metadata": {},
   "outputs": [],
   "source": [
    "svm_model = svm.SVC()"
   ]
  },
  {
   "cell_type": "code",
   "execution_count": null,
   "id": "7b2a929c",
   "metadata": {},
   "outputs": [],
   "source": [
    "# 훈련시키기"
   ]
  },
  {
   "cell_type": "code",
   "execution_count": null,
   "id": "1749fb4c",
   "metadata": {},
   "outputs": [],
   "source": [
    "svm_model.fit(X_train, y_train)"
   ]
  },
  {
   "cell_type": "code",
   "execution_count": null,
   "id": "ce631b2f",
   "metadata": {},
   "outputs": [],
   "source": [
    "# SGD 임포트"
   ]
  },
  {
   "cell_type": "code",
   "execution_count": null,
   "id": "36206268",
   "metadata": {},
   "outputs": [],
   "source": [
    "from sklearn.linear_model import SGDClassfier"
   ]
  },
  {
   "cell_type": "code",
   "execution_count": null,
   "id": "4c22665f",
   "metadata": {},
   "outputs": [],
   "source": [
    "sgd_model = SGDClassfier()"
   ]
  },
  {
   "cell_type": "code",
   "execution_count": null,
   "id": "558b52fa",
   "metadata": {},
   "outputs": [],
   "source": [
    "# 훈련시키기"
   ]
  },
  {
   "cell_type": "code",
   "execution_count": null,
   "id": "efa67959",
   "metadata": {},
   "outputs": [],
   "source": [
    "sgd_model.fit(X_train, y_train)"
   ]
  },
  {
   "cell_type": "code",
   "execution_count": null,
   "id": "5689f71f",
   "metadata": {},
   "outputs": [],
   "source": [
    "# logistic regression 임포트"
   ]
  },
  {
   "cell_type": "code",
   "execution_count": null,
   "id": "f5f6055a",
   "metadata": {},
   "outputs": [],
   "source": [
    "from sklearn.linear_model import LogisticRegression"
   ]
  },
  {
   "cell_type": "code",
   "execution_count": null,
   "id": "04dcb32c",
   "metadata": {},
   "outputs": [],
   "source": [
    "logistic_model = LogisticRegression()"
   ]
  },
  {
   "cell_type": "code",
   "execution_count": null,
   "id": "78278093",
   "metadata": {},
   "outputs": [],
   "source": [
    "# 훈련시키기"
   ]
  },
  {
   "cell_type": "code",
   "execution_count": null,
   "id": "1e686461",
   "metadata": {},
   "outputs": [],
   "source": [
    "logistic_model.fit(X_train, y_train)"
   ]
  }
 ],
 "metadata": {
  "kernelspec": {
   "display_name": "Python 3 (ipykernel)",
   "language": "python",
   "name": "python3"
  },
  "language_info": {
   "codemirror_mode": {
    "name": "ipython",
    "version": 3
   },
   "file_extension": ".py",
   "mimetype": "text/x-python",
   "name": "python",
   "nbconvert_exporter": "python",
   "pygments_lexer": "ipython3",
   "version": "3.9.7"
  }
 },
 "nbformat": 4,
 "nbformat_minor": 5
}
