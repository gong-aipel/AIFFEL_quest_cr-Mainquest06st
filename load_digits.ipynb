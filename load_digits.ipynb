{
 "cells": [
  {
   "cell_type": "code",
   "execution_count": null,
   "id": "daea7561",
   "metadata": {},
   "outputs": [],
   "source": [
    "import sklearn"
   ]
  },
  {
   "cell_type": "code",
   "execution_count": null,
   "id": "c5af3e95",
   "metadata": {},
   "outputs": [],
   "source": [
    "print(sklearn.__version__)"
   ]
  },
  {
   "cell_type": "code",
   "execution_count": null,
   "id": "96d9ea3e",
   "metadata": {},
   "outputs": [],
   "source": [
    "# 필요한 모듈 임포트 하기"
   ]
  },
  {
   "cell_type": "code",
   "execution_count": null,
   "id": "0692f471",
   "metadata": {},
   "outputs": [],
   "source": [
    "from sklearn.datasets import load_digits"
   ]
  },
  {
   "cell_type": "code",
   "execution_count": null,
   "id": "7ff1810b",
   "metadata": {},
   "outputs": [],
   "source": [
    "from sklearn.model_selection import train_test_split"
   ]
  },
  {
   "cell_type": "code",
   "execution_count": null,
   "id": "e1b03417",
   "metadata": {},
   "outputs": [],
   "source": [
    "from sklearn.metrics import classification_report"
   ]
  },
  {
   "cell_type": "code",
   "execution_count": null,
   "id": "9ecc325e",
   "metadata": {},
   "outputs": [],
   "source": [
    "# 데이터 준비"
   ]
  },
  {
   "cell_type": "code",
   "execution_count": null,
   "id": "b787ba93",
   "metadata": {},
   "outputs": [],
   "source": [
    "data = datasets.load_digits()"
   ]
  },
  {
   "cell_type": "code",
   "execution_count": null,
   "id": "784929a6",
   "metadata": {},
   "outputs": [],
   "source": [
    "X, y = data.data, data.target"
   ]
  },
  {
   "cell_type": "code",
   "execution_count": null,
   "id": "03c6b97d",
   "metadata": {},
   "outputs": [],
   "source": [
    "# Feature Data 지정하기, Label Data 지정하기, Target Names 출력해 보기, 데이터 Describe 해 보기"
   ]
  },
  {
   "cell_type": "code",
   "execution_count": null,
   "id": "90c36664",
   "metadata": {},
   "outputs": [],
   "source": [
    "# 데이터 분할"
   ]
  },
  {
   "cell_type": "code",
   "execution_count": null,
   "id": "a16f99af",
   "metadata": {},
   "outputs": [],
   "source": [
    "X_train, X_test, y_train, y_test = train_test_split(X,y test_size=0.3, random_state=42)"
   ]
  },
  {
   "cell_type": "code",
   "execution_count": null,
   "id": "0f146cf1",
   "metadata": {},
   "outputs": [],
   "source": [
    "# 다양한 모델로 학습시키기"
   ]
  },
  {
   "cell_type": "code",
   "execution_count": null,
   "id": "3c28dcb1",
   "metadata": {},
   "outputs": [],
   "source": [
    "# 의사결정트리 모델 import"
   ]
  },
  {
   "cell_type": "code",
   "execution_count": null,
   "id": "9ed75737",
   "metadata": {},
   "outputs": [],
   "source": [
    "from sklearn.tree import DecisionTreeClassifier"
   ]
  },
  {
   "cell_type": "code",
   "execution_count": null,
   "id": "16711e2a",
   "metadata": {},
   "outputs": [],
   "source": [
    "decision_tree = DecisionTreeClassifier(random_state=32)"
   ]
  },
  {
   "cell_type": "code",
   "execution_count": null,
   "id": "f530a835",
   "metadata": {},
   "outputs": [],
   "source": [
    "# 학습데이터 X_train, y_train으로 의사결정모델나무 학습"
   ]
  },
  {
   "cell_type": "code",
   "execution_count": null,
   "id": "abad73a2",
   "metadata": {},
   "outputs": [],
   "source": [
    "decision_tree.fit(X_train, y_train)"
   ]
  },
  {
   "cell_type": "code",
   "execution_count": null,
   "id": "283c5bf7",
   "metadata": {},
   "outputs": [],
   "source": [
    "# randomforrest 임포트"
   ]
  },
  {
   "cell_type": "code",
   "execution_count": null,
   "id": "0951beb6",
   "metadata": {},
   "outputs": [],
   "source": [
    "from sklearn.ensemble import RandomForrestClassifier"
   ]
  },
  {
   "cell_type": "code",
   "execution_count": null,
   "id": "31106b9d",
   "metadata": {},
   "outputs": [],
   "source": [
    "random_forrest = RandomForrestClassifier(random_state=32)"
   ]
  },
  {
   "cell_type": "code",
   "execution_count": null,
   "id": "d3bccfd8",
   "metadata": {},
   "outputs": [],
   "source": [
    "# 훈련시키기"
   ]
  },
  {
   "cell_type": "code",
   "execution_count": null,
   "id": "0b7af410",
   "metadata": {},
   "outputs": [],
   "source": [
    "random_forrest.fit(X_train, y_train)"
   ]
  },
  {
   "cell_type": "code",
   "execution_count": null,
   "id": "c2e70e18",
   "metadata": {},
   "outputs": [],
   "source": [
    "# SVM 임포트"
   ]
  },
  {
   "cell_type": "code",
   "execution_count": null,
   "id": "7cee80d7",
   "metadata": {},
   "outputs": [],
   "source": [
    "from sklearn import svm"
   ]
  },
  {
   "cell_type": "code",
   "execution_count": null,
   "id": "a3cdbc0a",
   "metadata": {},
   "outputs": [],
   "source": [
    "svm_model = svm.SVC()"
   ]
  },
  {
   "cell_type": "code",
   "execution_count": null,
   "id": "b945b61b",
   "metadata": {},
   "outputs": [],
   "source": [
    "# 훈련시키기"
   ]
  },
  {
   "cell_type": "code",
   "execution_count": null,
   "id": "716f5e1d",
   "metadata": {},
   "outputs": [],
   "source": [
    "svm_model.fit(X_train, y_train)"
   ]
  },
  {
   "cell_type": "code",
   "execution_count": null,
   "id": "43c54944",
   "metadata": {},
   "outputs": [],
   "source": [
    "# SGD 임포트"
   ]
  },
  {
   "cell_type": "code",
   "execution_count": null,
   "id": "9f702c20",
   "metadata": {},
   "outputs": [],
   "source": [
    "from sklearn.linear_model import SGDClassfier"
   ]
  },
  {
   "cell_type": "code",
   "execution_count": null,
   "id": "6ff7c60e",
   "metadata": {},
   "outputs": [],
   "source": [
    "sgd_model = SGDClassfier()"
   ]
  },
  {
   "cell_type": "code",
   "execution_count": null,
   "id": "ac68ce14",
   "metadata": {},
   "outputs": [],
   "source": [
    "# 훈련시키기"
   ]
  },
  {
   "cell_type": "code",
   "execution_count": null,
   "id": "9a368b8e",
   "metadata": {},
   "outputs": [],
   "source": [
    "sgd_model.fit(X_train, y_train)"
   ]
  },
  {
   "cell_type": "code",
   "execution_count": null,
   "id": "c90e31ae",
   "metadata": {},
   "outputs": [],
   "source": [
    "# logistic regression 임포트"
   ]
  },
  {
   "cell_type": "code",
   "execution_count": null,
   "id": "731e25fa",
   "metadata": {},
   "outputs": [],
   "source": [
    "from sklearn.linear_model import LogisticRegression"
   ]
  },
  {
   "cell_type": "code",
   "execution_count": null,
   "id": "d59e3bb4",
   "metadata": {},
   "outputs": [],
   "source": [
    "logistic_model = LogisticRegression()"
   ]
  },
  {
   "cell_type": "code",
   "execution_count": null,
   "id": "a516a269",
   "metadata": {},
   "outputs": [],
   "source": [
    "# 훈련시키기"
   ]
  },
  {
   "cell_type": "code",
   "execution_count": null,
   "id": "4b2e9bb3",
   "metadata": {},
   "outputs": [],
   "source": [
    "logistic_model.fit(X_train, y_train)"
   ]
  }
 ],
 "metadata": {
  "kernelspec": {
   "display_name": "Python 3 (ipykernel)",
   "language": "python",
   "name": "python3"
  },
  "language_info": {
   "codemirror_mode": {
    "name": "ipython",
    "version": 3
   },
   "file_extension": ".py",
   "mimetype": "text/x-python",
   "name": "python",
   "nbconvert_exporter": "python",
   "pygments_lexer": "ipython3",
   "version": "3.9.7"
  }
 },
 "nbformat": 4,
 "nbformat_minor": 5
}
