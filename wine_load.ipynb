{
 "cells": [
  {
   "cell_type": "code",
   "execution_count": null,
   "id": "cdc66f6a",
   "metadata": {},
   "outputs": [],
   "source": [
    "import sklearn"
   ]
  },
  {
   "cell_type": "code",
   "execution_count": null,
   "id": "f3ebc6c4",
   "metadata": {},
   "outputs": [],
   "source": [
    "print(sklearn.__version__)"
   ]
  },
  {
   "cell_type": "code",
   "execution_count": null,
   "id": "f23e881a",
   "metadata": {},
   "outputs": [],
   "source": [
    "# 필요한 모듈 임포트 하기"
   ]
  },
  {
   "cell_type": "code",
   "execution_count": null,
   "id": "3aadf267",
   "metadata": {},
   "outputs": [],
   "source": [
    "from sklearn.datasets import load_wine"
   ]
  },
  {
   "cell_type": "code",
   "execution_count": null,
   "id": "1ebc7bbf",
   "metadata": {},
   "outputs": [],
   "source": [
    "from sklearn.model_selection import train_test_split"
   ]
  },
  {
   "cell_type": "code",
   "execution_count": null,
   "id": "1312f29c",
   "metadata": {},
   "outputs": [],
   "source": [
    "from sklearn.metrics import classification_report"
   ]
  },
  {
   "cell_type": "code",
   "execution_count": null,
   "id": "434701d9",
   "metadata": {},
   "outputs": [],
   "source": [
    "# 데이터 준비"
   ]
  },
  {
   "cell_type": "code",
   "execution_count": null,
   "id": "8fd8adfb",
   "metadata": {},
   "outputs": [],
   "source": [
    "wine_load = load_wine()"
   ]
  },
  {
   "cell_type": "code",
   "execution_count": null,
   "id": "f12450dd",
   "metadata": {},
   "outputs": [],
   "source": [
    "X, y = data.data, data.target"
   ]
  },
  {
   "cell_type": "code",
   "execution_count": null,
   "id": "06a36361",
   "metadata": {},
   "outputs": [],
   "source": [
    "# Feature Data 지정하기, Label Data 지정하기, Target Names 출력해 보기, 데이터 Describe 해 보기"
   ]
  },
  {
   "cell_type": "code",
   "execution_count": null,
   "id": "2cd4e2ea",
   "metadata": {},
   "outputs": [],
   "source": [
    "# 데이터 분할"
   ]
  },
  {
   "cell_type": "code",
   "execution_count": null,
   "id": "40cce4e3",
   "metadata": {},
   "outputs": [],
   "source": [
    "X_train, X_test, y_train, y_test = train_test_split(X,y test_size=0.3, random_state=42)"
   ]
  },
  {
   "cell_type": "code",
   "execution_count": null,
   "id": "a77ce346",
   "metadata": {},
   "outputs": [],
   "source": [
    "# 다양한 모델로 학습시키기"
   ]
  },
  {
   "cell_type": "code",
   "execution_count": null,
   "id": "5b6a4e37",
   "metadata": {},
   "outputs": [],
   "source": [
    "# 의사결정트리 모델 import"
   ]
  },
  {
   "cell_type": "code",
   "execution_count": null,
   "id": "d219ff19",
   "metadata": {},
   "outputs": [],
   "source": [
    "from sklearn.tree import DecisionTreeClassifier"
   ]
  },
  {
   "cell_type": "code",
   "execution_count": null,
   "id": "0814a18f",
   "metadata": {},
   "outputs": [],
   "source": [
    "decision_tree = DecisionTreeClassifier(random_state=32)"
   ]
  },
  {
   "cell_type": "code",
   "execution_count": null,
   "id": "a3b8b3ea",
   "metadata": {},
   "outputs": [],
   "source": [
    "# 학습데이터 X_train, y_train으로 의사결정모델나무 학습"
   ]
  },
  {
   "cell_type": "code",
   "execution_count": null,
   "id": "7c17093b",
   "metadata": {},
   "outputs": [],
   "source": [
    "decision_tree.fit(X_train, y_train)"
   ]
  },
  {
   "cell_type": "code",
   "execution_count": null,
   "id": "2ae73479",
   "metadata": {},
   "outputs": [],
   "source": [
    "# randomforrest 임포트"
   ]
  },
  {
   "cell_type": "code",
   "execution_count": null,
   "id": "bb2a516d",
   "metadata": {},
   "outputs": [],
   "source": [
    "from sklearn.ensemble import RandomForrestClassifier"
   ]
  },
  {
   "cell_type": "code",
   "execution_count": null,
   "id": "8d700472",
   "metadata": {},
   "outputs": [],
   "source": [
    "random_forrest = RandomForrestClassifier(random_state=32)"
   ]
  },
  {
   "cell_type": "code",
   "execution_count": null,
   "id": "3f5bfc1e",
   "metadata": {},
   "outputs": [],
   "source": [
    "# 훈련시키기"
   ]
  },
  {
   "cell_type": "code",
   "execution_count": null,
   "id": "9f5b91f4",
   "metadata": {},
   "outputs": [],
   "source": [
    "random_forrest.fit(X_train, y_train)"
   ]
  },
  {
   "cell_type": "code",
   "execution_count": null,
   "id": "fff36489",
   "metadata": {},
   "outputs": [],
   "source": [
    "# SVM 임포트"
   ]
  },
  {
   "cell_type": "code",
   "execution_count": null,
   "id": "07c86563",
   "metadata": {},
   "outputs": [],
   "source": [
    "from sklearn import svm"
   ]
  },
  {
   "cell_type": "code",
   "execution_count": null,
   "id": "7499371a",
   "metadata": {},
   "outputs": [],
   "source": [
    "svm_model = svm.SVC()"
   ]
  },
  {
   "cell_type": "code",
   "execution_count": null,
   "id": "d7c9a9f5",
   "metadata": {},
   "outputs": [],
   "source": [
    "# 훈련시키기"
   ]
  },
  {
   "cell_type": "code",
   "execution_count": null,
   "id": "a82506fd",
   "metadata": {},
   "outputs": [],
   "source": [
    "svm_model.fit(X_train, y_train)"
   ]
  },
  {
   "cell_type": "code",
   "execution_count": null,
   "id": "b0dc5c86",
   "metadata": {},
   "outputs": [],
   "source": [
    "# SGD 임포트"
   ]
  },
  {
   "cell_type": "code",
   "execution_count": null,
   "id": "88951494",
   "metadata": {},
   "outputs": [],
   "source": [
    "from sklearn.linear_model import SGDClassfier"
   ]
  },
  {
   "cell_type": "code",
   "execution_count": null,
   "id": "0604f79a",
   "metadata": {},
   "outputs": [],
   "source": [
    "sgd_model = SGDClassfier()"
   ]
  },
  {
   "cell_type": "code",
   "execution_count": null,
   "id": "c8fd26a3",
   "metadata": {},
   "outputs": [],
   "source": [
    "# 훈련시키기"
   ]
  },
  {
   "cell_type": "code",
   "execution_count": null,
   "id": "2fbb2829",
   "metadata": {},
   "outputs": [],
   "source": [
    "sgd_model.fit(X_train, y_train)"
   ]
  },
  {
   "cell_type": "code",
   "execution_count": null,
   "id": "3021265b",
   "metadata": {},
   "outputs": [],
   "source": [
    "# logistic regression 임포트"
   ]
  },
  {
   "cell_type": "code",
   "execution_count": null,
   "id": "cd1c6b9f",
   "metadata": {},
   "outputs": [],
   "source": [
    "from sklearn.linear_model import LogisticRegression"
   ]
  },
  {
   "cell_type": "code",
   "execution_count": null,
   "id": "b45be469",
   "metadata": {},
   "outputs": [],
   "source": [
    "logistic_model = LogisticRegression()"
   ]
  },
  {
   "cell_type": "code",
   "execution_count": null,
   "id": "0bfefe3e",
   "metadata": {},
   "outputs": [],
   "source": [
    "# 훈련시키기"
   ]
  },
  {
   "cell_type": "code",
   "execution_count": null,
   "id": "01c765f4",
   "metadata": {},
   "outputs": [],
   "source": [
    "logistic_model.fit(X_train, y_train)"
   ]
  }
 ],
 "metadata": {
  "kernelspec": {
   "display_name": "Python 3 (ipykernel)",
   "language": "python",
   "name": "python3"
  },
  "language_info": {
   "codemirror_mode": {
    "name": "ipython",
    "version": 3
   },
   "file_extension": ".py",
   "mimetype": "text/x-python",
   "name": "python",
   "nbconvert_exporter": "python",
   "pygments_lexer": "ipython3",
   "version": "3.9.7"
  }
 },
 "nbformat": 4,
 "nbformat_minor": 5
}
